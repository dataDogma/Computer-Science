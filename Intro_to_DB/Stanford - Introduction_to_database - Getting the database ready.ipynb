{
 "cells": [
  {
   "cell_type": "markdown",
   "metadata": {},
   "source": [
    "![Banner goes here]()"
   ]
  },
  {
   "cell_type": "markdown",
   "metadata": {},
   "source": [
    "## Using SQL in Jupyter via Sqlite\n",
    "-- --\n",
    "\n",
    "+ Use Jupyter magic command `load_ext sql` to load the sql extention.\n",
    "\n",
    "\n",
    "+ Next, we need to connect to a database, here I am using 'sqlite' database.\n",
    "\n",
    "\n",
    "+ Now, prepend `%sql` magic command to run sql queries.\n",
    "-- --\n"
   ]
  },
  {
   "cell_type": "code",
   "execution_count": 10,
   "metadata": {
    "collapsed": false
   },
   "outputs": [
    {
     "data": {
      "text/plain": [
       "'1.0.13'"
      ]
     },
     "execution_count": 10,
     "metadata": {},
     "output_type": "execute_result"
    }
   ],
   "source": [
    "import sqlalchemy\n",
    "sqlalchemy.__version__  # version check"
   ]
  },
  {
   "cell_type": "code",
   "execution_count": 12,
   "metadata": {
    "collapsed": false
   },
   "outputs": [],
   "source": [
    "# connecting to the database\n",
    "from sqlalchemy import create_engine\n",
    "engine = create_engine('sqlite:///:memory:', echo=True)"
   ]
  },
  {
   "cell_type": "markdown",
   "metadata": {},
   "source": [
    "### Test: Creating a simple table\n",
    "-- --"
   ]
  },
  {
   "cell_type": "code",
   "execution_count": 25,
   "metadata": {
    "collapsed": false
   },
   "outputs": [],
   "source": [
    "from sqlalchemy import Table, Column, Integer, String, MetaData, ForeignKey\n",
    "\n",
    "# creating a simple schema with few column and rows.\n",
    "metadata = MetaData()\n",
    "users = Table('users', metadata,\n",
    "        Column('id', Integer, primary_key=True),\n",
    "        Column('name', String),\n",
    "        Column('fullname', String),\n",
    ")"
   ]
  }
 ],
 "metadata": {
  "anaconda-cloud": {},
  "kernelspec": {
   "display_name": "Python [default]",
   "language": "python",
   "name": "python3"
  },
  "language_info": {
   "codemirror_mode": {
    "name": "ipython",
    "version": 3
   },
   "file_extension": ".py",
   "mimetype": "text/x-python",
   "name": "python",
   "nbconvert_exporter": "python",
   "pygments_lexer": "ipython3",
   "version": "3.5.2"
  }
 },
 "nbformat": 4,
 "nbformat_minor": 1
}
