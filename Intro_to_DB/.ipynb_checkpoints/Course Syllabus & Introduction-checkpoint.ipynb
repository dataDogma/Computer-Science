{
 "cells": [
  {
   "cell_type": "markdown",
   "metadata": {},
   "source": [
    "### Following is the course schedule:\n",
    "\n",
    "+ **Week 1**\n",
    "    - Introduction\n",
    "    - Relational Databases\n",
    "    - XML Data\n",
    "    - Quiz on XML data\n",
    "    - XML Vailadation\n",
    "\n",
    "\n",
    "+ **Week 2 (will be added as I progress through the course)**"
   ]
  }
 ],
 "metadata": {
  "kernelspec": {
   "display_name": "Python [default]",
   "language": "python",
   "name": "python3"
  },
  "language_info": {
   "codemirror_mode": {
    "name": "ipython",
    "version": 3
   },
   "file_extension": ".py",
   "mimetype": "text/x-python",
   "name": "python",
   "nbconvert_exporter": "python",
   "pygments_lexer": "ipython3",
   "version": "3.5.2"
  }
 },
 "nbformat": 4,
 "nbformat_minor": 1
}
