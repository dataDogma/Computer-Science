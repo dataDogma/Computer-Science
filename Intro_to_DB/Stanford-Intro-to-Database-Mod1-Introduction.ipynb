{
 "cells": [
  {
   "cell_type": "markdown",
   "metadata": {},
   "source": [
    "![Banner Here]()"
   ]
  },
  {
   "cell_type": "markdown",
   "metadata": {},
   "source": [
    "## Points of Interest\n",
    "-- --\n",
    "\n",
    "\n",
    "Database Mangement System(DBMS) provides for applications ...\n",
    "\n",
    "   _Efficient, reliable, convenient, and safe multi-user storage of and\n",
    " access to massive amount of persistent data._\n",
    "\n",
    "-- --\n",
    "**7 adjectives: **\n",
    "\n",
    "1) Massive :\n",
    "\n",
    "    \n",
    "    Can handle massive amounts of data, residing outside of memory.\n",
    "    Ex. Terabytes or Petabytes of data, In contrast, although memory is getting cheap\n",
    "    and increasing faster, the amount of data generated today is much larger and icnreasing metorically.\n",
    "      \n",
    "\n",
    "2) Persistent :\n",
    "\n",
    "    Data in DB outlives the programs that execute on that data. Ex. A computer program when compiled create variables, attributes and objects etc. Once the program has finished executing all the data residing in an computer program get purged out of the physical memory,\n",
    "    \n",
    "    Whereas, data in a DB is \"persistent\" i.e. it get's \"stored\" in the physical memory so that it could be \"accessed later\"\n",
    "\n",
    "\n",
    "3) Safe :\n",
    "\n",
    "    Threats to DB are \"non-deterministic\", like:\n",
    "    \n",
    "    + Hardware and Software failure.\n",
    "    \n",
    "    + Power Outages.\n",
    "    \n",
    "    + Malicious Users etc.\n",
    "    \n",
    "    In all of such situations you don't want your \"precious data\", say bank balance to change!\n",
    "    \n",
    "\n",
    "4) Multi-user :\n",
    "\n",
    "\n",
    "    Multiple applications( computer programs ) access can access a single DB, implying multiple users using such applications are trying to access a DB. In such situations, we don't want the following:\n",
    "      \n",
    "      + Multiple users overwriting the content within DB.\n",
    "   \n",
    "      + Granting access to a subset of users or say a single users to have \"exclusive\" access to data, unless you are a database administrator.\n",
    "      \n",
    "      + Consequently, this will abase the perfromance.\n",
    "\n",
    "\n",
    "    To deal with such situations, a meachanism called \"concurrency control\" is used, implying that \"control should actually occur at the level of data items in the DB\".\n",
    "      \n",
    "\n",
    "5) Convenient :\n",
    "\n",
    "    Since data is massive in scale, we would like to \"easily\" work through such data, through powerful processing power.\n",
    "      \n",
    "    To deal with such issues, it so happens to be at couple of levels:\n",
    "      \n",
    "      \n",
    "      + A notion of \"Physical Data Independence\", implying, \"the way data is stored and laid out on the physical memory is independent, of the way a program interpret the structure of the data\".\n",
    "      \n",
    "      + Consequently, need to have some form of \"declaratives\" procedures, compact high level query languages.\n",
    "      \n",
    "\n",
    "\n",
    "    \n",
    "\n",
    "    \n",
    "\n",
    "6. Efficient\n",
    "\n",
    "7. Reliable"
   ]
  },
  {
   "cell_type": "code",
   "execution_count": null,
   "metadata": {
    "collapsed": true
   },
   "outputs": [],
   "source": []
  }
 ],
 "metadata": {
  "kernelspec": {
   "display_name": "Python [default]",
   "language": "python",
   "name": "python3"
  },
  "language_info": {
   "codemirror_mode": {
    "name": "ipython",
    "version": 3
   },
   "file_extension": ".py",
   "mimetype": "text/x-python",
   "name": "python",
   "nbconvert_exporter": "python",
   "pygments_lexer": "ipython3",
   "version": "3.5.2"
  }
 },
 "nbformat": 4,
 "nbformat_minor": 1
}
