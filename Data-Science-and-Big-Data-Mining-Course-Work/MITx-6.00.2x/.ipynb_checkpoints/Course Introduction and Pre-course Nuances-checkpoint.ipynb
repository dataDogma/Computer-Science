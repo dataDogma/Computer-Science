{
 "cells": [
  {
   "cell_type": "markdown",
   "metadata": {},
   "source": [
    "## Course Motivation\n",
    "-- --\n",
    "\n",
    "**This is a hard course. It is easy to get discouraged, but don’t!**\n",
    "\n",
    "As you will notice from the first assignment, there are many components and in order to successfully complete all parts, you have to:\n",
    "\n",
    "\n",
    "+ understand the relevant subtleties of the Python language\n",
    "    \n",
    "+ critically think about approaches to solve the problem\n",
    "\n",
    "+ have good time management skills\n",
    "\n",
    "+ pay close attention to deadlines\n",
    "\n",
    "-- --\n",
    "\n",
    "**We encourage research and independent learning.**\n",
    "\n",
    "This goes back to keeping this course on par with the MIT campus one. Independent research comes in many forms. But ultimately, it comes down to paying attention, repetition of the concepts, and practice practice practice! Your research can be done in many forms:\n",
    "\n",
    "+ try out code in your Python development environment (Anaconda, Canopy, IDLE, or whatever)\n",
    "\n",
    "\n",
    "+ read the Python documentation or other Python tutorials\n",
    "    \n",
    "    \n",
    "+ use a paper and pencil to sketch out solutions\n",
    "\n",
    "\n",
    "+ if you have the textbook, read the relevant sections\n",
    "\n",
    "\n",
    "+  post to the forums (or any of our social media platforms)\n",
    "\n",
    "-- --\n",
    "\n",
    "**This course does not aim to just teach ADVANCED programming.**\n",
    "\n",
    "We are all here to learn computer science.\n",
    "\n",
    "Be it from the videos, the exercises, or each other – we distinguish this course from other introductory computer science courses because of the **accelerated pace and focus on students critically thinking about problems.** We will stress practice as a very important part of learning. Start early and do little bits of exercises every day (during lunch breaks, 10 mins of goofing around on the Python shell every now and then, taking a piece of paper and a pen to your kid's soccer game, whatever), the material starts to seep in. **This type of learning is highly encouraged.**"
   ]
  }
 ],
 "metadata": {
  "anaconda-cloud": {},
  "kernelspec": {
   "display_name": "Python [default]",
   "language": "python",
   "name": "python3"
  },
  "language_info": {
   "codemirror_mode": {
    "name": "ipython",
    "version": 3
   },
   "file_extension": ".py",
   "mimetype": "text/x-python",
   "name": "python",
   "nbconvert_exporter": "python",
   "pygments_lexer": "ipython3",
   "version": "3.5.2"
  }
 },
 "nbformat": 4,
 "nbformat_minor": 1
}
