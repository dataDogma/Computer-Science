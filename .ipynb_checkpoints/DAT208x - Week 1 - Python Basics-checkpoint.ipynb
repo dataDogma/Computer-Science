{
 "cells": [
  {
   "cell_type": "markdown",
   "metadata": {},
   "source": [
    "## Lecture : Hello Python!\n",
    "-- -- \n",
    "\n",
    "+ **[RQ-1]** : Which of the following statements is correct?\n",
    "\n",
    "    **Ans:** _The Ipython Shell is typically used to work with Python interactively_.\n",
    "\n",
    "\n",
    "+ **[RQ-2]** : Which file extension is used for Python script files?**\n",
    "\n",
    "    **Ans:** .py\n",
    "\n",
    "\n",
    "+ **[RQ-3]** : You need to print the result of adding 3 and 4 inside a script. Which line of code should you write in the script?\n",
    "    \n",
    "    **Ans:** print(int x + int y)\n",
    "-- --"
   ]
  },
  {
   "cell_type": "markdown",
   "metadata": {},
   "source": [
    "## Lab : Hello Python!\n",
    "-- --\n",
    "\n",
    "Objective :\n",
    "\n",
    "+ How to work with Ipython shell.\n",
    "+ Writing python scripts.\n",
    "\n",
    "-- --"
   ]
  },
  {
   "cell_type": "code",
   "execution_count": 1,
   "metadata": {
    "collapsed": false
   },
   "outputs": [
    {
     "name": "stdout",
     "output_type": "stream",
     "text": [
      "0.625\n",
      "17\n"
     ]
    }
   ],
   "source": [
    "# working with print function\n",
    "print(5 / 8)\n",
    "\n",
    "# Add another print function on new line\n",
    "print(7 + 10)"
   ]
  },
  {
   "cell_type": "code",
   "execution_count": null,
   "metadata": {
    "collapsed": true
   },
   "outputs": [],
   "source": []
  }
 ],
 "metadata": {
  "anaconda-cloud": {},
  "kernelspec": {
   "display_name": "Python [default]",
   "language": "python",
   "name": "python3"
  },
  "language_info": {
   "codemirror_mode": {
    "name": "ipython",
    "version": 3
   },
   "file_extension": ".py",
   "mimetype": "text/x-python",
   "name": "python",
   "nbconvert_exporter": "python",
   "pygments_lexer": "ipython3",
   "version": "3.5.2"
  }
 },
 "nbformat": 4,
 "nbformat_minor": 1
}
