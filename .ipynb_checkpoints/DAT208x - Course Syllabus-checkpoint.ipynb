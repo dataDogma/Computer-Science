{
 "cells": [
  {
   "cell_type": "markdown",
   "metadata": {},
   "source": [
    "# DAT208x: Introduction to Python for Data Science  \n",
    "-- --\n",
    "\n",
    "**Course Prerequisites**\n",
    "\n",
    "None, but previous experience in basic mathematics is helpful.  \n",
    "  \n",
    "**Course Schedule**\n",
    "\n",
    "This course is available in self-paced format. The deadlines associated with the graded quizzes and labs are set to the end date of the course, which is displayed on the course Home page. You can listen to the lecture, attempt the quizzes, and work on the labs exercises at any time prior to the deadline. You should complete the quizzes/labs on your own to fully learn the material before you start the next module.\n",
    "\n",
    "**Course Topics**\n",
    "\n",
    "_Module 1: Python Basics_\n",
    "\n",
    "Take your first steps in the world of Python. Discover the different data types and create your first variable.\n",
    "\n",
    "_Module 2: Python Lists_\n",
    "\n",
    "Get the know the first way to store many different data points under a single name. Create, subset and manipulate Lists in all sorts of ways.\n",
    "\n",
    "_Module 3: Functions and Packages_\n",
    "\n",
    "Learn how to get the most out of other people's efforts by importing Python packages and calling functions.\n",
    "\n",
    "_Module 4: Numpy_\n",
    "\n",
    "Write superfast code with Numerical Python, a package to efficiently store and do calculations with huge amounts of data.\n",
    "\n",
    "_Module 5: Matplotlib_\n",
    "Create different types of visualizations depending on the message you want to convey. Learn how to build complex and customized plots based on real data.\n",
    "\n",
    "_Module 6: Control flow and Pandas_\n",
    "\n",
    "Write conditional constructs to tweak the execution of your scripts and get to know the Pandas DataFrame:  the key data structure for Data Science in Python.\n",
    "-- --"
   ]
  }
 ],
 "metadata": {
  "anaconda-cloud": {},
  "kernelspec": {
   "display_name": "Python [default]",
   "language": "python",
   "name": "python3"
  },
  "language_info": {
   "codemirror_mode": {
    "name": "ipython",
    "version": 3
   },
   "file_extension": ".py",
   "mimetype": "text/x-python",
   "name": "python",
   "nbconvert_exporter": "python",
   "pygments_lexer": "ipython3",
   "version": "3.5.2"
  }
 },
 "nbformat": 4,
 "nbformat_minor": 1
}
