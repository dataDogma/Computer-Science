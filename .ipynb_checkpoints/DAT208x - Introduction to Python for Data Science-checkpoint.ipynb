{
 "cells": [
  {
   "cell_type": "markdown",
   "metadata": {},
   "source": [
    "![Start of something new](http://www.accesspay.eu/img/polygon/polygon-banner3.png)\n",
    "\n",
    "## Course Objective: \n",
    "\n",
    "-- --\n",
    "\n",
    "+ Python language funadmentals: basic syntax, variables, and types.\n",
    "\n",
    "+ Create and manipulate regular Python lists.\n",
    "\n",
    "+ Use functions andimport packages.\n",
    "\n",
    "+ Build Numpy array and perform interesting calculations.\n",
    "\n",
    "+ Create and customize plots on real data.\n",
    "\n",
    "+ Use control flow and get to know the Pandas data frame.\n"
   ]
  },
  {
   "cell_type": "markdown",
   "metadata": {},
   "source": [
    "## About:\n",
    "-- --\n",
    "\n",
    "+ Course has 6 modules, each covering Python baiscs.\n",
    "+ Starting with basic arithematic and variables.\n",
    "+ Data structures -- Python lists, Numpy arrays & Pandas dataframes.\n",
    "+ Python functions & Control flow.\n",
    "+ Data Visualization.\n",
    "+ Working on real datasets.\n",
    "\n",
    "### Further,\n",
    "\n",
    "+ Each module contains quiz, lab sessions.\n"
   ]
  },
  {
   "cell_type": "markdown",
   "metadata": {},
   "source": [
    "## Course Schedule\n",
    "-- --\n",
    "\n",
    "1. It's a self paced course.\n",
    "2. By default a deadline of 4 weeks.\n",
    "3. Quizzes -- 30% of total grade.\n",
    "4. Lab exercise -- 65% of total grade.\n",
    "5. Survey -- 5%\n",
    "6. To pass -- 70% of total grade\n",
    "\n"
   ]
  },
  {
   "cell_type": "code",
   "execution_count": null,
   "metadata": {
    "collapsed": true
   },
   "outputs": [],
   "source": []
  }
 ],
 "metadata": {
  "anaconda-cloud": {},
  "kernelspec": {
   "display_name": "Python [default]",
   "language": "python",
   "name": "python3"
  },
  "language_info": {
   "codemirror_mode": {
    "name": "ipython",
    "version": 3
   },
   "file_extension": ".py",
   "mimetype": "text/x-python",
   "name": "python",
   "nbconvert_exporter": "python",
   "pygments_lexer": "ipython3",
   "version": "3.5.2"
  }
 },
 "nbformat": 4,
 "nbformat_minor": 1
}
