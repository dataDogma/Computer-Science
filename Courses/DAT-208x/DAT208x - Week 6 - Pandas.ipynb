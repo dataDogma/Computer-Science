{
 "cells": [
  {
   "cell_type": "markdown",
   "metadata": {},
   "source": [
    "### [Table of Content](#Table-of-Content)\n",
    "\n",
    "+ [Overviw](#Overview)\n",
    "\n",
    "+ [Accessing Rows](#Accessing-Rows:)\n",
    "\n",
    "+ [Element Access](#Element-Access)\n",
    "\n",
    "+ [Lab](#Lab:)\n",
    "-- --\n",
    "\n",
    "**Overview:**\n",
    "\n",
    "Being a data scientist means, we gotta have to work with \"big\" data with different types.\n",
    "\n",
    "We've seen how 2D Numpy arrays gives us power to compute data in a much efficient way, but the only downside to it is, they must be of the same type.\n",
    "\n",
    "To solve this issue, ther's where the _Pandas_ package comes in. So what's in Pandas?\n",
    "\n",
    "+ High-level data manupalation.\n",
    "\n",
    "\n",
    "+ The concept of \"Data Frames\" objects.\n",
    "\n",
    "    - Data is stored in such data frames.\n",
    "\n",
    "\n",
    "+ More specifically, they are tables,\n",
    "\n",
    "    - with \"rows\" represented as \"observations\".\n",
    "    \n",
    "    - \"Coloumns\" represented by \"variables\".\n",
    "    \n",
    "    - Each row has a unique label, same goes for coloumns as well.\n",
    "    \n",
    "    - Coloumns can have different types.\n",
    "    \n",
    "    \n",
    "+ We typically don't make data frames manually.\n",
    "\n",
    "    - We convert `.csv` (Comma seperated values) files to `data frames`.\n",
    "    \n",
    "    - We do this importing the pandas package:\n",
    "    \n",
    "    `import pandas as pd`, again `pd` is an \"alias\".\n",
    "    \n",
    "    - Now we can use a built-in function that comes packaged with pandas called as:\n",
    "    \n",
    "    `read_csv(<path to .csv file)`>\n",
    "    \n",
    "-- --\n",
    "\n",
    "**Example:**\n",
    "\n",
    "We will be using pandas package to import, read in the \"brics dataset\" into python, let's look how the dataframes look like:"
   ]
  },
  {
   "cell_type": "code",
   "execution_count": 7,
   "metadata": {
    "collapsed": false
   },
   "outputs": [
    {
     "data": {
      "text/html": [
       "<div>\n",
       "<table border=\"1\" class=\"dataframe\">\n",
       "  <thead>\n",
       "    <tr style=\"text-align: right;\">\n",
       "      <th></th>\n",
       "      <th>Original Principal Amount</th>\n",
       "      <th>Effective Date (Most Recent)</th>\n",
       "    </tr>\n",
       "    <tr>\n",
       "      <th>Country</th>\n",
       "      <th></th>\n",
       "      <th></th>\n",
       "    </tr>\n",
       "  </thead>\n",
       "  <tbody>\n",
       "    <tr>\n",
       "      <th>China</th>\n",
       "      <td>$48185147142.81</td>\n",
       "      <td>430</td>\n",
       "    </tr>\n",
       "    <tr>\n",
       "      <th>South Africa</th>\n",
       "      <td>$4052800000.00</td>\n",
       "      <td>14</td>\n",
       "    </tr>\n",
       "    <tr>\n",
       "      <th>Russian Federation</th>\n",
       "      <td>$14451100000.00</td>\n",
       "      <td>84</td>\n",
       "    </tr>\n",
       "    <tr>\n",
       "      <th>Brazil</th>\n",
       "      <td>$59782439627.00</td>\n",
       "      <td>448</td>\n",
       "    </tr>\n",
       "    <tr>\n",
       "      <th>India</th>\n",
       "      <td>$55556320000.00</td>\n",
       "      <td>295</td>\n",
       "    </tr>\n",
       "  </tbody>\n",
       "</table>\n",
       "</div>"
      ],
      "text/plain": [
       "                   Original Principal Amount  Effective Date (Most Recent)\n",
       "Country                                                                   \n",
       "China                        $48185147142.81                           430\n",
       "South Africa                  $4052800000.00                            14\n",
       "Russian Federation           $14451100000.00                            84\n",
       "Brazil                       $59782439627.00                           448\n",
       "India                        $55556320000.00                           295"
      ]
     },
     "execution_count": 7,
     "metadata": {},
     "output_type": "execute_result"
    }
   ],
   "source": [
    "# import the pandas package\n",
    "import pandas as pd\n",
    "\n",
    "# load in the dataset and save it to brics var.\n",
    "brics = pd.read_csv(\"C:/Users/pySag/Documents/GitHub/Computer-Science/Courses/DAT-208x/Datasets/BRICS_cummulative.csv\")\n",
    "\n",
    "brics\n",
    "\n",
    "# we can make the table look more better, by adding a parameter index_col = 0\n",
    "brics = pd.read_csv(\"C:/Users/pySag/Documents/GitHub/Computer-Science/Courses/DAT-208x/Datasets/BRICS_cummulative.csv\", index_col=0)\n",
    "\n",
    "brics #notice how the indexes assigned to row observation are now deprecated."
   ]
  },
  {
   "cell_type": "markdown",
   "metadata": {},
   "source": [
    "One of the most effective use of pandas is the ease at which we can select rows and coloumns in different ways, here's how we do it:\n",
    "\n",
    "+ To access the coloumns, there are three different ways we can do it, these are:\n",
    "\n",
    "    1. `data_set_var[ \"coloumn-name\" ]`\n",
    "    2. `< data_set_var >.< coloumn-name >`\n",
    "    \n",
    "    \n",
    "+ We can add coloumns too, say we rank them:\n",
    "\n",
    "    `<data_set_var>[\"new-coloumn-name\"] = < list of values >`"
   ]
  },
  {
   "cell_type": "code",
   "execution_count": 9,
   "metadata": {
    "collapsed": false
   },
   "outputs": [
    {
     "data": {
      "text/html": [
       "<div>\n",
       "<table border=\"1\" class=\"dataframe\">\n",
       "  <thead>\n",
       "    <tr style=\"text-align: right;\">\n",
       "      <th></th>\n",
       "      <th>Original Principal Amount</th>\n",
       "      <th>Effective Date (Most Recent)</th>\n",
       "      <th>on_earth</th>\n",
       "    </tr>\n",
       "    <tr>\n",
       "      <th>Country</th>\n",
       "      <th></th>\n",
       "      <th></th>\n",
       "      <th></th>\n",
       "    </tr>\n",
       "  </thead>\n",
       "  <tbody>\n",
       "    <tr>\n",
       "      <th>China</th>\n",
       "      <td>$48185147142.81</td>\n",
       "      <td>430</td>\n",
       "      <td>True</td>\n",
       "    </tr>\n",
       "    <tr>\n",
       "      <th>South Africa</th>\n",
       "      <td>$4052800000.00</td>\n",
       "      <td>14</td>\n",
       "      <td>True</td>\n",
       "    </tr>\n",
       "    <tr>\n",
       "      <th>Russian Federation</th>\n",
       "      <td>$14451100000.00</td>\n",
       "      <td>84</td>\n",
       "      <td>True</td>\n",
       "    </tr>\n",
       "    <tr>\n",
       "      <th>Brazil</th>\n",
       "      <td>$59782439627.00</td>\n",
       "      <td>448</td>\n",
       "      <td>True</td>\n",
       "    </tr>\n",
       "    <tr>\n",
       "      <th>India</th>\n",
       "      <td>$55556320000.00</td>\n",
       "      <td>295</td>\n",
       "      <td>True</td>\n",
       "    </tr>\n",
       "  </tbody>\n",
       "</table>\n",
       "</div>"
      ],
      "text/plain": [
       "                   Original Principal Amount  Effective Date (Most Recent)  \\\n",
       "Country                                                                      \n",
       "China                        $48185147142.81                           430   \n",
       "South Africa                  $4052800000.00                            14   \n",
       "Russian Federation           $14451100000.00                            84   \n",
       "Brazil                       $59782439627.00                           448   \n",
       "India                        $55556320000.00                           295   \n",
       "\n",
       "                   on_earth  \n",
       "Country                      \n",
       "China                  True  \n",
       "South Africa           True  \n",
       "Russian Federation     True  \n",
       "Brazil                 True  \n",
       "India                  True  "
      ]
     },
     "execution_count": 9,
     "metadata": {},
     "output_type": "execute_result"
    }
   ],
   "source": [
    "# Add a new coloumn\n",
    "brics[\"on_earth\"] = [ True, True, True, True, True ]\n",
    "\n",
    "# Print them\n",
    "brics"
   ]
  },
  {
   "cell_type": "code",
   "execution_count": 1,
   "metadata": {
    "collapsed": false
   },
   "outputs": [
    {
     "data": {
      "text/plain": [
       "'Coloumns can be manipulated using arithematic operations\\non other coloumns'"
      ]
     },
     "execution_count": 1,
     "metadata": {},
     "output_type": "execute_result"
    }
   ],
   "source": [
    "# Manupalating Coloumns\n",
    "\"\"\"Coloumns can be manipulated using arithematic operations\n",
    "on other coloumns\"\"\""
   ]
  },
  {
   "cell_type": "markdown",
   "metadata": {},
   "source": [
    "### Accessing Rows:\n",
    "-- --\n",
    "\n",
    "\n",
    "**Syntax: **`dataframe.loc[ <\"row name\"> ]`\n",
    "-- --\n",
    "**Go to top:**[TOC](#Table-of-Content)\n",
    "\n",
    "### Element access\n",
    "-- --\n",
    "\n",
    "To get just one element in the table, we can specify both coloumn and row label in the `loc()`.\n",
    "\n",
    "**Syntax:** \n",
    "\n",
    "1. `dataframe.loc[ <\"row-name, coloumn name\"> ]`\n",
    "\n",
    "2. `dataframe[ <\"row-name\"> ].loc[ <\"coloumn-name\"> ]`\n",
    "3. `dataframe.loc[ <\"rowName'> ][< \"coloumnName\" >]`\n",
    "\n"
   ]
  },
  {
   "cell_type": "markdown",
   "metadata": {},
   "source": [
    "## Lab:\n",
    "-- --\n",
    "\n",
    "**Objective:**\n",
    "\n",
    "+ Practice importing data into python as Pandas DataFrame.\n",
    "\n",
    "+ Practise accessig Row and Coloumns\n",
    "-- --\n",
    "\n",
    "### Lab content:\n",
    "\n",
    "+ [CSV to DataFrame1](#CSV-to-DataFrame1)\n",
    "\n",
    "\n",
    "+ [CSV to DataFrame2](#CSV-to-DataFrame2)\n",
    "\n",
    "\n",
    "+ [Square Brackets](#Square-Brackets)\n",
    "\n",
    "\n",
    "+ [Loc1](#Loc1)\n",
    "\n",
    "\n",
    "+ [Loc2](#Loc2)\n",
    "-- --\n",
    "**Go to:**[TOC](#Table-of-Content)"
   ]
  },
  {
   "cell_type": "markdown",
   "metadata": {},
   "source": [
    "### CSV to DataFrame1\n",
    "-- --\n",
    "\n",
    "**Preface:**\n",
    "\n",
    "The DataFrame is one of Pandas' most important data structures. It's basically a way to store tabular data, where you can label the rows and the columns.\n",
    "\n",
    "In the exercises that follow, you will be working wit vehicle data in different countries. Each observation corresponds to a country, and the columns give information about the number of vehicles per capita, whether people drive left or right, and so on. This data is available in a CSV file, named cars.csv. It is available in your current working directory, so the path to the file is simply 'cars.csv'.\n",
    "\n",
    "To import CSV data into Python as a Pandas DataFrame, you can use read_csv().\n",
    "\n",
    "**Instructions:**\n",
    "\n",
    "+ To import CSV files, you still need the pandas package: import it as pd.\n",
    "\n",
    "+ Use pd.read_csv() to import cars.csv data as a DataFrame. Store this dataframe as cars.\n",
    "\n",
    "+ Print out cars. Does everything look OK?\n"
   ]
  },
  {
   "cell_type": "code",
   "execution_count": null,
   "metadata": {
    "collapsed": true
   },
   "outputs": [],
   "source": [
    "\"\"\"\n",
    "# Import pandas as pd\n",
    "import pandas as pd\n",
    "\n",
    "# Import the cars.csv data: cars\n",
    "cars = pd.read_csv(\"cars.csv\")\n",
    "\n",
    "# Print out cars\n",
    "print(cars)\n",
    "\"\"\""
   ]
  },
  {
   "cell_type": "markdown",
   "metadata": {},
   "source": [
    "### CSV to DataFrame2\n",
    "-- --\n",
    "**Preface:**\n",
    "\n",
    "We have a slight of a problem, the row labels are imported as another coloumn, that has no name.\n",
    "\n",
    "To fix this issue, we are goint to pass an argument `index_col = 0` to `read_csv()`. This is used to specify which coloumn in the CSV file should be used as row label?\n",
    "\n",
    "**Instructions:**\n",
    "\n",
    "1. Run the code with Submit Answer and assert that the first column should actually be used as row labels.\n",
    "\n",
    "2. Specify the `index_col` argument inside `pd.read_csv()`: set it to `0`, so that the first column is used as row labels.\n",
    "\n",
    "3. Has the printout of cars improved now?\n",
    "-- --\n",
    "**Go to top:**[TOC](#Table-of-Content)"
   ]
  },
  {
   "cell_type": "code",
   "execution_count": 3,
   "metadata": {
    "collapsed": false
   },
   "outputs": [
    {
     "data": {
      "text/plain": [
       "'\\n# Import pandas as pd\\nimport pandas as pd\\n\\n# Import the cars.csv data: cars\\ncars = pd.read_csv(\"cars.csv\", index_col=0)\\n\\n# Print out cars\\nprint(cars)\\n'"
      ]
     },
     "execution_count": 3,
     "metadata": {},
     "output_type": "execute_result"
    }
   ],
   "source": [
    "\"\"\"\n",
    "# Import pandas as pd\n",
    "import pandas as pd\n",
    "\n",
    "# Import the cars.csv data: cars\n",
    "cars = pd.read_csv(\"cars.csv\", index_col=0)\n",
    "\n",
    "# Print out cars\n",
    "print(cars)\n",
    "\"\"\""
   ]
  },
  {
   "cell_type": "markdown",
   "metadata": {},
   "source": [
    "### Square Brackets\n",
    "-- --\n",
    "**Preface**\n",
    "\n",
    "Selecting coloumns can be done in two way.\n",
    "\n",
    "1. `variable_containing_CSV_file['coloumn-name']`\n",
    "\n",
    "2. `variable_containing_CSV_file[['coloumn-name']]`\n",
    "\n",
    "\n",
    "The former gives a _pandas series_, whereas the latter gives a _pandas dataframe_.\n",
    "\n",
    "**Instructions:**\n",
    "\n",
    "+ Use single square brackets to print out the `country` column of `cars` as a Pandas Series.\n",
    "\n",
    "+ Use double square brackets to print out the `country` column of `cars` as a Pandas DataFrame. Do this by putting `country` in two square brackets this time."
   ]
  },
  {
   "cell_type": "code",
   "execution_count": null,
   "metadata": {
    "collapsed": true
   },
   "outputs": [],
   "source": [
    "\"\"\"\n",
    "# Import cars data\n",
    "import pandas as pd\n",
    "cars = pd.read_csv('cars.csv', index_col = 0)\n",
    "\n",
    "# Print out country column as Pandas Series\n",
    "print( cars['country'])\n",
    "\n",
    "# Print out country column as Pandas DataFrame\n",
    "print( cars[['country']])\n",
    "\"\"\""
   ]
  },
  {
   "cell_type": "markdown",
   "metadata": {},
   "source": [
    "### Loc1\n",
    "-- --\n",
    "\n",
    "With `loc` we can do practically any data selection operation on DataFrames you can think of.\n",
    "\n",
    "`loc` is **label-based**, which means that you have to specify rows and coloumns based on their row and coloumn labels.\n",
    "\n",
    "**Instructions:**\n",
    "\n",
    "+ Use `loc` to select the observation corresponding to Japan as a Series. The label of this row is `JAP`. Make sure to print the resulting Series.\n",
    "\n",
    "\n",
    "+ Use `loc` to select the observations for Australia and Egypt as a DataFrame."
   ]
  },
  {
   "cell_type": "code",
   "execution_count": null,
   "metadata": {
    "collapsed": true
   },
   "outputs": [],
   "source": [
    "\"\"\"\n",
    "# Import cars data\n",
    "import pandas as pd\n",
    "cars = pd.read_csv('cars.csv', index_col = 0)\n",
    "\n",
    "# Print out observation for Japan\n",
    "print( cars.loc['JAP'] )\n",
    "\n",
    "# Print out observations for Australia and Egypt\n",
    "print( cars.loc[ ['AUS', 'EG'] ])\n",
    "\"\"\""
   ]
  },
  {
   "cell_type": "markdown",
   "metadata": {},
   "source": [
    "### Loc2\n",
    "-- --\n",
    "\n",
    "`loc` also allows us to select both, rows and coloumns from a DataFrame.\n",
    "\n",
    "**Instructions: **\n",
    "\n",
    "+ Print out the `drives_right` value of the row corresponding to Morocco (its row label is `MOR`)\n",
    "\n",
    "\n",
    "+ Print out a sub-DataFrame, containing the observations for Russia and Morocco and the columns `country` and `drives_right`."
   ]
  }
 ],
 "metadata": {
  "anaconda-cloud": {},
  "kernelspec": {
   "display_name": "Python [default]",
   "language": "python",
   "name": "python3"
  },
  "language_info": {
   "codemirror_mode": {
    "name": "ipython",
    "version": 3
   },
   "file_extension": ".py",
   "mimetype": "text/x-python",
   "name": "python",
   "nbconvert_exporter": "python",
   "pygments_lexer": "ipython3",
   "version": "3.5.2"
  }
 },
 "nbformat": 4,
 "nbformat_minor": 1
}
