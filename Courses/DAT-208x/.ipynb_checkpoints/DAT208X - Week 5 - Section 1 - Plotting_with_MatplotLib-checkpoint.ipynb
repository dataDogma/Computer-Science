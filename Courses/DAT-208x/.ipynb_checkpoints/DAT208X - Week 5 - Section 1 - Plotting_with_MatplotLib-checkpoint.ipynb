{
 "cells": [
  {
   "cell_type": "markdown",
   "metadata": {
    "collapsed": true
   },
   "source": [
    "![Banner here]()"
   ]
  },
  {
   "cell_type": "markdown",
   "metadata": {},
   "source": [
    "## Table of Content\n",
    "-- --\n",
    "\n",
    "[Why Visualization is important](#Why-visualization-is-important?)\n",
    "\n",
    "+ [Exercise 1](#Exercise-1)\n",
    "\n",
    "\n",
    "+ [Lab: Section 1](#Lab-1)\n",
    "\n",
    "    - [Line plot 1](#Line-Plot-1)\n",
    "\n",
    "    - [Line plot 2](#Interpreatation)\n",
    "\n",
    "    - [Line plot 3](#Line-plot-3)\n",
    "\n",
    "    - [Scatter Plot 1](#Scatter-Plot-1)\n",
    "\n",
    "    - [Scatter Plot 2](#Scatter-Plot-2)\n",
    "\n",
    "\n",
    "[Histograms](#Histograms)\n",
    "\n",
    "\n",
    "+ [Creating Histograms with Matplotlib](#Creating-Histograms-with-Matplotlib)\n",
    "\n",
    "+ [Exercise 2](#Exercise-2)\n",
    "\n",
    "+ [Lab: Histograms](#Lab-histograms)\n",
    "\n",
    "    - [Build a histogram 1.](#Build-a-histogram-1.)\n",
    "    \n",
    "    - [Build a histogram 2 : bins](#Build-a-histogram-2-:-bins)\n",
    "    \n",
    "    - [Build a histogram 3 : compare](#Build-a-histogram-3-:-compare)\n",
    "    \n",
    "    - [Choose the right plot 1](#Choose-the-right-plot-1)"
   ]
  },
  {
   "cell_type": "markdown",
   "metadata": {},
   "source": [
    "# Why visualization is important?\n",
    "-- --\n",
    "There are many reasons to why _data visualization_ is important, nevertheless some of the important ones are as follows:\n",
    "\n",
    "1. For better understanding of the data in question.\n",
    "\n",
    "2. For sharing the insights with others.\n",
    "\n",
    "3. For effectively communicating results to the non-technical masses as well.\n",
    "-- --\n",
    "\n",
    "Hence python offers a package called, \"Matplotlib\", a data visualization package.\n",
    "\n",
    "let's see some help on matplotlib, but before we proceed with that, we have to first import the package.\n",
    "\n",
    "Further there are dozens of sub-packages associated with Matplotlib, hence the ones used here are some of the common ones, these are:\n",
    "\n",
    "1. `.pyplot()`\n",
    "2. `.scatter()`\n",
    "-- --\n",
    "\n",
    "**Importing convention:**\n",
    "\n",
    "`import matplotlib.pyplot as plt`\n",
    "\n",
    "Note: _plt_ is an _alias_ and not be confused by it.\n",
    "-- --"
   ]
  },
  {
   "cell_type": "markdown",
   "metadata": {},
   "source": [
    "## Exercise 1\n",
    "-- --\n",
    "\n",
    "**RQ1: **_\n",
    "What is the characteristic about data visualization?_\n",
    "\n",
    "**Ans: ** Visualization is a very powerful tool for exploring your data and reporting results. \n",
    "-- --\n",
    "\n",
    "**RQ2: **_What is the conventional way of importing the pyplot sub-package from the matplotlib package?_\n",
    "\n",
    "**Ans: **`import matplotlib.pyplot as plt`\n",
    "-- --\n",
    "\n",
    "**RQ3: **You are creating a line plot using the following code:\n",
    "\n",
    "```\n",
    "        a = [1, 2, 3, 4]\n",
    "        b = [3, 9, 2, 6]\n",
    "        plt.plot(a, b)\n",
    "        plt.show()```\n",
    "    \n",
    "_ \n",
    "Which two options describe the result of your code?_\n",
    "\n",
    "**Ans: **`a` : Horizontal axis, `b` : Vertical axis.\n",
    "-- --\n",
    "\n",
    "**RQ4: **You are modifying the following code that calls the plot() function to create a line plot:\n",
    "\n",
    "```\n",
    "        a = [1, 2, 3, 4]\n",
    "        b = [3, 9, 2, 6]\n",
    "        plt.plot(a, b)\n",
    "        plt.show()```\n",
    "        \n",
    "_What should you change in the code to create a scatter plot instead of a line plot?_\n",
    "\n",
    "**Ans: **Change `plot()` in `plt.plot()` to `scatter()`.\n",
    "-- --\n",
    "**Go to top**: [TOC](#Table-of-Content)"
   ]
  },
  {
   "cell_type": "markdown",
   "metadata": {},
   "source": [
    "## Lab:\n",
    "\n",
    "-- --\n",
    "**Objective:**\n",
    "\n",
    "+ Experiment with _matplotlib_ package.\n",
    "\n",
    "\n",
    "+ Create both _line plots_ and _scatter plots_.\n",
    "-- --\n",
    "**Go to top**: [TOC](#Table-of-Content)"
   ]
  },
  {
   "cell_type": "markdown",
   "metadata": {},
   "source": [
    "### Line Plot 1\n",
    "-- --\n",
    "\n",
    "General Recepie:\n",
    "\n",
    "```\n",
    "    import matplotlib as plt\n",
    "\n",
    "    plt.show(< variable@Horizontal_axis >, < variable@Vertical_axis >)\n",
    "\n",
    "    plt.plot( x, y )\n",
    "    \n",
    "    plt.show()```\n",
    "\n",
    "-- --\n",
    "**Preface:** \n",
    "\n",
    "In the video, you already saw how much the world population has grown over the past years. Will it continue to do so?\n",
    "\n",
    "The world bank has estimates of the world population for the years 1950 up to 2100.\n",
    "\n",
    "+ the years are loaded in your workspace as a lit called `year`.\n",
    "\n",
    "\n",
    "+ Corresponding populations as a list called `pop`.\n",
    "\n",
    "-- --\n",
    "Instructions:\n",
    "\n",
    "+ `print()` the last item from both the year and the `pop` list to see what the predicted population for the year 2100 is.\n",
    "\n",
    "\n",
    "+ Before you can start, you should import `matplotlib.pyplot` as `plt`. \n",
    "\n",
    "    - `pyplot` is a sub-package of `matplotlib`, hence the dot.\n",
    "    \n",
    "    \n",
    "+ Use `plt.plot()` to build a line plot. year should be mapped on the horizontal axis,\n",
    "\n",
    "    - `pop` on the vertical axis. Don't forget to finish off with the `show()` function to actually display the plot.\n",
    "-- --\n",
    "**Go to top**: [TOC](#Table-of-Content)"
   ]
  },
  {
   "cell_type": "code",
   "execution_count": 2,
   "metadata": {
    "collapsed": true
   },
   "outputs": [],
   "source": [
    "# Print the last item from year and pop\n",
    "# print(year[-1])\n",
    "# print(pop[-1])\n",
    "\n",
    "\n",
    "# Import matplotlib.pyplot as plt\n",
    "# import matplotlib.pyplot as plt\n",
    "\n",
    "# Make a line plot: year on the x-axis, pop on the y-axis\n",
    "# plt.plot( year, pop)\n",
    "# plt.show()"
   ]
  },
  {
   "cell_type": "markdown",
   "metadata": {},
   "source": [
    "### Line Plot 2\n",
    "-- --\n",
    "\n",
    "**Question: **_What is the first year in which there will be more than ten billion human beings on this planet?_\n",
    "\n",
    "**Ans: **By 2060, the world population will rise appx. to 10 billion.\n",
    "-- --\n",
    "**Go to top**: [TOC](#Table-of-Content)"
   ]
  },
  {
   "cell_type": "markdown",
   "metadata": {},
   "source": [
    "### Line plot 3\n",
    "-- --\n",
    "\n",
    "Preface:\n",
    "\n",
    "Now that you've built your first line plot, let's start working on the data that professor Hans Rosling used to build his beautiful bubble chart. It was collected in 2007. Two lists are available for you:\n",
    "\n",
    "+ `life_exp` which contains the life expectancy for each country and\n",
    "    \n",
    "+  `gdp_cap`, which contains the GDP per capita, for each country expressed in US Dollar.\n",
    "\n",
    "**GDP** _stands for Gross Domestic Product. It basically represents the size of the economy of a country_.Divide this by the population and you get the GDP per capita.\n",
    "-- --\n",
    "\n",
    "Instructions:\n",
    "\n",
    "+ Print the last item from both the list gdp_cap, and the list life_exp; it is information about Zimbabwe.\n",
    "\n",
    "\n",
    "+ Build a line chart, with gdp_cap on the x-axis, and life_exp on the y-axis. \n",
    "\n",
    "    - Does it make sense to plot this data on a line plot?\n",
    "    \n",
    "\n",
    "+ Don't forget to finish off with a plt.show() command, to actually display the plot.\n",
    "-- --\n",
    "**Go to top**: [TOC](#Table-of-Content)"
   ]
  },
  {
   "cell_type": "code",
   "execution_count": 3,
   "metadata": {
    "collapsed": true
   },
   "outputs": [],
   "source": [
    "# Print the last item of gdp_cap and life_exp\n",
    "# print( gdp_cap[ -1 ] )\n",
    "# print( life_exp[ -1 ])\n",
    "\n",
    "# Make a line plot, gdp_cap on the x-axis, life_exp on the y-axis\n",
    "# plt.plot( gdp_cap, life_exp )\n",
    "\n",
    "# Display the plot\n",
    "# plt.show()"
   ]
  },
  {
   "cell_type": "markdown",
   "metadata": {},
   "source": [
    "### Scatter Plot 1\n",
    "-- --\n",
    "\n",
    "It's fine to use such tools, but how do we know which one is best suited for which purpose? As a rule of thumb:\n",
    "\n",
    "+ When we have a _time scale_ along the _horizontal axis_.\n",
    "\n",
    "    - We generally prefer a **line plot**.\n",
    "    \n",
    "    \n",
    "+ When we're trying to assess if there's a correlation b/w two variables.\n",
    "\n",
    "    - We go with **scatter plot**.\n",
    "-- --\n",
    "\n",
    "**Importing convention:**\n",
    "\n",
    "```\n",
    "    import matplotlib.pyplot as plt\n",
    "    plt.scatter( x, y )\n",
    "    plt.show()```\n",
    "    \n",
    "Preface:\n",
    "\n",
    "Let's continue with the `gdp_cap` versus `life_exp` plot, the GDP and life expectancy data for different countries in 2007. Maybe a scatter plot will be a better alternative?\n",
    "\n",
    "Instructions:\n",
    "\n",
    "+ Change the line plot that's coded in the script to a scatter plot.\n",
    "\n",
    "\n",
    "+ A correlation will become clear when you display the GDP per capita on a logarithmic scale. Add the line `plt.xscale('log')`.\n",
    "\n",
    "\n",
    "+ Finish off your script with `plt.show()` to display the plot.\n",
    "-- --\n",
    "**Go to top**: [TOC](#Table-of-Content)"
   ]
  },
  {
   "cell_type": "code",
   "execution_count": 4,
   "metadata": {
    "collapsed": true
   },
   "outputs": [],
   "source": [
    "# Change the line plot below to a scatter plot\n",
    "#plt.scatter(gdp_cap, life_exp)\n",
    "\n",
    "# Put the x-axis on a logarithmic scale\n",
    "#plt.xscale('log')\n",
    "\n",
    "# Show plot\n",
    "#plt.show()"
   ]
  },
  {
   "cell_type": "markdown",
   "metadata": {},
   "source": [
    "### Scatter Plot 2\n",
    "-- --\n",
    "\n",
    "Preface:\n",
    "\n",
    "In the previous exercise, you saw that that the higher GDP usually corresponds to a higher life expectancy. In other words, there is a positive correlation.\n",
    "\n",
    "Do you think there's a relationship between population and life expectancy of a country? \n",
    "-- --\n",
    "\n",
    "Instructions:\n",
    "\n",
    "\n",
    "+ Start from scratch: import `matplotlib.pyplot` as `plt`.\n",
    "\n",
    "\n",
    "+ Build a scatter plot, where pop is mapped on the horizontal axis, and `life_exp` is mapped on the vertical axis.\n",
    "\n",
    "\n",
    "+ Finish the script with `plt.show()` to actually display the plot. Do you see a correlation?\n",
    "\n",
    "**Go to top**: [TOC](#Table-of-Content)"
   ]
  },
  {
   "cell_type": "code",
   "execution_count": null,
   "metadata": {
    "collapsed": true
   },
   "outputs": [],
   "source": [
    "# Import package\n",
    "# import matplotlib.pyplot as plt\n",
    "\n",
    "# Build Scatter plot\n",
    "# plt.scatter( pop, life_exp )\n",
    "\n",
    "# Show plot\n",
    "# plt.show()\n",
    "\n",
    "\"\"\"Conclusion: Ther's no correlation b/w population\n",
    "and Life Expectency! Which makes perfect sense.\"\"\""
   ]
  },
  {
   "cell_type": "markdown",
   "metadata": {},
   "source": [
    "### Histograms\n",
    "-- --\n",
    "\n",
    "In descriptive statistics, a histogram is a tool that precedes over to precursor methods such as dot plots on number line. It's a tool to visualize the frequency of a distribution.\n",
    "\n",
    "In particular, Histograms are useful data visualziation tool for \"Qunatitative data\" in question.\n",
    "\n",
    "\n",
    "Histogram concept:\n",
    "\n",
    "+ Start off with number line, with data points superimposed respectively to there magnitude.\n",
    "\n",
    "\n",
    "+ Next divide the line into equal chunks, called _bins_.\n",
    "\n",
    "\n",
    "+ With each _bin_ containing data points, we **count** the _number of data points_ in each bin.\n",
    "\n",
    "\n",
    "+ Finally, we draw a _bar_ for each _bin_. The _height of the bar_ corresponds to the number of data points that fall in this bin.\n",
    "-- --\n",
    "**Go to top**: [TOC](#Table-of-Content)"
   ]
  },
  {
   "cell_type": "markdown",
   "metadata": {},
   "source": [
    "### Creating Histograms with Matplotlib\n",
    "-- --\n",
    "\n",
    "**Importing convention:**\n",
    "\n",
    ">`import matplotlib.pyplot as plt`\n",
    "\n",
    "followed by calling the histogram func. using `plt`.\n",
    "\n",
    "\n",
    ">`plt.hist(<list variable>, <no. of bins>)`\n",
    "\n",
    "\n",
    "\n",
    "**Note:** A good bit about the `.hist()` is, it automatically computes the boundries for all the bins. Also calculates _how many values in each one_."
   ]
  },
  {
   "cell_type": "markdown",
   "metadata": {},
   "source": [
    "### Exercise 2\n",
    "-- --\n",
    "\n",
    "**RQ1: **_What is a characteristic of a histogram?_\n",
    "\n",
    "**Ans: **\n",
    "-- --\n",
    "\n",
    "**RQ2: **You are working with a Python list with 10 different values. You divide the values into 5 equally-sized bins.\n",
    "\n",
    "_How wide will these bins be if the lowest value in your list is 0 and the highest is 20?_\n",
    "\n",
    "**Ans: ** The range of the values is 20, if we divide into 5 bins, then each bin will have a width of 4.\n",
    "\n",
    "For a visual que, see below cell."
   ]
  },
  {
   "cell_type": "code",
   "execution_count": 5,
   "metadata": {
    "collapsed": false
   },
   "outputs": [
    {
     "data": {
      "image/png": "[encoded data removed]",
      "text/plain": [
       "<matplotlib.figure.Figure at 0x2149c0e0908>"
      ]
     },
     "metadata": {},
     "output_type": "display_data"
    }
   ],
   "source": [
    "x = [0, 0, 0, 0, 0, 0, 0, 0, 0, 20]\n",
    "\n",
    "import matplotlib.pyplot as plt\n",
    "\n",
    "plt.hist( x, 5 )\n",
    "\n",
    "plt.show()"
   ]
  },
  {
   "cell_type": "markdown",
   "metadata": {},
   "source": [
    "**RQ3: **You write the following code:\n",
    "\n",
    "```\n",
    "    \n",
    "    import matplotlib.pyplot as plt\n",
    "    x = [1, 3, 6, 3, 2, 7, 3, 9, 7, 5, 2, 4]\n",
    "    plt.hist(x)\n",
    "    plt.show()```\n",
    "\n",
    "_You need to extend the plt.hist() command to specifically set the number of bins to 4. What should you do?_\n",
    "\n",
    "**Ans: ** `plt.hist(x, 4)`\n",
    "-- --\n",
    "**Go to top**: [TOC](#Table-of-Content)"
   ]
  },
  {
   "cell_type": "markdown",
   "metadata": {},
   "source": [
    "## Lab histograms\n",
    "-- --\n",
    "\n",
    "**Objective:**\n",
    "\n",
    "+ Experiment with histograms.\n",
    "\n",
    "\n",
    "+ Work with different bins.\n",
    "\n",
    "\n",
    "+ Work with dfferent datasets.\n",
    "\n",
    "-- --\n",
    "\n",
    "**Lab exercises:**\n",
    "\n",
    "\n",
    "+ [Build a histogram 1](#Build-a-histogram-1-.)\n",
    "\n",
    "\n",
    "+ [Build a histogram 2 : bins](#Build-a-histogram-2-:-bins)\n",
    "\n",
    "\n",
    "+ [Build a histogram 3 : compare](#Build-a-histogram-3-:-compare)\n",
    "\n",
    "\n",
    "+ Choose the right plot 1.\n",
    "\n",
    "\n",
    "+ Chosse the right plot 2.\n",
    "\n",
    "-- --\n",
    "**Go to top**: [TOC](#Table-of-Content)"
   ]
  },
  {
   "cell_type": "markdown",
   "metadata": {},
   "source": [
    "### Build a  histogram 1.\n",
    "-- --\n",
    "\n",
    "**Preface:**\n",
    "\n",
    "`life_exp`, the list containing data on the life expentancy for different countries in 2007(at data camp only!)\n",
    "\n",
    "To see how life expectancy in different countries is distributed, let's create a histogram of `life_exp`.\n",
    "\n",
    "**Instructions:**\n",
    "\n",
    "+ Use plt.hist() to create a histogram of the values in life_exp.\n",
    "\n",
    "    - Do not specify the number of bins; Python will set the number of bins to 10 by default for you.\n",
    "    \n",
    "    \n",
    "+ Add `plt.show()` to actually display the histogram. Can you tell which bin contains the most observations?\n",
    "-- --\n",
    "\n",
    "```\n",
    "# Create histogram of life_exp data\n",
    "plt.hist(life_exp)\n",
    "\n",
    "# Display histogram\n",
    "plt.show()\n",
    "```\n",
    "-- --\n",
    "**Go to top**: [TOC](#Table-of-Content)"
   ]
  },
  {
   "cell_type": "markdown",
   "metadata": {},
   "source": [
    "### Build a histogram 2 : bins\n",
    "-- --\n",
    "\n",
    "+ By default python sets the number of bins to 10.\n",
    "\n",
    "+ Number of bins is important,\n",
    "\n",
    "    - Can zoom in / out of the data.\n",
    "    \n",
    "    - zooming in : shows much more detail, but not the bigger picture.\n",
    "    \n",
    "    - zooming out : shows the bigger picture.\n",
    "    \n",
    "+ To control the no. of bins to divide your data in,\n",
    "\n",
    "        - by setting the `bins` argument.\n",
    "        \n",
    "-- --\n",
    "\n",
    "**Preface:**\n",
    "\n",
    "We'll be makin two plots here.\n",
    "\n",
    "+ Use `plt.clf()` to clean up again to start fresh.\n",
    "\n",
    "-- --\n",
    "\n",
    "**Instructions:**\n",
    "\n",
    "+ Build a histogram of `life_exp`, with `5` bins.\n",
    "\n",
    "    - Can you tell which bins contains the most observations?\n",
    "    \n",
    "    \n",
    "+ Build another histogram of `life_exp`, this time with `20` bins.\n",
    "\n",
    "    - Is this better?\n",
    "-- --\n",
    "**Go to top**: [TOC](#Table-of-Content)"
   ]
  },
  {
   "cell_type": "code",
   "execution_count": 1,
   "metadata": {
    "collapsed": true
   },
   "outputs": [],
   "source": [
    "# Build histogram with 5 bins\n",
    "    # Ans: plt.hist(life_exp, bins = 5)\n",
    "    # 4th and 5th bins.\n",
    "\n",
    "# Show and clean up plot\n",
    "# plt.show()\n",
    "# plt.clf()\n",
    "\n",
    "# Build histogram with 20 bins\n",
    "# Ans: plt.hist( life_exp, bins = 20 )\n",
    "    # Much better, 15th bin contains maximum value,\n",
    "    # i.e. most people tend to live upto 71-73 years.\n",
    "\n",
    "# Show and clean up again\n",
    "    # plt.show()\n",
    "    # plt.clf()"
   ]
  },
  {
   "cell_type": "markdown",
   "metadata": {},
   "source": [
    "### Build a histogram 3 : compare\n",
    "-- --\n",
    "**Preface**\n",
    "\n",
    "In the video, you saw population pyramids for the present day and for the future. Because we were using a histogram, it was very easy to make a comparison.\n",
    "\n",
    "Let's do similar comparison.\n",
    "\n",
    "life_exp contains life expectancy data for different countries in 2007. You also have access to a second list now, life_exp1950, containing similar data for 1950. Can you make a histogram for both datasets?\n",
    "\n",
    "You'll again be making two plots. The plt.show() and plt.clf() commands to render everything nicely are already included. Also matplotlib.pyplot is imported for you, as plt.\n",
    "\n",
    "-- --\n",
    "**Instructions:**\n",
    "\n",
    "+ Build a histogram of life_exp with 15 bins.\n",
    "\n",
    "\n",
    "+ Build a histogram of life_exp1950, also with 15 bins.\n",
    "\n",
    "    - Is there a big difference with the histogram for the 2007 data?\n",
    "-- --\n",
    "**Go to top**: [TOC](#Table-of-Content)"
   ]
  },
  {
   "cell_type": "code",
   "execution_count": 2,
   "metadata": {
    "collapsed": false
   },
   "outputs": [
    {
     "data": {
      "text/plain": [
       "'\\nConclusion: Neither one of these histogram is useful to \\nbetter understand the life expectancy data.\\n\\nWhy? \\n'"
      ]
     },
     "execution_count": 2,
     "metadata": {},
     "output_type": "execute_result"
    }
   ],
   "source": [
    "# Histogram of life_exp, 15 bins\n",
    "    #Ans: plt.hist( life_exp, bins = 15)\n",
    "\n",
    "# Show and clear plot\n",
    "#plt.show()\n",
    "#plt.clf()\n",
    "\n",
    "# Histogram of life_exp1950, 15 bins\n",
    "    #Ans: plt.hist( life_exp1950, bins = 15)\n",
    "\n",
    "# Show and clear plot again\n",
    "#plt.show()\n",
    "#plt.clf()\n",
    "\n",
    "\"\"\"\n",
    "Conclusion: Neither one of these histogram is useful to \n",
    "better understand the life expectancy data.\n",
    "\n",
    "Why? \n",
    "\"\"\""
   ]
  },
  {
   "cell_type": "markdown",
   "metadata": {},
   "source": [
    "### Choose the right plot 1\n",
    "-- --\n",
    "\n",
    "**Scenario:**\n",
    "\n",
    "You're a professor teaching Data Science with Python, and you want to visually assess if the grades on your exam follow a normal distribution. Which plot do you use?\n",
    "\n",
    "**Answer:** Since a histogram is a very good tool to visualize a frequency distribution of either one or multiple varibales, it's also a good tool to visualize if the distribution in question follows a normal(gaussian) distribution.\n",
    "-- --\n",
    "\n",
    "### Choose the right plot 2\n",
    "\n",
    "**Scenario:**\n",
    "\n",
    "You're a professor in Data Analytics with Python, and you want to visually assess if longer answers on exam questions lead to higher grades. Which plot do you use?\n",
    "\n",
    "**Answer:**\n",
    "\n",
    "Since we are trying to find a visual relationship or correlation b/w two variables \"longer-answer\" and \"higher-grades\", in such case:\n",
    "\n",
    "A scatter plot is a good visualizing tool to identify if the data points are \"spread out\" meaning no relationship or \"linear grouping of data points\" meaning there's some kind of relationship b/w the variables in question.\n",
    "-- --\n",
    "**Go to top**: [TOC](#Table-of-Content)"
   ]
  },
  {
   "cell_type": "markdown",
   "metadata": {},
   "source": [
    "## Lecture: Customization\n",
    "-- --\n",
    "\n",
    "Data visualization is:\n",
    "\n",
    "+ Science and Art.\n",
    "\n",
    "    - To tell a story with data.\n",
    "\n",
    "\n",
    "+ We have many options, i.e. can create different types of plots.\n",
    "\n",
    "    - For each plot, there are infinite no. of customizations.\n",
    "    \n",
    "    - These may include, colors, shapes, lables, legend, axes etc.\n",
    "    \n",
    "    \n",
    "+ Choice depends on:\n",
    "\n",
    "    - Data.\n",
    "    \n",
    "    - Story you want to tell."
   ]
  },
  {
   "cell_type": "markdown",
   "metadata": {},
   "source": [
    "### Exercise 3:\n",
    "-- --\n",
    "\n",
    "**RQ1: **You are customizing a plot by labelling its axes. You need to do this by using matplotlib.\n",
    "\n",
    "\n",
    "_Which code should you use?_\n",
    "\n",
    "**Ans: ** `xlabel(\"x-axis title\")` and `ylabel(\"y-axis title\")`.\n",
    "-- --\n",
    "\n",
    "**RQ2: **_Which matplotlib function do you use to build a line plot where the area under the graph is colored?_\n",
    "\n",
    "**Ans: **`fill_between()`\n",
    "-- --\n",
    "\n",
    "**RQ3: **Typically, you place all customization commands between the plot() call and the show() call, as follows:\n",
    "\n",
    "```\n",
    "import matplotlib.pyplot as plt\n",
    "x = [1, 2, 3]\n",
    "y = [4, 5, 6]\n",
    "plt.plot(x, y)\n",
    "# customization here\n",
    "plt.show()```\n",
    "\n",
    "_What will happen if you place the customization code after the show() function instead?_\n",
    "\n",
    "```\n",
    "import matplotlib.pyplot as plt\n",
    "x = [1, 2, 3]\n",
    "y = [4, 5, 6]\n",
    "plt.plot(x, y)\n",
    "plt.show()\n",
    "#customization here```\n",
    "\n",
    "**Ans: ** Let's check it out!"
   ]
  },
  {
   "cell_type": "code",
   "execution_count": 4,
   "metadata": {
    "collapsed": false
   },
   "outputs": [
    {
     "data": {
      "image/png": "[encoded data removed]",
      "text/plain": [
       "<matplotlib.figure.Figure at 0x1a038be7ba8>"
      ]
     },
     "metadata": {},
     "output_type": "display_data"
    }
   ],
   "source": [
    "import matplotlib.pyplot as plt\n",
    "\n",
    "x = [1, 2, 3]\n",
    "y = [4, 5, 6]\n",
    "\n",
    "plt.plot(x, y)\n",
    "\n",
    "# customization here\n",
    "plt.xlabel(\"var1\")\n",
    "plt.ylabel(\"var2\")\n",
    "\n",
    "plt.show()"
   ]
  },
  {
   "cell_type": "code",
   "execution_count": 5,
   "metadata": {
    "collapsed": false
   },
   "outputs": [
    {
     "data": {
      "image/png": "[encoded data removed]",
      "text/plain": [
       "<matplotlib.figure.Figure at 0x1a03ac6f390>"
      ]
     },
     "metadata": {},
     "output_type": "display_data"
    },
    {
     "data": {
      "text/plain": [
       "<matplotlib.text.Text at 0x1a03ad43908>"
      ]
     },
     "execution_count": 5,
     "metadata": {},
     "output_type": "execute_result"
    }
   ],
   "source": [
    "\"\"\"It seems that customization should be done b/w \n",
    "plot() and show() function.\"\"\"\n",
    "\n",
    "import matplotlib.pyplot as plt\n",
    "\n",
    "x = [1, 2, 3]\n",
    "y = [4, 5, 6]\n",
    "\n",
    "plt.plot(x, y)\n",
    "\n",
    "# customization here\n",
    "plt.show()\n",
    "\n",
    "plt.xlabel(\"var1\")\n",
    "plt.ylabel(\"var2\")"
   ]
  },
  {
   "cell_type": "markdown",
   "metadata": {},
   "source": [
    "## Lab : Customization\n",
    "-- --\n",
    "**Objective:**\n",
    "+ Customization of visual data.\n",
    "\n",
    "\n",
    "+ Add\n",
    "\n",
    "    - Labels\n",
    "    \n",
    "    - Title\n",
    "    \n",
    "    - Size\n",
    "    \n",
    "    - Ticks\n",
    "    \n",
    "    - Colour\n",
    "-- --\n",
    "\n",
    "### Labeles:\n",
    "\n",
    "You're going to work on the scatter plot with world development data: GDP per capita on the x-axis (logarithmic scale), life expectancy on the y-axis. The code for this plot is available in the script.\n",
    "\n",
    "As a first step, let's add axis labels and a title to the plot. You can do this with the `xlabel()`, `ylabel()` and `title()` functions, available in `matplotlib.pyplot`. This sub-package is already imported as `plt`.\n",
    "-- --\n",
    "\n",
    "**Instructions:**\n",
    "\n",
    "\n",
    "+ The strings `xlab` and `ylab` are already set for you. Use these variables to set the label of the x- and y-axis.\n",
    "\n",
    "+ The string `title` is also coded for you. Use it to add a title to the plot.\n",
    "\n",
    "+ After these customizations, finish the script with `plt.show()` to actually display the plot.\n",
    "-- --"
   ]
  },
  {
   "cell_type": "code",
   "execution_count": null,
   "metadata": {
    "collapsed": true
   },
   "outputs": [],
   "source": [
    "# Basic scatter plot, log scale\n",
    "# plt.scatter(gdp_cap, life_exp)\n",
    "# plt.xscale('log') \n",
    "\n",
    "# Strings\n",
    "# xlab = 'GDP per Capita [in USD]'\n",
    "# ylab = 'Life Expectancy [in years]'\n",
    "# title = 'World Development in 2007'\n",
    "\n",
    "# Add axis labels\n",
    "# plt.xlabel(xlab)\n",
    "# plt.ylabel(ylab)\n",
    "\n",
    "# Add title\n",
    "# plt.title(title)\n",
    "\n",
    "# After customizing, display the plot\n",
    "# plt.show()"
   ]
  },
  {
   "cell_type": "markdown",
   "metadata": {},
   "source": [
    "### Ticks:\n",
    "-- --\n",
    "\n"
   ]
  }
 ],
 "metadata": {
  "kernelspec": {
   "display_name": "Python [default]",
   "language": "python",
   "name": "python3"
  },
  "language_info": {
   "codemirror_mode": {
    "name": "ipython",
    "version": 3
   },
   "file_extension": ".py",
   "mimetype": "text/x-python",
   "name": "python",
   "nbconvert_exporter": "python",
   "pygments_lexer": "ipython3",
   "version": "3.5.2"
  }
 },
 "nbformat": 4,
 "nbformat_minor": 1
}
