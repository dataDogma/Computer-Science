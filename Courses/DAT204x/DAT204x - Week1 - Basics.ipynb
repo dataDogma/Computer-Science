{
 "cells": [
  {
   "cell_type": "markdown",
   "metadata": {},
   "source": [
    "### Before we begin!\n",
    "-- --\n",
    "\n",
    "The following course although uses Data Camp quite significantly, but I am going to add the courses from R swirl package too. Why? Because I wan't to get the best of both worlds.\n",
    "\n",
    "R swirl package courses are a bit difficult at first but nothing undoable. It's just my way of practising R programming.\n",
    "\n",
    "\n",
    "### Table of Content\n",
    "-- --\n",
    "\n",
    "+ [True Basics](#True-Basics)\n",
    "\n",
    "+ [Lab-1](#Lab-1)\n",
    "\n",
    "+ [Basic Data Types](#Basic-Data-Types)\n",
    "\n",
    "+ [Lab-2](#Lab-2)\n",
    "\n",
    "-- --\n",
    "\n",
    "**Swirl: R Programming**\n",
    "\n",
    "1. [Installing Swirl](#Installing-Swirl)\n",
    "\n",
    "2. [Basic Building Blocks](#Basic-Building-Blocks)\n",
    "\n",
    "3. [The Workspace](#The-Workspace)\n",
    "\n",
    "-- --\n",
    "\n",
    "\n",
    "\n",
    "\n"
   ]
  },
  {
   "cell_type": "markdown",
   "metadata": {},
   "source": [
    "## Installing Swirl\n",
    "-- --\n",
    "\n",
    "\"First things, First!\"\n",
    "\n",
    "**Step 1: Get R**\n",
    "\n",
    "(copy pasting stuff, why re-invent the wheel!)\n",
    "\n",
    "+ In order to run swirl, you must have R 3.1.0 or later installed on your computer.\n",
    "\n",
    "+ If you need to install R, you can do so [here](http://cran.rstudio.com/).\n",
    "\n",
    "For help installing R, check out one of the following videos (courtesy of Roger Peng at Johns Hopkins Biostatistics):\n",
    "\n",
    "+ [Installing R on Windows](http://youtu.be/mfGFv-iB724)\n",
    "+ [Installing R on Mac](http://youtu.be/Icawuhf0Yqo)\n",
    "\n",
    "\n",
    "**Step 2: Get R Studio!**\n",
    "\n",
    "Although not mendatory, as I am using an _R kernal_ for _Jupyter notebook_ just to add in more interactivity as I am a _kinesthetic learner_, but swirl courses can be taken using R-studio which is an IDE for Running R-scripts and much more.\n",
    "\n",
    "Here's a link to the IDE: [R Studio](http://www.rstudio.com/products/rstudio/download/)\n",
    "\n",
    "\n",
    "**Step 3: Install Swirl**\n",
    "\n",
    "Well we might wonder, What is is Swirl? In short, It's an R package for learning R, inside R, cool!\n",
    "\n",
    "+ Inside R-studio, into the console, after `>` type: \n",
    "\n",
    "    `install.packages(\"swirl\")`\n",
    "\n",
    "+ Patience is the key, it will take a min to download the _swirl package_ from **CRAN** repo.\n",
    "\n",
    "\n",
    "**Step 4: Start Swirl**\n",
    "\n",
    "+ Now load the package by typing in the console:\n",
    "\n",
    "    `library(swirl)`\n",
    "    \n",
    "+ Call the swirl() method, to begin the interactive session.\n",
    "\n",
    "    `swirl()`\n",
    "    \n",
    "**Step 5: Installing an Interactive Course**\n",
    "\n",
    "Although this is not the scope of what I am practising, but just to be helpful here, we can install more _interactive courses_. \n",
    "\n",
    "Following is the [link](https://github.com/swirldev/swirl_courses#swirl-courses) to more courses.\n",
    "\n",
    "If we Wan't more? Here's the whole [Swirl Course Network](http://swirlstats.com/scn/) for us.\n",
    "\n",
    "That's it!"
   ]
  },
  {
   "cell_type": "markdown",
   "metadata": {},
   "source": [
    "## True Basics\n",
    "-- --\n",
    "\n",
    "**[RQ1: ] _What are the three advantages of using R?_**\n",
    "\n",
    "**Ans: **\n",
    "\n",
    "+ Publication quality visualizations.\n",
    "\n",
    "+ R pacakges\n",
    "\n",
    "+ Reproudcibiliy, using R-scripts.\n",
    "\n",
    "-- --\n",
    "\n",
    "**[RQ2: ] _What are the two reasons for using R-scripts?_**\n",
    "\n",
    "**Ans: **\n",
    "+ Reproducibiliy.\n",
    "\n",
    "+ Automate your work.\n",
    "\n",
    "-- --\n",
    "\n",
    "**[RQ3: ] _Which symbol should you use to place comments in R?**\n",
    "\n",
    "**Ans: ** The _pound sign_ `#`.\n",
    "\n",
    "-- --\n",
    "\n",
    "**[RQ4: ]_Which R function should you use to remove a variable from the workspace in R?_\n",
    "\n",
    "**Ans: ** To remove a variable ( or any R object ) from workspace, we can use the _remove method_, type in the console: `rm(\"variable/object name\")`\n",
    "\n",
    "Note: Beware! doing so will completely remove that object from R's workspace."
   ]
  },
  {
   "cell_type": "markdown",
   "metadata": {},
   "source": [
    "## Lab 1\n",
    "-- --\n",
    "\n",
    "**Objective:**\n",
    "\n",
    "+ Learn about the pros and cons of R.\n",
    "\n",
    "\n",
    "+ Performing Hands-on R coding.\n",
    "\n",
    "\n",
    "+ Using R as a basic Calculator.\n",
    "\n",
    "    - Perform Variable assignment.\n",
    "\n",
    "\n",
    "+ Learn to use the R's Workspace.\n",
    "-- --\n",
    "\n",
    "**R: The true basics**\n",
    "\n",
    "1. [How it works](#How-it-works)\n",
    "\n",
    "2. [Documenting your code](#Documenting-your-code)\n",
    "\n",
    "3. [Little arithemetic with R](#Little-arithemeti- with-R)\n",
    "\n",
    "4. [R's pros and cons](#R's-pros-and-cons)\n",
    "\n",
    "5. [Varibale assignment](#Varibale-assignment)\n",
    "\n",
    "6. [Varibale assignment 2](#Varibale-assignment-2)\n",
    "\n",
    "7. [Variable assignment 3](#Varibale-assignment-3)\n",
    "\n",
    "8. [The Workspace](#The-Workspace)\n",
    "\n",
    "9. [Build and Destroy your workspace](#Build-and-Destroy-your-workspace)"
   ]
  },
  {
   "cell_type": "markdown",
   "metadata": {},
   "source": [
    "### How it works\n",
    "-- --"
   ]
  },
  {
   "cell_type": "code",
   "execution_count": 1,
   "metadata": {
    "collapsed": false
   },
   "outputs": [
    {
     "data": {
      "text/html": [
       "18"
      ],
      "text/latex": [
       "18"
      ],
      "text/markdown": [
       "18"
      ],
      "text/plain": [
       "[1] 18"
      ]
     },
     "metadata": {},
     "output_type": "display_data"
    }
   ],
   "source": [
    "####################################################\n",
    "# Title: How it works                              #\n",
    "# -------------------------------------------------#\n",
    "# About: Getting to know R                         #\n",
    "# -------------------------------------------------#\n",
    "# Instructions:                                    #\n",
    "#   > Add another line of code to that calculates  #\n",
    "#     the sum of 6 and 12, hit enter if in R-studio#\n",
    "#     else, hit ctl + Enter key in Jupyter Notebook#\n",
    "####################################################\n",
    "\n",
    "6 + 12"
   ]
  },
  {
   "cell_type": "markdown",
   "metadata": {},
   "source": [
    "### Documenting your code\n",
    "-- --\n",
    "\n",
    "**Preface:**\n",
    "\n",
    "Adding comments to your code is extremely important to make sure that you and others can understand what your code is about. R makes use of the # sign to add comments, just like Twitter!\n",
    "\n",
    "It's important to note that comments are not run as R code, so they will not influence your result. For example, Calculate 3 + 4 in the editor on the right is a comment and is ignored during execution.\n",
    "\n",
    "**Instructions:**\n",
    "\n",
    "+ Add a comment in the editor or in Jupyter, right infront of the former arithematic we did."
   ]
  },
  {
   "cell_type": "code",
   "execution_count": 2,
   "metadata": {
    "collapsed": false
   },
   "outputs": [
    {
     "data": {
      "text/html": [
       "7"
      ],
      "text/latex": [
       "7"
      ],
      "text/markdown": [
       "7"
      ],
      "text/plain": [
       "[1] 7"
      ]
     },
     "metadata": {},
     "output_type": "display_data"
    },
    {
     "data": {
      "text/html": [
       "18"
      ],
      "text/latex": [
       "18"
      ],
      "text/markdown": [
       "18"
      ],
      "text/plain": [
       "[1] 18"
      ]
     },
     "metadata": {},
     "output_type": "display_data"
    }
   ],
   "source": [
    "#####################################################\n",
    "# Title: Documenting your code, and we are doing it!#\n",
    "# --------------------------------------------------#\n",
    "#####################################################\n",
    "\n",
    "# Calculate 3 + 4\n",
    "3 + 4\n",
    "\n",
    "# Calculate 6 + 12\n",
    "6 + 12"
   ]
  },
  {
   "cell_type": "markdown",
   "metadata": {},
   "source": [
    "### Little arithmetics with R\n",
    "-- --\n",
    "\n",
    "In its most basic form R can be used as a simple calculator. Consider the following arithmetic operators:\n",
    "\n",
    "+ Addition: `+`\n",
    "+ Subtraction: `-`\n",
    "+ Multiplication: `*`\n",
    "+ Division: `/`\n",
    "+ Exponentiation: `^`\n",
    "+ Modulo: `%%`\n",
    "\n",
    "The last two might need some explaining:\n",
    "\n",
    "+ The `^` operator raises the number to its left to the power of the number to its right: for example `3^2` equals 9.\n",
    "\n",
    "\n",
    "+ The modulo returns the remainder of the division of the number to the left by the number on its right, for example 5 modulo 3 or `5 %% 3` equals 2.\n",
    "\n",
    "-- --\n",
    "**Pop Quiz**\n",
    "\n",
    "[Swirl]_Why we use programming language as opposed to a calculator?_\n",
    "\n",
    "\n",
    "**Ans: **\"To automate some process, or avoid unnecessary repetition.\"\n",
    "\n",
    "-- --\n",
    "\n",
    "**Instructions:**\n",
    "\n",
    "+ Type `2^5` in the editor to calculate 2 to the power 5.\n",
    "    \n",
    "+ Type `28 %% 6` to calculate 28 modulo 6.\n",
    "    \n",
    "+ Click 'Submit Answer' and have a look at the R output in the console."
   ]
  },
  {
   "cell_type": "code",
   "execution_count": 3,
   "metadata": {
    "collapsed": false
   },
   "outputs": [
    {
     "data": {
      "text/html": [
       "10"
      ],
      "text/latex": [
       "10"
      ],
      "text/markdown": [
       "10"
      ],
      "text/plain": [
       "[1] 10"
      ]
     },
     "metadata": {},
     "output_type": "display_data"
    },
    {
     "data": {
      "text/html": [
       "0"
      ],
      "text/latex": [
       "0"
      ],
      "text/markdown": [
       "0"
      ],
      "text/plain": [
       "[1] 0"
      ]
     },
     "metadata": {},
     "output_type": "display_data"
    },
    {
     "data": {
      "text/html": [
       "15"
      ],
      "text/latex": [
       "15"
      ],
      "text/markdown": [
       "15"
      ],
      "text/plain": [
       "[1] 15"
      ]
     },
     "metadata": {},
     "output_type": "display_data"
    },
    {
     "data": {
      "text/html": [
       "5"
      ],
      "text/latex": [
       "5"
      ],
      "text/markdown": [
       "5"
      ],
      "text/plain": [
       "[1] 5"
      ]
     },
     "metadata": {},
     "output_type": "display_data"
    },
    {
     "data": {
      "text/html": [
       "32"
      ],
      "text/latex": [
       "32"
      ],
      "text/markdown": [
       "32"
      ],
      "text/plain": [
       "[1] 32"
      ]
     },
     "metadata": {},
     "output_type": "display_data"
    },
    {
     "data": {
      "text/html": [
       "4"
      ],
      "text/latex": [
       "4"
      ],
      "text/markdown": [
       "4"
      ],
      "text/plain": [
       "[1] 4"
      ]
     },
     "metadata": {},
     "output_type": "display_data"
    }
   ],
   "source": [
    "#####################################################\n",
    "# Title: Little arithmetics with R                  #\n",
    "# --------------------------------------------------#\n",
    "# About: Doing some basic arithmetic with R         #\n",
    "#####################################################\n",
    "\n",
    "# Addition\n",
    "5 + 5 \n",
    "\n",
    "# Subtraction\n",
    "5 - 5 \n",
    "\n",
    "# Multiplication\n",
    "3 * 5\n",
    "\n",
    " # Division\n",
    "(5 + 5) / 2 \n",
    "\n",
    "# Exponentiation\n",
    "2^5\n",
    "\n",
    "# Modulo\n",
    "28 %% 6"
   ]
  },
  {
   "cell_type": "markdown",
   "metadata": {},
   "source": [
    "### R's pros and cons\n",
    "-- --\n",
    "There are things that make R the awesome and immensely popular language that it is today. On the other hand, there are also aspects about R that are less attractive.\n",
    "\n",
    "Which of the following statements are true regarding this statistical programming language developed by Ihaka and Gentleman in the nineties?\n",
    "\n",
    "1. As opposed to SAS and SPSS, R is completely open-source.\n",
    "\n",
    "2. R is open-source, but it's hard to share your code with others since R uses a command-line interface.\n",
    "\n",
    "3. It typically takes a long time for new and updated R packages to be released and made available to the public.\n",
    "\n",
    "4. R is easy to use, but this comes at the cost of limited graphical abilities.\n",
    "\n",
    "5. R works well with large data sets, if the code is properly written and the data fits into the working memory.\n",
    "\n",
    "**Ans: ** Statement 1 and 5."
   ]
  },
  {
   "cell_type": "markdown",
   "metadata": {},
   "source": [
    "### Variable assignment\n",
    "-- --\n",
    "\n",
    "As formerly discussed, a part of using programming language is to automate processes, to do so we need to create _variables_ that store some value for reuse in later work, and of course adding reproducibility to our work.\n",
    "\n",
    "+ In simplest sense, it allow us to store a value / object in R.\n",
    "\n",
    "+ In R we use _assignment operator_ `<-` to assign a value to our variables.\n",
    "\n",
    "**Instructions:**\n",
    "\n",
    "+ Assign the value 42 to x\n",
    "\n",
    "+ Print out the value of the variable x"
   ]
  },
  {
   "cell_type": "code",
   "execution_count": 6,
   "metadata": {
    "collapsed": false
   },
   "outputs": [
    {
     "name": "stdout",
     "output_type": "stream",
     "text": [
      "[1] 42\n"
     ]
    }
   ],
   "source": [
    "########################################################\n",
    "# Title: Variable Assignent                            #\n",
    "# -----------------------------------------------------#\n",
    "# About: Using variables using <- operator.            #\n",
    "#        We can use = operator too!                    #\n",
    "# -----------------------------------------------------#\n",
    "# Useful Mnemonic, think of <- as an arrow!            #\n",
    "########################################################\n",
    "\n",
    "# Assign the value 42 to x\n",
    "x <- 42\n",
    "\n",
    "# Print out the value of the varible x\n",
    "print(x)"
   ]
  },
  {
   "cell_type": "markdown",
   "metadata": {},
   "source": [
    "**Pinch:**\n",
    "\n",
    "Notice that R did not print the result of 12 this time. When you use\n",
    "the assignment operator, R assumes that you don't\n",
    "want to see the result immediately, but rather that you\n",
    "intend to use the result for something else later on."
   ]
  },
  {
   "cell_type": "markdown",
   "metadata": {},
   "source": [
    "### Variable assignment 2\n",
    "-- --\n",
    "\n",
    "Suppose you have a fruit basket with five apples. As a data analyst in training, you want to store the number of apples in a variable with the name my_apples.\n",
    "\n",
    "**Instructions:**\n",
    "\n",
    "\n",
    "+ Using `<-`, assign the value 5 to my_apples below the first comment.\n",
    "\n",
    "+ Type `my_apples` below the second comment. This will print out the value of `my_apples`.\n",
    "\n",
    "+ Click 'Submit Answer', and look at the console: you see that the number 5 is printed. So R now links the variable `my_apples` to the value 5."
   ]
  },
  {
   "cell_type": "code",
   "execution_count": 7,
   "metadata": {
    "collapsed": false
   },
   "outputs": [
    {
     "data": {
      "text/html": [
       "5"
      ],
      "text/latex": [
       "5"
      ],
      "text/markdown": [
       "5"
      ],
      "text/plain": [
       "[1] 5"
      ]
     },
     "metadata": {},
     "output_type": "display_data"
    }
   ],
   "source": [
    "# Assign the value 5 to the variable called my_apples\n",
    "my_apples <- 5\n",
    "\n",
    "# Print out the value of the variable my_apples\n",
    "my_apples"
   ]
  },
  {
   "cell_type": "markdown",
   "metadata": {},
   "source": [
    "### Variable assignment 3\n",
    "-- --\n",
    "Every tasty fruit basket needs oranges, so you decide to add six oranges. As a data analyst, your reflex is to immediately create the variable `my_oranges` and assign the value 6 to it.\n",
    "\n",
    "Next, you want to calculate how many pieces of fruit you have in total. Since you have given meaningful names to these values, you can now code this in a clear way:\n",
    "\n",
    "`my_apples + my_oranges`\n",
    "\n",
    "**Instructions:**\n",
    "\n",
    "\n",
    "+ Assign to my_oranges the value 6.\n",
    "\n",
    "+ Add the variables my_apples and my_oranges and have R simply print the result.\n",
    "\n",
    "+ Combine the variables my_apples and my_oranges into a new variable my_fruit, which is the total amount of fruits in your fruit basket."
   ]
  },
  {
   "cell_type": "code",
   "execution_count": 8,
   "metadata": {
    "collapsed": false
   },
   "outputs": [
    {
     "data": {
      "text/html": [
       "11"
      ],
      "text/latex": [
       "11"
      ],
      "text/markdown": [
       "11"
      ],
      "text/plain": [
       "[1] 11"
      ]
     },
     "metadata": {},
     "output_type": "display_data"
    }
   ],
   "source": [
    "# Assign a value to the variables my_apples and my_oranges\n",
    "my_apples <- 5\n",
    "my_oranges <- 6\n",
    "\n",
    "# Add these two variables together and print the result\n",
    "my_apples + my_oranges\n",
    "\n",
    "# Create the variable my_fruit\n",
    "my_fruit <- my_apples + my_oranges"
   ]
  },
  {
   "cell_type": "markdown",
   "metadata": {},
   "source": [
    "### The Workspace\n",
    "-- -\n",
    "\n",
    "If you assign a value to a variable, this variable is stored in the workspace. It's the place where all user-defined variables and objects live. The command ls() lists the contents of this workspace. rm(<var_name>) allows you to remove objects from the workspace again. Try the following code in the console:\n",
    "\n",
    "+ `a <- 1`\n",
    "+ `b <- 2`\n",
    "+ `ls()`\n",
    "+ `rm(a)`\n",
    "+ `ls()`\n",
    "\n",
    "\n",
    "+ The first two lines create the varibles `a` and `b`.\n",
    "\n",
    "+ Calling `ls()` shows all the objects currently in the workspace.\n",
    "\n",
    "+ An object can be removed via `rm(\"object name\")`.\n",
    "\n",
    "    - e.g. rm(a) removes object `a`, ls() will show only one remaining object i.e. `b` in the workspace.\n",
    "    \n",
    "    \n",
    "    - Can remove both objects via `rm(a, b)`.\n",
    "    \n",
    "+ If we wan't to remove everything from workspace for decluttering things, we can use `rm( list = ls())`.\n",
    "-- --\n",
    "\n",
    "**Instructions:**\n",
    "\n",
    "\n",
    "+ List the contents of the workspace to check that the workspace is empty.\n",
    "\n",
    "\n",
    "+ Create a variable, `horses`, equal to 3.\n",
    "\n",
    "\n",
    "+ Create another variable, `dogs`, which you set to 7.\n",
    "\n",
    "\n",
    "+ Create a new variable, `animals`, that is equal to the sum of `horses` and `dogs`.\n",
    "\n",
    "\n",
    "+ Inspect the contents of the workspace again to see that indeed, these three variables are available.\n",
    "\n",
    "\n",
    "+ Eliminate the `dogs` variable from the workspace.\n",
    "\n",
    "\n",
    "+ Finally, inspect the objects in your workspace once more to see that only `horses` and `animals` remain."
   ]
  },
  {
   "cell_type": "code",
   "execution_count": 9,
   "metadata": {
    "collapsed": false
   },
   "outputs": [
    {
     "data": {
      "text/html": [
       "\"\""
      ],
      "text/latex": [
       "\"\""
      ],
      "text/markdown": [
       "\"\""
      ],
      "text/plain": [
       "character(0)"
      ]
     },
     "metadata": {},
     "output_type": "display_data"
    },
    {
     "data": {
      "text/html": [
       "<ol class=list-inline>\n",
       "\t<li>\"animals\"</li>\n",
       "\t<li>\"dogs\"</li>\n",
       "\t<li>\"horses\"</li>\n",
       "</ol>\n"
      ],
      "text/latex": [
       "\\begin{enumerate*}\n",
       "\\item \"animals\"\n",
       "\\item \"dogs\"\n",
       "\\item \"horses\"\n",
       "\\end{enumerate*}\n"
      ],
      "text/markdown": [
       "1. \"animals\"\n",
       "2. \"dogs\"\n",
       "3. \"horses\"\n",
       "\n",
       "\n"
      ],
      "text/plain": [
       "[1] \"animals\" \"dogs\"    \"horses\" "
      ]
     },
     "metadata": {},
     "output_type": "display_data"
    },
    {
     "data": {
      "text/html": [
       "<ol class=list-inline>\n",
       "\t<li>\"animals\"</li>\n",
       "\t<li>\"horses\"</li>\n",
       "</ol>\n"
      ],
      "text/latex": [
       "\\begin{enumerate*}\n",
       "\\item \"animals\"\n",
       "\\item \"horses\"\n",
       "\\end{enumerate*}\n"
      ],
      "text/markdown": [
       "1. \"animals\"\n",
       "2. \"horses\"\n",
       "\n",
       "\n"
      ],
      "text/plain": [
       "[1] \"animals\" \"horses\" "
      ]
     },
     "metadata": {},
     "output_type": "display_data"
    }
   ],
   "source": [
    "# Clear the entire workspace\n",
    "rm(list = ls())\n",
    "\n",
    "# List the contents of your workspace\n",
    "ls()\n",
    "\n",
    "# Create the variable horses\n",
    "horses <- 3\n",
    "\n",
    "# Create the variable dogs\n",
    "dogs <- 7\n",
    "\n",
    "# Create the variable animals\n",
    "animals <- horses + dogs\n",
    "\n",
    "# Inspect the contents of the workspace again\n",
    "ls()\n",
    "\n",
    "# Remove dogs from the workspace\n",
    "rm(dogs)\n",
    "\n",
    "# Inspect the objects in your workspace once more\n",
    "ls()"
   ]
  },
  {
   "cell_type": "markdown",
   "metadata": {},
   "source": [
    "[**Go to: T.O.C**](#Table-of-Content)"
   ]
  },
  {
   "cell_type": "markdown",
   "metadata": {},
   "source": [
    "## Basic Data Types\n",
    "\n",
    "-- --\n",
    "\n",
    "The notes are available as handouts. The content up ahead are just exercises and Lab content.\n",
    "\n",
    "### Knowledge Checks\n",
    "\n",
    "**RQ1: **_Which R function should you use to get the variable type?_\n",
    "\n",
    "**Ans: ** `class()`\n",
    "\n",
    "-- --\n",
    "\n",
    "**RQ2: **_Which two of the following variables are logical values?_\n",
    "\n",
    "**Ans: **\n",
    "+ `TRUE`\n",
    "\n",
    "+ `NA`\n",
    "\n",
    "-- --\n",
    "\n",
    "**RQ3: **_What is the purpose of the is.*() function?_\n",
    "\n",
    "**Ans: ** It is used to see whether variables are of certain type.\n",
    "\n",
    "-- --\n",
    "\n",
    "**RQ4: **_What is the purpose of the as.*() function?_\n",
    "\n",
    "**Ans: ** To _Transform_ the type of a variable to another type.\n",
    "-- --\n",
    "\n",
    "[**Go to TOC**](#Table-of-Content)"
   ]
  },
  {
   "cell_type": "markdown",
   "metadata": {},
   "source": [
    "## Lab-2\n",
    "-- --\n",
    "\n",
    "**Objective:**\n",
    "\n",
    "+ Getting familiar with the basic data types in R.\n",
    "\n",
    "\n",
    "+ Creating variables of different types in R.\n",
    "\n",
    "\n",
    "+ Inspecting those types with the **class()** function.\n",
    "\n",
    "\n",
    "+ Understanding _Coercion / Type casting_ in R.\n",
    "\n",
    "-- --\n",
    "\n",
    "**Basic Data Types**\n",
    "\n",
    "[1. Basic Data Types](#Basic-Data-Types)\n",
    "\n",
    "[2. Back to Apples and Oranges](#Back-to-Apples-and-Oranges)\n",
    "\n",
    "[3. What's that data types?](#What's-that-data-types?)\n",
    "\n",
    "[4. Coercion: Taming your data](#Coercion:-Taming-your-data)\n",
    "\n",
    "[5. Coercion for the sake of cleaning](#Coercion-for-the-sake-of-cleaning)\n",
    "\n",
    "-- --"
   ]
  },
  {
   "cell_type": "markdown",
   "metadata": {},
   "source": [
    "### Basic Data Types\n",
    "-- --\n",
    "\n",
    "**Preface**\n",
    "\n",
    "Some of R's most basic types to get started are:\n",
    "\n",
    "+ Decimals values like `4.5` are called numerics.\n",
    "\n",
    "\n",
    "+ Natural numbers like `4L` are called integers. Integers are also numerics.\n",
    "\n",
    "\n",
    "+ Boolean values (`TRUE` or `FALSE`) are called `logical`.\n",
    "\n",
    "\n",
    "+Text (or string) values are called `characters`.\n",
    "\n",
    "_Note_: how the quotation marks on the right indicate that \"some text\" is a character.\n",
    "\n",
    "-- --\n",
    "\n",
    "**Instructions:**\n",
    "\n",
    "Change the value of the:\n",
    "\n",
    "+ my_numeric variable to 42.\n",
    "\n",
    "\n",
    "+ my_character variable to \"forty-two\". Note that the quotation marks indicate that \"forty-two\" is a character.\n",
    "\n",
    "\n",
    "+ my_logical variable to FALSE.\n",
    "\n",
    "_Note_: that R is case sensitive!"
   ]
  },
  {
   "cell_type": "code",
   "execution_count": null,
   "metadata": {
    "collapsed": true
   },
   "outputs": [],
   "source": [
    "#####################################################\n",
    "# Title: Basic Data Types                           #\n",
    "# --------------------------------------------------#\n",
    "# About: Practisng with data types in R             #\n",
    "#####################################################\n",
    "\n",
    "# What is the answer to the universe?\n",
    "my_numeric <- 42        #Interesting queue to SETI project!\n",
    "\n",
    "# The quotation marks indicate that the variable is of type character\n",
    "my_character <- \"forty-two\"\n",
    "\n",
    "# Change the value of my_logical\n",
    "my_logical <- FALSE"
   ]
  },
  {
   "cell_type": "markdown",
   "metadata": {},
   "source": [
    "### Back to Apples and Oranges\n",
    "-- --\n",
    "\n",
    "**Preface:**\n",
    "\n",
    "Common knowledge tells you not to add apples and oranges. But hey, that is what you just did, no :-)?\n",
    "\n",
    "The `my_apples` and `my_oranges` variables both contained a number in the previous exercise. The + operator works with numeric variables in R. If you really tried to add `\"apples\"` and `\"oranges\"`, and assigned a text value to the variable `my_oranges` (see the editor), you would be trying to assign the addition of a numeric and a character variable to the variable `my_fruit`. This is not possible.\n",
    "\n",
    "-- --\n",
    "\n",
    "**Instructions:**\n",
    "\n",
    "+ Click 'Submit Answer' and read the error message. Make sure to understand why this did not work.\n",
    "\n",
    "\n",
    "+ Adjust the code so that R knows you have 6 oranges and thus a fruit basket with 11 pieces of fruit."
   ]
  },
  {
   "cell_type": "code",
   "execution_count": 1,
   "metadata": {
    "collapsed": false
   },
   "outputs": [
    {
     "data": {
      "text/html": [
       "5"
      ],
      "text/latex": [
       "5"
      ],
      "text/markdown": [
       "5"
      ],
      "text/plain": [
       "[1] 5"
      ]
     },
     "metadata": {},
     "output_type": "display_data"
    },
    {
     "data": {
      "text/html": [
       "6"
      ],
      "text/latex": [
       "6"
      ],
      "text/markdown": [
       "6"
      ],
      "text/plain": [
       "[1] 6"
      ]
     },
     "metadata": {},
     "output_type": "display_data"
    },
    {
     "data": {
      "text/html": [
       "11"
      ],
      "text/latex": [
       "11"
      ],
      "text/markdown": [
       "11"
      ],
      "text/plain": [
       "[1] 11"
      ]
     },
     "metadata": {},
     "output_type": "display_data"
    }
   ],
   "source": [
    "# Assign a value to the variable called my_apples\n",
    "my_apples <- 5 \n",
    "\n",
    "# Print out the value of my_apples\n",
    "my_apples       \n",
    "\n",
    "# Assign a value to the variable my_oranges and print it out\n",
    "my_oranges <- 6   #changed \"six\" to 6.\n",
    "my_oranges \n",
    "\n",
    "# New variable that contains the total amount of fruit\n",
    "my_fruit <- my_apples + my_oranges \n",
    "my_fruit"
   ]
  },
  {
   "cell_type": "markdown",
   "metadata": {},
   "source": [
    "### What's that data type?\n",
    "-- --\n",
    "\n",
    "**Preface:**\n",
    "\n",
    "Do you remember that when you added `5 + \"six\"`, you got an error due to a mismatch in data types? You can avoid such embarrassing situations by checking the data type of a variable beforehand. You can do this as follows:\n",
    "\n",
    "`class(some_variable_name)`\n",
    "\n",
    "In the workspace (you can inspect it by typing ls() in the console), some variables have already been defined. Which statement concerning these variables are correct?\n",
    "\n",
    "-- --\n",
    "\n",
    "**Ans: ** a's class is numeric, b is a character, c is a logical."
   ]
  },
  {
   "cell_type": "markdown",
   "metadata": {},
   "source": [
    "### Coercion: Taming your data\n",
    "-- --\n",
    "\n",
    "**Preface:**\n",
    "\n",
    "coercion to transform your data from one type to the other is possible. Next to the `class()` function and the `is.*()` functions, you can use the `as.*()` functions to enforce data to change types. For example,\n",
    "\n",
    "> `var <- \"3\"`\n",
    "\n",
    "> `var_num <- as.numeric(var)`\n",
    "\n",
    "converts the character string \"3\" in var to a numeric 3 and assigns it to var_num. Beware however, that it is not always possible to convert the types without information loss or errors:\n",
    "\n",
    "> `as.integer(\"4.5\")`\n",
    "\n",
    "> `as.numeric(\"three\")`\n",
    "\n",
    "The first line will convert the character string \"4.5\" to the integer 4. The second one will convert the character string \"three\" to an NA.\n",
    "\n",
    "-- --\n",
    "\n",
    "**Instructions:**\n",
    "\n",
    "+ Convert `var1`, a logical, to a character and assign it to the variable `var1_char`.\n",
    "\n",
    "\n",
    "+ Next, see whether `var1_char` actually is a character by using the `is.character()` function on it.\n",
    "\n",
    "\n",
    "+ Convert `var2`, a numeric, to a logical and assign it to the variable `var2_log`.\n",
    "\n",
    "\n",
    "+ Inspect the class of `var2_log` using `class()`.\n",
    "\n",
    "\n",
    "+ Finally, try to coerce `var3` to a numeric and assign the result to `var3_num`. Was it successful? "
   ]
  },
  {
   "cell_type": "code",
   "execution_count": 3,
   "metadata": {
    "collapsed": false
   },
   "outputs": [
    {
     "data": {
      "text/html": [
       "\"TRUE\""
      ],
      "text/latex": [
       "\"TRUE\""
      ],
      "text/markdown": [
       "\"TRUE\""
      ],
      "text/plain": [
       "[1] \"TRUE\""
      ]
     },
     "metadata": {},
     "output_type": "display_data"
    },
    {
     "data": {
      "text/html": [
       "TRUE"
      ],
      "text/latex": [
       "TRUE"
      ],
      "text/markdown": [
       "TRUE"
      ],
      "text/plain": [
       "[1] TRUE"
      ]
     },
     "metadata": {},
     "output_type": "display_data"
    },
    {
     "data": {
      "text/html": [
       "TRUE"
      ],
      "text/latex": [
       "TRUE"
      ],
      "text/markdown": [
       "TRUE"
      ],
      "text/plain": [
       "[1] TRUE"
      ]
     },
     "metadata": {},
     "output_type": "display_data"
    },
    {
     "data": {
      "text/html": [
       "\"logical\""
      ],
      "text/latex": [
       "\"logical\""
      ],
      "text/markdown": [
       "\"logical\""
      ],
      "text/plain": [
       "[1] \"logical\""
      ]
     },
     "metadata": {},
     "output_type": "display_data"
    },
    {
     "name": "stderr",
     "output_type": "stream",
     "text": [
      "Warning message in eval(expr, envir, enclos):\n",
      "\"NAs introduced by coercion\""
     ]
    },
    {
     "data": {
      "text/plain": [
       "[1] NA"
      ]
     },
     "metadata": {},
     "output_type": "display_data"
    }
   ],
   "source": [
    "# Create variables var1, var2 and var3\n",
    "var1 <- TRUE\n",
    "var2 <- 0.3\n",
    "var3 <- \"i\"\n",
    "\n",
    "# Convert var1 to a character: var1_char\n",
    "var1_char <- as.character(var1)\n",
    "var1_char\n",
    "\n",
    "# See whether var1_char is a character\n",
    "is.character(var1_char)\n",
    "\n",
    "# Convert var2 to a logical: var2_log\n",
    "var2_log <- as.logical(var2)\n",
    "var2_log\n",
    "\n",
    "# Inspect the class of var2_log\n",
    "class(var2_log)\n",
    "\n",
    "# Coerce var3 to a numeric: var3_num\n",
    "var3_num <- as.numeric(var3)\n",
    "var3_num"
   ]
  },
  {
   "cell_type": "markdown",
   "metadata": {},
   "source": [
    "### Coercion for the sake of cleaning\n",
    "-- --\n",
    "\n",
    "**Preface:**\n",
    "\n",
    "_When might coercion come in handy?_\n",
    "\n",
    "+ When dealing with \"messy\" datasets.\n",
    "\n",
    "    - (say) numerical variables have been stored as character strings,\n",
    "    - logicals have been stored as numericals.\n",
    " \n",
    " \n",
    "+ To prepare ourselves for such problems, try this coding exercise: your first modest steps in data cleaning!\n",
    "\n",
    "-- --\n",
    "\n",
    "**Instructions:**\n",
    "\n",
    "\n",
    "+ Use `as.numeric()` to convert the character `age`; assign the result to a new variable `age_clean`.\n",
    "\n",
    "\n",
    "+ With the help of `as.logical()`, convert the numeric `employed` and store the result to a new variable `employed_clean`.\n",
    "\n",
    "\n",
    "+ Using the `as.numeric()` function, convert the respondent's `salary` to a numeric; assign the resulting numeric to the variable `salary_clean`."
   ]
  },
  {
   "cell_type": "code",
   "execution_count": null,
   "metadata": {
    "collapsed": true
   },
   "outputs": [],
   "source": [
    "# Convert age to numeric: age_clean\n",
    "age_clean <- as.numeric(age)\n",
    "\n",
    "# Convert employed to logical: employed_clean\n",
    "employed_clean <- as.logical(employed)\n",
    "\n",
    "# Convert salary to numeric: salary_clean\n",
    "salary_clean <- as.numeric(salary)"
   ]
  }
 ],
 "metadata": {
  "anaconda-cloud": {},
  "kernelspec": {
   "display_name": "R",
   "language": "R",
   "name": "ir"
  },
  "language_info": {
   "codemirror_mode": "r",
   "file_extension": ".r",
   "mimetype": "text/x-r-source",
   "name": "R",
   "pygments_lexer": "r",
   "version": "3.3.1"
  }
 },
 "nbformat": 4,
 "nbformat_minor": 1
}
