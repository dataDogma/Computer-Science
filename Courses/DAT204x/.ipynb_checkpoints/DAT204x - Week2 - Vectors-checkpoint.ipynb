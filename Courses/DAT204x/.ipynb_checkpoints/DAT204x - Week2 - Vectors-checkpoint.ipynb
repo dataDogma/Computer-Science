{
 "cells": [
  {
   "cell_type": "markdown",
   "metadata": {},
   "source": [
    "### Table of Content\n",
    "-- --\n",
    "\n",
    "+ [Lecture: Create and Name vectors](#Create-and-Name-Vectors)\n",
    "\n",
    "\n",
    "+ [Exercise 1](#Exercise-1)\n",
    "\n",
    "\n",
    "+ [Lab1](#Lab1)\n",
    "\n",
    "\n",
    "+ [Lecture: Vector Arithematic](#Lecture: Vector Arithematic)\n",
    "\n",
    "\n",
    "+ [Exercise 2](#Exercise-2)\n",
    "\n",
    "\n",
    "+ [Lab 2](#Lab-2)\n",
    "\n",
    "-- --"
   ]
  },
  {
   "cell_type": "markdown",
   "metadata": {},
   "source": [
    "\n",
    "### Create and Name Vectors\n",
    "-- --\n",
    "\n",
    "Only the miniscules are being covered, the entire of the lecture notes are covered inside the provided handouts.\n",
    "\n",
    "**Miniscules**\n",
    "\n",
    "+ Attaching lables to the vector elements:\n",
    "\n",
    "    - Step1: Create a vector, assign it to some var.\n",
    "    - Step2: Create another vector, (say) strings.\n",
    "    - Step3: Using `names()` function to attach labels.\n",
    "    \n",
    "    Syntax: \n",
    "    \n",
    "    1. `names(<vector1>, <name vector>)`\n",
    "    2. `c( key = value, ... )`\n",
    "    3. `c( \"key\" = value, ... )`\n",
    "    \n",
    "    \n",
    "+ Under the hood: R vectors have \"attributes\" associcated with them.\n",
    "\n",
    "    - i.e. setting the names of the remaining vector, as seeting names attributes of the remains object.\n",
    "    \n",
    "    - To prove this, we can pull up `str()` function that compactly displays the structure of an R Object.\n",
    "    \n",
    "    \n",
    "+ Single values are also Vectors! _Specifically vectors of \"length = 1\"_\n",
    "\n",
    "\n",
    "+ Vectors are homogeneous( i.e they can hold elements of the same type ).\n",
    "\n",
    "    - Often called, _atomic vectors_.\n",
    "    - If although we forcibly create a heterogenous vector, R performs _coercion_.\n",
    "    - _Coercion_ makes sures that you end up with a vector of the same type.\n",
    "    \n",
    "    \n",
    "+ If we want to store heterogenous data in a vector, R has a different data type for this called **list**."
   ]
  },
  {
   "cell_type": "markdown",
   "metadata": {},
   "source": [
    "### Exercise 1\n",
    "-- --\n",
    "\n",
    "**[RQ1]: **_What function should you use to create a vector?_\n",
    "\n",
    "**Ans: ** The combine function, `c()`.\n",
    "\n",
    "-- --\n",
    "\n",
    "**[RQ2]: **_Which three of the following actions attach labels to the vector elements?_\n",
    "\n",
    "**Ans: ** \n",
    "\n",
    "1. Define the labels by using the `names()` function.\n",
    "\n",
    "2. Define the labels inside the `c()` by using the equal sign, putting the names of the labels b/w quotes.\n",
    "\n",
    "3. Or by putting the names of the labels b/w quotes.\n",
    "\n",
    "-- --\n",
    "\n",
    "**[RQ3]:** _Which two of the following options are correct?_\n",
    "\n",
    "**Ans: ** Atomic vectors can hold elements only of the same type, whereas lists can hold elements of a different type."
   ]
  },
  {
   "cell_type": "markdown",
   "metadata": {},
   "source": [
    "### Lab1\n",
    "-- --\n",
    "\n",
    "**Objective:**\n",
    "\n",
    "+ Create different types of vectors using the c() function.\n",
    "\n",
    "\n",
    "+ Naming vectors.\n",
    "\n",
    "\n",
    "+ Understanding and Creating Vectors.\n",
    "-- --\n",
    "\n",
    "#### Table of Content\n",
    "-- --\n",
    "\n",
    "1. [Create a vector 1](#Create-a-vector-1)\n",
    "\n",
    "2. [Create a vector 2](#Create-a-vector-2)\n",
    "\n",
    "3. [Naming a vector 1](#Naming-a-vector-1)\n",
    "\n",
    "4. [Naming a vector 2](#Naming-a-vector-2)\n",
    "\n",
    "5. [Different ways to create and name vectors](#Different-ways-to-create-and-name-vectors)\n",
    "\n",
    "-- --\n",
    "\n",
    "-- --\n",
    "\n"
   ]
  },
  {
   "cell_type": "markdown",
   "metadata": {},
   "source": [
    "### Create a vector 1\n",
    "-- --\n",
    "\n",
    "**Preface:**\n",
    "\n",
    "Vectors are one dimensional arrays that can hold numeric data, character data, or logical data. You create a vector with the combine function c(). You place the vector elements separated by a comma between the brackets. For example:\n",
    "\n",
    "```numeric_vector <- c(1, 2, 3)\n",
    "character_vector <- c(\"a\", \"b\", \"c\")\n",
    "boolean_vector <- c(TRUE, FALSE)```\n",
    "\n",
    "\n",
    "**Instructions:**\n",
    "\n",
    "Build a vector, boolean_vector, that contains the three elements: TRUE, FALSE and TRUE (in that order). \n"
   ]
  },
  {
   "cell_type": "code",
   "execution_count": 1,
   "metadata": {
    "collapsed": false
   },
   "outputs": [
    {
     "data": {
      "text/html": [
       "<ol class=list-inline>\n",
       "\t<li>TRUE</li>\n",
       "\t<li>FALSE</li>\n",
       "\t<li>TRUE</li>\n",
       "</ol>\n"
      ],
      "text/latex": [
       "\\begin{enumerate*}\n",
       "\\item TRUE\n",
       "\\item FALSE\n",
       "\\item TRUE\n",
       "\\end{enumerate*}\n"
      ],
      "text/markdown": [
       "1. TRUE\n",
       "2. FALSE\n",
       "3. TRUE\n",
       "\n",
       "\n"
      ],
      "text/plain": [
       "[1]  TRUE FALSE  TRUE"
      ]
     },
     "metadata": {},
     "output_type": "display_data"
    }
   ],
   "source": [
    "#####################################################\n",
    "# Title: Create a Vector                            #\n",
    "# --------------------------------------------------#\n",
    "# About: Title says it all!                         #\n",
    "#####################################################\n",
    "numeric_vector <- c(1, 10, 49)\n",
    "character_vector <- c(\"a\", \"b\", \"c\")\n",
    "\n",
    "# Create boolean_vector\n",
    "boolean_vector <- c( TRUE, FALSE, TRUE)\n",
    "boolean_vector"
   ]
  },
  {
   "cell_type": "markdown",
   "metadata": {},
   "source": [
    "### Create a vector 2\n",
    "-- --\n",
    "\n",
    "**Preface:**\n",
    "\n",
    "After one week in Las Vegas and still zero Ferraris in your garage, you decide that it is time to start using your data science superpowers.\n",
    "\n",
    "Before doing a first analysis, you decide to first collect all the winnings and losses for the last week:\n",
    "\n",
    "For `poker_vector`:\n",
    "\n",
    "    On Monday you won $140\n",
    "    Tuesday you lost $50\n",
    "    Wednesday you won $20\n",
    "    Thursday you lost $120\n",
    "    Friday you won $240\n",
    "\n",
    "For `roulette_vector`:\n",
    "\n",
    "    On Monday you lost $24\n",
    "    Tuesday you lost $50\n",
    "    Wednesday you won $100\n",
    "    Thursday you lost $350\n",
    "    Friday you won $10\n",
    "\n",
    "You only played poker and roulette, since there was a delegation of mediums that occupied the craps tables. To be able to use this data in R, you decide to create the variables `poker_vector` and `roulette_vector`.\n",
    "\n",
    "-- --\n",
    "\n",
    "**Instructions:**\n",
    "\n",
    "Assign the winnings/losses for roulette to the variable `roulette_vector`."
   ]
  },
  {
   "cell_type": "code",
   "execution_count": 2,
   "metadata": {
    "collapsed": true
   },
   "outputs": [],
   "source": [
    "#####################################################\n",
    "# Title: Create a Vector 2                          #\n",
    "# --------------------------------------------------#\n",
    "# About: Analysing a poker game.                    #\n",
    "#####################################################\n",
    "\n",
    "# Poker winnings from Monday to Friday\n",
    "poker_vector <- c(140, -50, 20, -120, 240)\n",
    "\n",
    "# Roulette winnings from Monday to Friday: roulette_vector\n",
    "roulette_vector <- c(-24, -50, 100, -350, 10)"
   ]
  },
  {
   "cell_type": "markdown",
   "metadata": {},
   "source": [
    "### Naming a vector 1\n",
    "-- --\n",
    "\n",
    "Part of a job of data analyst is to have a clear view on the data being used.\n",
    "\n",
    "\n",
    "**Preface:**\n",
    "\n",
    "In the previous exercise, we created a vector with our winnings over the week. Each vector element refers to a day of the week but it is hard to tell which element belongs to which day. It would be nice if we could show that in the vector itself. Remember the `names()` function to name the elements of a vector?\n",
    "\n",
    "```some_vector <- c(\"Johnny\", \"Poker Player\")\n",
    "names(some_vector) <- c(\"Name\", \"Profession\")```\n",
    "\n",
    "\n",
    "We can do the same thing in our combine function, `c()`:\n",
    "\n",
    "```some_vector <- c(Name = \"Johnny\", Profession = \"Poker Player\")```\n",
    "\n",
    "-- --\n",
    "\n",
    "**Instructions:**\n",
    "\n",
    "Go ahead and assign the days of the week as names to `poker_vector` and `roulette_vector`. In case you are not sure, the days of the week are: Monday, Tuesday, Wednesday, Thursday and Friday.\n"
   ]
  },
  {
   "cell_type": "code",
   "execution_count": 3,
   "metadata": {
    "collapsed": true
   },
   "outputs": [],
   "source": [
    "# Poker winnings from Monday to Friday\n",
    "poker_vector <- c(140, -50, 20, -120, 240)\n",
    "\n",
    "# Roulette winnings from Monday to Friday\n",
    "roulette_vector <- c(-24, -50, 100, -350, 10)\n",
    "\n",
    "# Add names to both poker_vector and roulette_vector\n",
    "names(poker_vector) <- c(\"Monday\", \"Tuesday\", \"Wednesday\", \"Thursday\", \"Friday\")\n",
    "names(roulette_vector) <- c(\"Monday\", \"Tuesday\", \"Wednesday\", \"Thursday\", \"Friday\")"
   ]
  },
  {
   "cell_type": "markdown",
   "metadata": {},
   "source": [
    "### Naming a vector 2\n",
    "-- --\n",
    "\n",
    "**Preface:**\n",
    "\n",
    "In the previous exercises you probably experienced that it is boring and frustrating to type and retype information such as the days of the week. However, there is a more efficient way to do this, namely, to assign the days of the week vector to a variable!\n",
    "\n",
    "Just like we did with your poker and roulette returns, we can also create a variable that contains the days of the week. This way we can use and re-use it.\n",
    "\n",
    "-- --\n",
    "\n",
    "**Instructions:**\n",
    "\n",
    "\n",
    "+ Create a variable `days_vector` that contains the days of the week, from Monday to Friday.\n",
    "\n",
    "+ Use that variable `days_vector` to set the names of `poker_vector` and `roulette_vector`."
   ]
  },
  {
   "cell_type": "code",
   "execution_count": 5,
   "metadata": {
    "collapsed": false
   },
   "outputs": [
    {
     "data": {
      "text/html": [
       "<dl class=dl-horizontal>\n",
       "\t<dt>Monday</dt>\n",
       "\t\t<dd>140</dd>\n",
       "\t<dt>Tuesday</dt>\n",
       "\t\t<dd>-50</dd>\n",
       "\t<dt>Wednesday</dt>\n",
       "\t\t<dd>20</dd>\n",
       "\t<dt>Thursday</dt>\n",
       "\t\t<dd>-120</dd>\n",
       "\t<dt>Friday</dt>\n",
       "\t\t<dd>240</dd>\n",
       "</dl>\n"
      ],
      "text/latex": [
       "\\begin{description*}\n",
       "\\item[Monday] 140\n",
       "\\item[Tuesday] -50\n",
       "\\item[Wednesday] 20\n",
       "\\item[Thursday] -120\n",
       "\\item[Friday] 240\n",
       "\\end{description*}\n"
      ],
      "text/markdown": [
       "Monday\n",
       ":   140Tuesday\n",
       ":   -50Wednesday\n",
       ":   20Thursday\n",
       ":   -120Friday\n",
       ":   240\n",
       "\n"
      ],
      "text/plain": [
       "   Monday   Tuesday Wednesday  Thursday    Friday \n",
       "      140       -50        20      -120       240 "
      ]
     },
     "metadata": {},
     "output_type": "display_data"
    },
    {
     "data": {
      "text/html": [
       "<dl class=dl-horizontal>\n",
       "\t<dt>Monday</dt>\n",
       "\t\t<dd>-24</dd>\n",
       "\t<dt>Tuesday</dt>\n",
       "\t\t<dd>-50</dd>\n",
       "\t<dt>Wednesday</dt>\n",
       "\t\t<dd>100</dd>\n",
       "\t<dt>Thursday</dt>\n",
       "\t\t<dd>-350</dd>\n",
       "\t<dt>Friday</dt>\n",
       "\t\t<dd>10</dd>\n",
       "</dl>\n"
      ],
      "text/latex": [
       "\\begin{description*}\n",
       "\\item[Monday] -24\n",
       "\\item[Tuesday] -50\n",
       "\\item[Wednesday] 100\n",
       "\\item[Thursday] -350\n",
       "\\item[Friday] 10\n",
       "\\end{description*}\n"
      ],
      "text/markdown": [
       "Monday\n",
       ":   -24Tuesday\n",
       ":   -50Wednesday\n",
       ":   100Thursday\n",
       ":   -350Friday\n",
       ":   10\n",
       "\n"
      ],
      "text/plain": [
       "   Monday   Tuesday Wednesday  Thursday    Friday \n",
       "      -24       -50       100      -350        10 "
      ]
     },
     "metadata": {},
     "output_type": "display_data"
    }
   ],
   "source": [
    "# Poker winnings from Monday to Friday\n",
    "poker_vector <- c(140, -50, 20, -120, 240)\n",
    "\n",
    "# Roulette winnings from Monday to Friday\n",
    "roulette_vector <- c(-24, -50, 100, -350, 10)\n",
    "\n",
    "# Create the variable days_vector\n",
    "days_vector <- c(\"Monday\", \"Tuesday\", \"Wednesday\", \"Thursday\", \"Friday\")\n",
    " \n",
    "# Assign the names of the day to roulette_vector and poker_vector\n",
    "names(poker_vector) <- days_vector\n",
    "names(roulette_vector) <- days_vector\n",
    "\n",
    "# Check\n",
    "poker_vector\n",
    "roulette_vector"
   ]
  },
  {
   "cell_type": "markdown",
   "metadata": {},
   "source": [
    "### Different ways to create and name vectors\n",
    "-- --\n",
    "\n",
    "The previous exercises outlined different ways of creating and naming vectors. Have a look at this chunk of code:\n",
    "\n",
    "```\n",
    "poker_vector1 <- c(140, -50, 20, -120, 240)\n",
    "names(poker_vector1) <- c(\"Monday\", \"Tuesday\", \"Wednesday\", \"Thursday\", \"Friday\")\n",
    "\n",
    "poker_vector2 <- c(Monday = 140, -50, 20, -120, 240)\n",
    "\n",
    "roulette_vector1 <- c(-24, -50, 100, -350, 10)\n",
    "days_vector <- names(poker_vector1)\n",
    "names(roulette_vector1) <- days_vector\n",
    "\n",
    "roulette_vector2 <- c(-24, -50, 100, -350, 10)\n",
    "names(roulette_vector2) <- \"Monday\"```\n",
    "\n",
    "_Which of the following statements is true?_\n",
    "\n",
    "**Ans:** `poker_vector1` and `roulette_vector1` have the same names, while `poker_vector2` and `roulette_vector2` show a names mismatch.\n",
    "\n",
    "**Conclusion**\n",
    "\n",
    "We might expect that the names of the vectors `roulette_vector1` and `roulette_vector2` are named the same; but the different approaches treat missing name information differently. Also, notice here how we can also use `names()` to get the names of a vector!\n",
    "\n",
    "-- --\n",
    "[Go to top](#Table-of-Content)"
   ]
  },
  {
   "cell_type": "markdown",
   "metadata": {},
   "source": [
    "### Vector Arithmetic\n",
    "-- --\n",
    "\n",
    "**Nuances:**\n",
    "\n",
    "1. **Scalars** are single valued vectors! e.g `x <- c(3)`\n",
    "2. Arithematic operations on vectors in R are done **element wise**.\n",
    "2. This is performed on vectors of **same length**.\n",
    "\n",
    "This raises a question, _what if we have vectors of un-equal lengths?_\n",
    "\n",
    "We will look into it a bit later in the course.\n",
    "\n",
    "For now, let's see an example:"
   ]
  },
  {
   "cell_type": "code",
   "execution_count": 6,
   "metadata": {
    "collapsed": true
   },
   "outputs": [
    {
     "data": {
      "text/html": [
       "<ol class=list-inline>\n",
       "\t<li>26</li>\n",
       "\t<li>43</li>\n",
       "\t<li>-9</li>\n",
       "</ol>\n"
      ],
      "text/latex": [
       "\\begin{enumerate*}\n",
       "\\item 26\n",
       "\\item 43\n",
       "\\item -9\n",
       "\\end{enumerate*}\n"
      ],
      "text/markdown": [
       "1. 26\n",
       "2. 43\n",
       "3. -9\n",
       "\n",
       "\n"
      ],
      "text/plain": [
       "[1] 26 43 -9"
      ]
     },
     "metadata": {},
     "output_type": "display_data"
    },
    {
     "data": {
      "text/html": [
       "<ol class=list-inline>\n",
       "\t<li>150</li>\n",
       "\t<li>267</li>\n",
       "\t<li>102</li>\n",
       "</ol>\n"
      ],
      "text/latex": [
       "\\begin{enumerate*}\n",
       "\\item 150\n",
       "\\item 267\n",
       "\\item 102\n",
       "\\end{enumerate*}\n"
      ],
      "text/markdown": [
       "1. 150\n",
       "2. 267\n",
       "3. 102\n",
       "\n",
       "\n"
      ],
      "text/plain": [
       "[1] 150 267 102"
      ]
     },
     "metadata": {},
     "output_type": "display_data"
    },
    {
     "data": {
      "text/html": [
       "FALSE"
      ],
      "text/latex": [
       "FALSE"
      ],
      "text/markdown": [
       "FALSE"
      ],
      "text/plain": [
       "[1] FALSE"
      ]
     },
     "metadata": {},
     "output_type": "display_data"
    },
    {
     "data": {
      "text/html": [
       "<ol class=list-inline>\n",
       "\t<li>TRUE</li>\n",
       "\t<li>TRUE</li>\n",
       "\t<li>TRUE</li>\n",
       "</ol>\n"
      ],
      "text/latex": [
       "\\begin{enumerate*}\n",
       "\\item TRUE\n",
       "\\item TRUE\n",
       "\\item TRUE\n",
       "\\end{enumerate*}\n"
      ],
      "text/markdown": [
       "1. TRUE\n",
       "2. TRUE\n",
       "3. TRUE\n",
       "\n",
       "\n"
      ],
      "text/plain": [
       "[1] TRUE TRUE TRUE"
      ]
     },
     "metadata": {},
     "output_type": "display_data"
    }
   ],
   "source": [
    "earnings <- c( 50, 89, 34 )\n",
    "\n",
    "expenditure <- c( 24, 46, 43 )\n",
    "\n",
    "earnings - expenditure\n",
    "\n",
    "3 * earnings   # 3; scalar and earnings; vector\n",
    "\n",
    "is.logical(earnings) # Interesting! returns a single logcial value\n",
    "\n",
    "as.logical(earnings) # does what it says!"
   ]
  },
  {
   "cell_type": "markdown",
   "metadata": {},
   "source": [
    "### Exercise 2\n",
    "-- --\n",
    "\n",
    "**RQ1: **_Complete the following sentence: To calculate the sum of 2 vectors of equal length, ___________.\n",
    "\n",
    "**Ans: ** R takes the sum of each element of the vectors and returns a new vector of the same length. correct.\n",
    "\n",
    "-- --\n",
    "\n",
    "**RQ2: ** _How is multiplication and division of vectors performed in R?_\n",
    "\n",
    "**Ans: ** Element wise.\n",
    "\n",
    "-- --\n",
    "\n",
    "**RQ3: ** _Which two of the following statements are correct?_\n",
    "\n",
    "**Ans: ** \n",
    "\n",
    "1. When multiplying a vector with a scalar (single value) in R, every element in the vector will be multiplyed by this scalar.\n",
    "\n",
    "2. By using the `sum()` func., it is possible to add up all the elements in a vector.\n",
    "\n",
    "-- --\n",
    "\n",
    "[Go to top](#Table-of-Content)"
   ]
  },
  {
   "cell_type": "markdown",
   "metadata": {},
   "source": [
    "### Lab 2\n",
    "-- --\n",
    "\n",
    "**Objectives: **\n",
    "\n",
    "+ Learn about \"vector calculus\".\n",
    "\n",
    "\n",
    "+ Perform basic \"arithematic operations\" on both, vectors and scalars.\n",
    "\n",
    "\n",
    "+ Understanding \"element wise\" arithematic operations.\n",
    "\n",
    "-- --\n",
    "\n",
    "[Lab 2 Content](#Lab 2-Content)\n",
    "\n",
    "\n",
    "+ [Summing and subtracting vectors](#Summing-and-subtracting-vectors)\n",
    "\n",
    "\n",
    "+ [Calculate your earnings](#Calculate-your-earnings)\n",
    "\n",
    "\n",
    "+ [Calculate total winnings: sum()](#Calculate-total-winnings:-sum)\n",
    "\n",
    "\n",
    "+ [Comparing total winnings](#Comparing-total- winnings)\n",
    "\n",
    "\n",
    "+ [First steps in rational gambling](#First-steps-in-rational-gambling)\n",
    "\n"
   ]
  },
  {
   "cell_type": "markdown",
   "metadata": {},
   "source": [
    "### Summing and subtracting vectors\n",
    "-- --\n",
    "\n",
    "**Preface:**\n",
    "\n",
    "Now that you have the poker and roulette winnings nicely as a named vector, you can start doing some data science magic.\n",
    "\n",
    "You want to find out the following type of information:\n",
    "\n",
    "+ How much has been your overall profit or loss per day of the week?\n",
    "\n",
    "\n",
    "+ Have you lost money over the week in total?\n",
    "\n",
    "\n",
    "+ Are you winning/losing money on poker or on roulette?\n",
    "\n",
    "You'll have to do arithmetic calculations on vectors to solve these problems. Remember that this happens element-wise; the following three statements are completely equivalent:\n",
    "```\n",
    "    c(1, 2, 3) + c(4, 5, 6)\n",
    "    c(1 + 4, 2 + 5, 3 + 6)\n",
    "    c(5, 7, 9)```\n",
    "    \n",
    "-- --\n",
    "\n",
    "**Instructions:**\n",
    "\n",
    "+ Take the element-wise sum of the variables `A_vector` and `B_vector and it assign to  `total_vector`. The result should be a vector.\n",
    "\n",
    "\n",
    "+ Inspect the result by printing `total_vector` to the console.\n",
    "\n",
    "\n",
    "+ Do the same thing, but this time subtract `B_vector` from `A_vector` and assign the result to diff_vector.\n",
    "\n",
    "\n",
    "+ Finally, print `diff_vector` to the console as well.\n",
    "-- --\n",
    "[Go to top](#Table-of-Content)"
   ]
  },
  {
   "cell_type": "code",
   "execution_count": 2,
   "metadata": {
    "collapsed": false
   },
   "outputs": [
    {
     "name": "stdout",
     "output_type": "stream",
     "text": [
      "[1] 5 7 9\n",
      "[1] -3 -3 -3\n"
     ]
    }
   ],
   "source": [
    "# A_vector and B_vector have already been defined for you\n",
    "A_vector <- c(1, 2, 3)\n",
    "B_vector <- c(4, 5, 6)\n",
    "\n",
    "# Take the sum of A_vector and B_vector: total_vector\n",
    "total_vector <- (A_vector + B_vector) # Overall profit or loss /day\n",
    "\n",
    "# Note: Addition is perfomed element wise.\n",
    "\n",
    "# Print total_vector\n",
    "print(total_vector)\n",
    "\n",
    "# Calculate the difference between A_vector and B_vector: diff_vector\n",
    "diff_vector <- (A_vector - B_vector)    # Made loss\n",
    "\n",
    "# Print diff_vector\n",
    "print(diff_vector)  "
   ]
  },
  {
   "cell_type": "markdown",
   "metadata": {},
   "source": [
    "### Calculate your earnings\n",
    "-- --\n",
    "\n",
    "**Preface:**\n",
    "\n",
    "+ First, you need to understand what the overall profit or loss / day of the wek was.\n",
    "\n",
    "\n",
    "+ Total daily profit = sum( profit / loss ) / either poker or roulette day\n",
    "\n",
    "-- --\n",
    "\n",
    "**Instructions:**\n",
    "\n",
    "Assign to the varible `total_daily` how much you won or lost on each day in total( poker and roulette combined )\n",
    "-- --\n",
    "[Go to top](#Table-of-Content)"
   ]
  },
  {
   "cell_type": "code",
   "execution_count": 4,
   "metadata": {
    "collapsed": true
   },
   "outputs": [
    {
     "data": {
      "text/html": [
       "<dl class=dl-horizontal>\n",
       "\t<dt>Monday</dt>\n",
       "\t\t<dd>140</dd>\n",
       "\t<dt>Tuesday</dt>\n",
       "\t\t<dd>-50</dd>\n",
       "\t<dt>Wednesday</dt>\n",
       "\t\t<dd>20</dd>\n",
       "\t<dt>Thursday</dt>\n",
       "\t\t<dd>-120</dd>\n",
       "\t<dt>Friday</dt>\n",
       "\t\t<dd>240</dd>\n",
       "</dl>\n"
      ],
      "text/latex": [
       "\\begin{description*}\n",
       "\\item[Monday] 140\n",
       "\\item[Tuesday] -50\n",
       "\\item[Wednesday] 20\n",
       "\\item[Thursday] -120\n",
       "\\item[Friday] 240\n",
       "\\end{description*}\n"
      ],
      "text/markdown": [
       "Monday\n",
       ":   140Tuesday\n",
       ":   -50Wednesday\n",
       ":   20Thursday\n",
       ":   -120Friday\n",
       ":   240\n",
       "\n"
      ],
      "text/plain": [
       "   Monday   Tuesday Wednesday  Thursday    Friday \n",
       "      140       -50        20      -120       240 "
      ]
     },
     "metadata": {},
     "output_type": "display_data"
    },
    {
     "data": {
      "text/html": [
       "<dl class=dl-horizontal>\n",
       "\t<dt>Monday</dt>\n",
       "\t\t<dd>-24</dd>\n",
       "\t<dt>Tuesday</dt>\n",
       "\t\t<dd>-50</dd>\n",
       "\t<dt>Wednesday</dt>\n",
       "\t\t<dd>100</dd>\n",
       "\t<dt>Thursday</dt>\n",
       "\t\t<dd>-350</dd>\n",
       "\t<dt>Friday</dt>\n",
       "\t\t<dd>10</dd>\n",
       "</dl>\n"
      ],
      "text/latex": [
       "\\begin{description*}\n",
       "\\item[Monday] -24\n",
       "\\item[Tuesday] -50\n",
       "\\item[Wednesday] 100\n",
       "\\item[Thursday] -350\n",
       "\\item[Friday] 10\n",
       "\\end{description*}\n"
      ],
      "text/markdown": [
       "Monday\n",
       ":   -24Tuesday\n",
       ":   -50Wednesday\n",
       ":   100Thursday\n",
       ":   -350Friday\n",
       ":   10\n",
       "\n"
      ],
      "text/plain": [
       "   Monday   Tuesday Wednesday  Thursday    Friday \n",
       "      -24       -50       100      -350        10 "
      ]
     },
     "metadata": {},
     "output_type": "display_data"
    }
   ],
   "source": [
    "# Casino winnings from Monday to Friday\n",
    "poker_vector <- c(140, -50, 20, -120, 240)\n",
    "roulette_vector <- c(-24, -50, 100, -350, 10)\n",
    "days_vector <- c(\"Monday\", \"Tuesday\", \"Wednesday\", \"Thursday\", \"Friday\")\n",
    "names(poker_vector) <- days_vector\n",
    "names(roulette_vector) <- days_vector\n",
    "\n",
    "# Take a peak!\n",
    "poker_vector\n",
    "roulette_vector\n",
    "\n",
    "# Calculate your daily earnings: total_daily\n",
    "total_daily <- (poker_vector + roulette_vector)"
   ]
  },
  {
   "cell_type": "markdown",
   "metadata": {},
   "source": [
    "### Calculate total winnings: sum\n",
    "-- --\n",
    "\n",
    "**Preface:**\n",
    "\n",
    "The `sum()` calculates the sum of all elements of a vector.\n",
    "\n",
    "**Instructions:**\n",
    "\n",
    "+ Calculate the total amount of money that you have won/lost with poker and assign it to the variable `total_poker`.\n",
    "\n",
    "\n",
    "+ Do the same thing for roulette and assign the result to `total_roulette`.\n",
    "\n",
    "\n",
    "+ Now that you have the totals for roulette and poker, you can easily calculate `total_week` (which is the sum of all gains and losses of the week).\n",
    "\n",
    "\n",
    "+ Print the variable `total_week`."
   ]
  },
  {
   "cell_type": "code",
   "execution_count": 5,
   "metadata": {
    "collapsed": false
   },
   "outputs": [
    {
     "name": "stdout",
     "output_type": "stream",
     "text": [
      "[1] -84\n"
     ]
    }
   ],
   "source": [
    "# Casino winnings from Monday to Friday\n",
    "poker_vector <- c(140, -50, 20, -120, 240)\n",
    "roulette_vector <- c(-24, -50, 100, -350, 10)\n",
    "days_vector <- c(\"Monday\", \"Tuesday\", \"Wednesday\", \"Thursday\", \"Friday\")\n",
    "names(poker_vector) <- days_vector\n",
    "names(roulette_vector) <- days_vector\n",
    "\n",
    "# Total winnings with poker: total_poker\n",
    "total_poker <- sum( poker_vector )\n",
    "\n",
    "# Total winnings with roulette: total_roulette\n",
    "total_roulette <- sum( roulette_vector )\n",
    "\n",
    "# Total winnings overall: total_week\n",
    "total_week <- sum( total_poker, total_roulette )\n",
    "\n",
    "# Print total_week\n",
    "print( total_week)"
   ]
  },
  {
   "cell_type": "markdown",
   "metadata": {},
   "source": [
    "**Conclusion:** Look's like we are losing money!"
   ]
  },
  {
   "cell_type": "markdown",
   "metadata": {},
   "source": [
    "### Comparing total winnings\n",
    "-- --\n",
    "\n",
    "**Preface:**\n",
    "\n",
    "We rethink our strategy and realize that we might be less skilled in roulette than in poker, we check it by using the `>` operator.\n",
    "\n",
    "**Instructions:**\n",
    "\n",
    "+ Create a new vector containing logicals, `poker_better`, that tells whether your poker gains exceeded your roulette results on a daily basis.\n",
    "\n",
    "\n",
    "+ Calculate `total_poker` and `total_roulette` as in the previous exercise.\n",
    "\n",
    "\n",
    "+ Using `total_poker` and `total_roulette`, Check if your total gains in poker are higher than for roulette by using a comparison. Assign the result of this comparison to the variable `choose_poker` and print it out. What do you conclude, should you focus on roulette or on poker?"
   ]
  },
  {
   "cell_type": "code",
   "execution_count": 6,
   "metadata": {
    "collapsed": false
   },
   "outputs": [
    {
     "name": "stdout",
     "output_type": "stream",
     "text": [
      "[1] TRUE\n"
     ]
    }
   ],
   "source": [
    "# Casino winnings from Monday to Friday\n",
    "poker_vector <- c(140, -50, 20, -120, 240)\n",
    "roulette_vector <- c(-24, -50, 100, -350, 10)\n",
    "days_vector <- c(\"Monday\", \"Tuesday\", \"Wednesday\", \"Thursday\", \"Friday\")\n",
    "names(poker_vector) <- days_vector\n",
    "names(roulette_vector) <- days_vector\n",
    "\n",
    "# Calculate poker_better\n",
    "poker_better <- (poker_vector > roulette_vector)\n",
    "\n",
    "# Calculate total_poker and total_roulette, as before\n",
    "total_poker <- sum( poker_vector)\n",
    "total_roulette <- sum( roulette_vector )\n",
    "\n",
    "# Calculate choose_poker\n",
    "choose_poker <- ( total_poker > total_roulette )\n",
    "\n",
    "# Print choose_poker\n",
    "print(choose_poker)"
   ]
  },
  {
   "cell_type": "markdown",
   "metadata": {},
   "source": [
    "**Conclusion:** Look like we truly are doing much better in \"poker\"."
   ]
  }
 ],
 "metadata": {
  "anaconda-cloud": {},
  "kernelspec": {
   "display_name": "R",
   "language": "R",
   "name": "ir"
  },
  "language_info": {
   "codemirror_mode": "r",
   "file_extension": ".r",
   "mimetype": "text/x-r-source",
   "name": "R",
   "pygments_lexer": "r",
   "version": "3.3.1"
  }
 },
 "nbformat": 4,
 "nbformat_minor": 1
}
