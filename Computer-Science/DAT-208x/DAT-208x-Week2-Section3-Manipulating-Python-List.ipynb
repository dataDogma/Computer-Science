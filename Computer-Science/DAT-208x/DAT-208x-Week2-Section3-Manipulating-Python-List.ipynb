{
 "cells": [
  {
   "cell_type": "markdown",
   "metadata": {},
   "source": [
    "![Banner Here]()"
   ]
  },
  {
   "cell_type": "markdown",
   "metadata": {},
   "source": [
    "## Manipulating Lists\n",
    "-- --\n",
    "\n",
    "Python lists can manuipulated as follows:\n",
    "\n",
    "+ Change List elements.\n",
    "\n",
    "\n",
    "+ Add list elements.\n",
    "\n",
    "\n",
    "+ Remove list elements.\n",
    "-- --"
   ]
  },
  {
   "cell_type": "markdown",
   "metadata": {},
   "source": [
    "## Exercise: Review Questions\n",
    "-- --\n",
    "\n",
    "**RQ1: **_You have a list `x` that is defined as follows:_  \n",
    "       `x = [ \"a\", \"b\", \"b\" ]`    \n",
    "    \n",
    "       \n",
    "   You need to change the second, `b` to `c` \n",
    "       \n",
    "   _Which command should you use?_\n",
    "\n",
    "**Ans: **`x[2] = \"c\"`\n",
    "\n",
    "-- --\n",
    "\n",
    "**RQ2: **_You have a list `x` that is defined as follows:_\n",
    "\n",
    "       \n",
    "        `x = [ \"a\", \"b\", \"c\" ]`\n",
    "        \n",
    " \n",
    "   _Which line of Python code do you need to add `d` at the end of the list `x`?_\n",
    "   \n",
    "**Ans: ** `x = x + [\"d\"]`\n",
    "\n",
    "**Note: ** A list can only be concatenated to another list, and not any otehr type.\n",
    "-- --\n",
    "\n",
    "**RQ3: **_You have a list `x` that is defined as follows:_\n",
    "\n",
    "        `x = [ \"a\", \"b\", \"c\", \"d\" ]`\n",
    "        \n",
    "        \n",
    "   _You decide to remove an element from it by using `del`:_\n",
    "    \n",
    "        `del( x[ 3 ] )`\n",
    "        \n",
    "        \n",
    "   _How does the list `x` look after this operation?_\n",
    " \n",
    "\n",
    "**Ans: **`[ \"\"a\", \"b\", \"c\" ]`\n",
    "-- --"
   ]
  },
  {
   "cell_type": "markdown",
   "metadata": {},
   "source": [
    "## Lab : Manipulating Lists\n",
    "-- --\n",
    "\n",
    "**Objective:**\n",
    "\n",
    "+ Manipulating lists.\n",
    "\n",
    "\n",
    "+ adapting lists.\n",
    "\n",
    "\n",
    "+ add elements to a list.\n",
    "\n",
    "\n",
    "+ Removing elements from a list.\n",
    "-- --\n"
   ]
  },
  {
   "cell_type": "markdown",
   "metadata": {},
   "source": [
    "**1. Replacing list elements, status:**\n",
    "-- --\n",
    "Concept: To replace an element from a list, and assign new values to\n",
    "the subset. \n",
    "\n",
    "   + Select either, single elements.\n",
    "   \n",
    "   \n",
    "   + Or, change the entire list slices at onece.\n",
    "-- --"
   ]
  },
  {
   "cell_type": "code",
   "execution_count": 7,
   "metadata": {
    "collapsed": false
   },
   "outputs": [
    {
     "data": {
      "text/plain": [
       "['hallway',\n",
       " 11.25,\n",
       " 'kitchen',\n",
       " 18.0,\n",
       " 'chill zone',\n",
       " 20.0,\n",
       " 'bedroom',\n",
       " 10.75,\n",
       " 'bathroom',\n",
       " 10.5]"
      ]
     },
     "execution_count": 7,
     "metadata": {},
     "output_type": "execute_result"
    }
   ],
   "source": [
    "\"\"\"\n",
    "Problem Definition:\n",
    "\n",
    "    We, are going to be continue working on our former list \"areas\".\n",
    "    \n",
    "Instructions: \n",
    "\n",
    "    + You did a miscalculation when determining the area of the bathroom;\n",
    "      \n",
    "        - it's 10.50 square meters instead of 9.50. Can you make the changes?\n",
    "   \n",
    "   \n",
    "    + Make the \"areas\" list more trendy!\n",
    "    \n",
    "        - Change \"living room\" to \"chill zone\".\n",
    "    \n",
    "\"\"\"\n",
    "# Create the areas list\n",
    "areas = [\"hallway\", 11.25, \"kitchen\", 18.0, \"living room\",\n",
    "         20.0, \"bedroom\", 10.75, \"bathroom\", 9.50]\n",
    "\n",
    "# Correct the bathroom area\n",
    "areas[-1] = 10.50\n",
    "\n",
    "# Change \"living room\" to \"chill zone\"\n",
    "areas[4] = \"chill zone\"\n",
    "areas"
   ]
  },
  {
   "cell_type": "markdown",
   "metadata": {},
   "source": [
    "**2. Extend a list -- 100xp, status:**\n",
    "-- --\n",
    "\n",
    "Concept: We can **add** elements to a list by using a `+` operator.\n",
    "\n",
    "\n",
    "+ Syntax : `listA = listB + [ elem1, elem2, elem3, ... , elem(n-1) ]`\n",
    "-- --"
   ]
  },
  {
   "cell_type": "code",
   "execution_count": 8,
   "metadata": {
    "collapsed": true
   },
   "outputs": [],
   "source": [
    "\"\"\"\n",
    "Problem Definiton:\n",
    "\n",
    "You just won the lottery, awesome! You decide to build a poolhouse and a garage.\n",
    "Can you add the information to the areas list?\n",
    "\n",
    "Instructions: \n",
    "\n",
    "    + Use the + operator to paste the list [\"poolhouse\", 24.5] to the end of\n",
    "      the \"areas\" list. Store the resulting list as \"areas_1\".\n",
    "      \n",
    "    + Further extend \"areas_1\" by adding data on your garage.\n",
    "      Add the string \"garage\" and float \"15.45\".\n",
    "      Name the resulting list \"areas_2\".\n",
    "\n",
    "\"\"\"\n",
    "\n",
    "# Create the areas list and make some changes\n",
    "areas = [\"hallway\", 11.25, \"kitchen\", 18.0, \"chill zone\", 20.0, \n",
    "         \"bedroom\", 10.75, \"bathroom\", 10.50]\n",
    "\n",
    "# Add poolhouse data to areas, new list is areas_1\n",
    "areas_1 = areas + [ \"poolhouse\", 24.5 ]\n",
    "\n",
    "\n",
    "# Add garage data to areas_1, new list is areas_2\n",
    "areas_2 = areas_1 + [ \"garage\", 15.45 ]"
   ]
  },
  {
   "cell_type": "markdown",
   "metadata": {},
   "source": [
    "**3. Delete a list element -- 50xp, status:**\n",
    "-- --\n",
    "\n",
    "Concept: We can \"delete\" elements from a an existing list using a `del` statement.\n",
    "\n",
    "+ Syntax: `del( list_name[ element_index ] )`\n",
    "\n",
    "\n",
    "+ Note: After deleting an element from a list, _the indexes of all the elements **after** the deleted item change!_\n",
    "\n",
    "-- --"
   ]
  },
  {
   "cell_type": "code",
   "execution_count": 9,
   "metadata": {
    "collapsed": false
   },
   "outputs": [
    {
     "data": {
      "text/plain": [
       "\"\\nProblem Definition:\\n\\nThere was a mistake! The amount you won with the lottery is not that big\\nafter all and it looks like the poolhouse isn't going to happen.\\nYou decide to remove the corresponding string and float from the areas list.\\n\\nThe ; sign is used to place commands on the same line.\\nThe following two code chunks are equivalent:\\n\\n\\n        + command1; command2   # Same line\\n\\n        + command1             # Seperate line\\n          command2\\n          \\nWhich of the code chuks will do the job for us?\\n\\n        Ans: del( areas[ -4 : -2 ] )\\n\""
      ]
     },
     "execution_count": 9,
     "metadata": {},
     "output_type": "execute_result"
    }
   ],
   "source": [
    "\"\"\"\n",
    "Problem Definition:\n",
    "\n",
    "There was a mistake! The amount you won with the lottery is not that big\n",
    "after all and it looks like the poolhouse isn't going to happen.\n",
    "You decide to remove the corresponding string and float from the areas list.\n",
    "\n",
    "The ; sign is used to place commands on the same line.\n",
    "The following two code chunks are equivalent:\n",
    "\n",
    "\n",
    "        + command1; command2   # Same line\n",
    "\n",
    "        + command1             # Seperate line\n",
    "          command2\n",
    "          \n",
    "Which of the code chuks will do the job for us?\n",
    "\n",
    "        Ans: del( areas[ -4 : -2 ] )\n",
    "\"\"\""
   ]
  },
  {
   "cell_type": "markdown",
   "metadata": {},
   "source": [
    "**4. Inner Working of lists -- 100xp, status:**\n",
    "-- --"
   ]
  },
  {
   "cell_type": "code",
   "execution_count": 16,
   "metadata": {
    "collapsed": false
   },
   "outputs": [
    {
     "name": "stdout",
     "output_type": "stream",
     "text": [
      "Original list: [11.25, 18.0, 20.0, 10.75, 9.5]\n",
      "Explicit copy: [5.0, 18.0, 20.0, 10.75, 9.5]\n"
     ]
    }
   ],
   "source": [
    "\"\"\"\n",
    "Problem Definition:\n",
    "\n",
    "    + \"areas\" list already exist in the code, with it's copy, \"areas_copy\".\n",
    "    \n",
    "    + Next, 1st element in the \"areas_copy\" list is changed, and \"areas\" pirnted out.\n",
    "    \n",
    "    + If we make a change to the \"copy\", it will affect the \"orginal list\" too.\n",
    "    \n",
    "        - That's because, although the list being different, they have the same\n",
    "          \"reference\" to the list!\n",
    "          \n",
    "    + To avoid this situation, we have to make an \"explicit copy\" of \"areas\"\n",
    "      list.\n",
    "      \n",
    "    + Using \"list()\" or [ : ]\n",
    "    \n",
    "        ------------------------------------------------------------\n",
    "\n",
    "Instructions:\n",
    "\n",
    "    + Change the second command, that creates the variable areas_copy,\n",
    "    \n",
    "        - such that \"areas_copy\" is an explicit copy of the \"areas\".\n",
    "        \n",
    "    + Now, changes made to \"areas_copy\", shouldn't affect the areas.\n",
    "    \n",
    "          \n",
    "\"\"\"\n",
    "# Create list areas\n",
    "areas = [11.25, 18.0, 20.0, 10.75, 9.50]\n",
    "\n",
    "# Create areas_copy\n",
    "areas_copy = list( areas )  # converting areas to an explicit list\n",
    "\n",
    "# Change areas_copy\n",
    "areas_copy[0] = 5.0\n",
    "\n",
    "# Print areas\n",
    "print(\"Original list: \" + str(areas))\n",
    "print(\"Explicit copy: \" + str(areas_copy))\n"
   ]
  }
 ],
 "metadata": {
  "anaconda-cloud": {},
  "kernelspec": {
   "display_name": "Python [default]",
   "language": "python",
   "name": "python3"
  },
  "language_info": {
   "codemirror_mode": {
    "name": "ipython",
    "version": 3
   },
   "file_extension": ".py",
   "mimetype": "text/x-python",
   "name": "python",
   "nbconvert_exporter": "python",
   "pygments_lexer": "ipython3",
   "version": "3.5.2"
  }
 },
 "nbformat": 4,
 "nbformat_minor": 1
}
