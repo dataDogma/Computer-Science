{
 "cells": [
  {
   "cell_type": "markdown",
   "metadata": {},
   "source": [
    "![Banner Here]()"
   ]
  },
  {
   "cell_type": "markdown",
   "metadata": {},
   "source": [
    "## Subsetting Lists\n",
    "-- --\n",
    "\n",
    "+ Like strings ( and all the other built-in \"sequence\" type );\n",
    "\n",
    "\n",
    "    List can be \"indexed\" and \"sliced\".\n",
    "\n",
    "\n",
    "+ Syntax :\n",
    "\n",
    "    ``list1 = [ elem1, elem2, elem3, ... , elem(n - 1)]``\n",
    "    \n",
    "    Indexing: `[ elem1, elem2, elem3, ... ]\n",
    "              0    1     2\n",
    "    \n",
    "    \n",
    " +   ``list1[ <starting_index> : <stopping_index> ]``\n",
    "                     ^                 ^\n",
    "                 inclusive          exclusive\n",
    "                            \n",
    "    i.e. _include all elements from the start of the list while excluding the last element by stopping before the last element._\n",
    "\n",
    "-- --\n",
    "+ All slicing operations returns a new list containing the requested elements.\n",
    "\n",
    "\n",
    "+ Assignment to slicing is also possible,\n",
    "\n",
    "    - Caution, this could change the \"size\" of the list or can \"clear\" it completely.\n",
    "    \n",
    "    \n",
    "+ We can also perform \"negative indexing\" by \"prepending\" a `-` sign before the index of a desired element from a list.\n",
    "\n",
    "\n",
    "+ Syntax :\n",
    "\n",
    "    ``list2 = [ elem1, elem2, elem3, ... , elem(n - 1)]``\n",
    "    \n",
    "    Neagative Indexing : \n",
    "    \n",
    "    ``[ elem1, elem2, elem3, elem 4, elem5, elem6 ]``\n",
    "      -6    -5      -4      -3      -2      -1\n",
    "    \n",
    "    "
   ]
  },
  {
   "cell_type": "markdown",
   "metadata": {},
   "source": [
    "-- --\n",
    "## Exercise: \n",
    "-- --\n",
    "\n",
    "+ **RQ1: **_Which pair of symbols do you need to do list subsetting in Python?\n",
    "\n",
    "   **Ans: ** Brackets: `[]`\n",
    "   \n",
    " \n",
    "+ **RQ2: **_What Python comand should you use to extract the element with index `1` from Python lsit `x`?_\n",
    " \n",
    "   **Ans: **`x[1]`\n",
    "   \n",
    "   \n",
    "+ **RQ3: **_You have a list `y`, containing 5 elements:_\n",
    " \n",
    "   ``y = [\"this\", \"is\", \"a\", True, \"test\"]``\n",
    "   \n",
    "   _Which two Python commands correctly extract the boolean value from the list?_\n",
    "   \n",
    "  **Ans: **`y[3]` and `y[-2]`.\n",
    "  \n",
    " \n",
    " + **RQ4: **_You want to slice a list `x`. The general syntax is:_\n",
    " \n",
    "     ``x[ begin : end ]``\n",
    "     \n",
    "   - _You need to replace `begin` and `end` with the indexes accroding to the slice you want to make._\n",
    "   \n",
    "   - _Which of the following statements is correct?_\n",
    "   \n",
    "   **Ans: **The `begin` index is \"included\" in the slice, and the `end` index is \"excluded/not\".\n",
    "   "
   ]
  },
  {
   "cell_type": "markdown",
   "metadata": {
    "collapsed": true
   },
   "source": [
    "## Lab: Subsetting Lists\n",
    "-- --\n",
    "**Objectives:**\n",
    "\n",
    "+ Accessing and Extracting information from Python lists.\n",
    "\n",
    "\n",
    "+ Chaning subsetting operations to access elements in lists of lists.\n",
    "-- --"
   ]
  },
  {
   "cell_type": "markdown",
   "metadata": {},
   "source": [
    "   1) Subset and conquer -- 100xp, status:\n",
    "\n",
    "\n",
    "   2) Subset and calculate -- 100xp, status:\n",
    "\n",
    "\n",
    "   3) Slicing and dicing -- 100xp, status:\n",
    "\n",
    "\n",
    "   4) Slicing and dicing (2) -- 100xp, status:\n",
    "\n",
    "\n",
    "   5) Subsetting lists of lists -- 50xp, status:\n"
   ]
  },
  {
   "cell_type": "markdown",
   "metadata": {},
   "source": [
    "-- --\n",
    "**1. Subset and conquer**\n",
    "\n",
    "+ Remember the areas list from before, containing both strings and floats? Its definition is already in the script.\n",
    "\n",
    "\n",
    "+ Can you add the correct code to do some Python subsetting?"
   ]
  },
  {
   "cell_type": "code",
   "execution_count": 5,
   "metadata": {
    "collapsed": false
   },
   "outputs": [
    {
     "name": "stdout",
     "output_type": "stream",
     "text": [
      "11.25\n",
      "9.5\n",
      "20.0\n"
     ]
    }
   ],
   "source": [
    "\"\"\"\n",
    "Instructions: \n",
    "\n",
    "    + Print out the second element from the areas list, so 11.25.\n",
    "    \n",
    "    + Subset and print out the last element of areas, being 9.50.\n",
    "    \n",
    "        - Using a negative index makes sense here!\n",
    "        \n",
    "    + Select the number representing the area of the living room\n",
    "      and print it out.\n",
    "\n",
    "\"\"\"\n",
    "\n",
    "# Create the areas list\n",
    "areas = [\"hallway\", 11.25, \"kitchen\", 18.0, \"living room\", 20.0,\n",
    "         \"bedroom\", 10.75, \"bathroom\", 9.50]\n",
    "\n",
    "# Print out second element from areas\n",
    "print( areas[ 1 ] )\n",
    "\n",
    "# Print out last element from areas\n",
    "print( areas[ -1 ] )\n",
    "\n",
    "# Print out the area of the living room\n",
    "print( areas[ 5 ] )"
   ]
  },
  {
   "cell_type": "markdown",
   "metadata": {},
   "source": [
    "-- --\n",
    "**2. Subset and calculate**\n",
    "\n",
    "+ After we've extracted values from a list, we can use them to perform additional calculations.\n",
    "\n",
    "\n",
    "+ Concatenation of the list elements can also be performed.\n"
   ]
  },
  {
   "cell_type": "code",
   "execution_count": 6,
   "metadata": {
    "collapsed": false
   },
   "outputs": [
    {
     "name": "stdout",
     "output_type": "stream",
     "text": [
      "28.75\n"
     ]
    }
   ],
   "source": [
    "\"\"\"\n",
    "Instructions: \n",
    "\n",
    "    + Using a combination of list subsetting and variable assignment,\n",
    "      create a new variable, eat_sleep_area, that contains the sum of the area\n",
    "      of the kitchen and the area of the bedroom.\n",
    "      \n",
    "    + Print this new variable \"eat_sleep_area\".\n",
    "    \n",
    "\"\"\"\n",
    "\n",
    "# Create the areas list\n",
    "areas = [\"hallway\", 11.25, \"kitchen\", 18.0, \"living room\", 20.0, \"bedroom\", 10.75,\n",
    "         \"bathroom\", 9.50]\n",
    "\n",
    "# Sum of kitchen and bedroom area: eat_sleep_area\n",
    "eat_sleep_area = areas[3] + areas[7]\n",
    "\n",
    "# Print the variable eat_sleep_area\n",
    "print( eat_sleep_area )"
   ]
  },
  {
   "cell_type": "markdown",
   "metadata": {},
   "source": [
    "-- --\n",
    "**3. Slicing and dicing**\n",
    "\n",
    "+ Slicing means selecting multiple elemens from our list.\n",
    "\n",
    "\n",
    "+ It's like splitting a list into sub-list."
   ]
  },
  {
   "cell_type": "code",
   "execution_count": 11,
   "metadata": {
    "collapsed": false
   },
   "outputs": [
    {
     "name": "stdout",
     "output_type": "stream",
     "text": [
      "['hallway', 11.25, 'kitchen', 18.0, 'living room', 20.0, 'bedroom']\n",
      "['bedroom', 10.75, 'bathroom', 9.5]\n"
     ]
    }
   ],
   "source": [
    "\"\"\"\n",
    "Instructions:\n",
    "\n",
    "    + Use slicing to create a list, \"downstairs\", that contains the first\n",
    "      6 elements of \"areas\".\n",
    "      \n",
    "    + Do a similar thing to create a new variable, \"upstairs\", that contains\n",
    "      the last 4 elements of areas.\n",
    "      \n",
    "    + Print both \"downstairs\" and \"upstairs\" using print().\n",
    "    \n",
    "\"\"\"\n",
    "\n",
    "# Create the areas list\n",
    "areas = [\"hallway\", 11.25, \"kitchen\", 18.0, \"living room\", 20.0, \"bedroom\",\n",
    "         10.75, \"bathroom\", 9.50]\n",
    "\n",
    "# Use slicing to create downstairs\n",
    "downstairs = areas[0:7]\n",
    "\n",
    "# Use slicing to create upstairs\n",
    "upstairs = areas[6:]\n",
    "\n",
    "# Print out downstairs and upstairs\n",
    "print( downstairs )\n",
    "\n",
    "print( upstairs )\n",
    "\n"
   ]
  },
  {
   "cell_type": "markdown",
   "metadata": {},
   "source": [
    "-- --\n",
    "**4. Slicing and dicing (2)**\n",
    "\n",
    "\n",
    "+ It is also possible to slice without explicitly defining the starting index.\n",
    "    \n",
    "   - Syntax: ``list1[ < undefined > : < end > ]``\n",
    "\n",
    "\n",
    "+ Similarly, also possible to slice without explicitly defining the ending index.\n",
    "\n",
    "    - Syntax: ``list2[ begin : < undefined > ]``\n",
    "\n",
    "\n",
    "+ It's possible to print the entire list without defining the \"begin\" and \"end\" index of a list.\n",
    "\n",
    "    - Syntax: ``list3[ < undefined > : < undefined > ]``\n",
    "    \n",
    "    "
   ]
  },
  {
   "cell_type": "code",
   "execution_count": 15,
   "metadata": {
    "collapsed": false
   },
   "outputs": [],
   "source": [
    "\"\"\"\n",
    "Instructions: \n",
    "\n",
    "    + Use slicing to create the lists, \"downstairs\" and \"upstairs\" again.\n",
    "        \n",
    "        - Without using any indexes, unless nessecery.\n",
    "\n",
    "\"\"\"\n",
    "# Create the areas list\n",
    "areas = [\"hallway\", 11.25, \"kitchen\", 18.0, \"living room\", 20.0, \"bedroom\", 10.75, \"bathroom\", 9.50]\n",
    "\n",
    "# Alternative slicing to create downstairs\n",
    "downstairs = areas[ : 6]\n",
    "\n",
    "# Alternative slicing to create upstairs\n",
    "upstairs = areas[ 6 : ]\n"
   ]
  },
  {
   "cell_type": "markdown",
   "metadata": {},
   "source": [
    "-- --\n",
    "**5. Subsetting lists of lists\n",
    "\n",
    "+ We can subset \"lists of lists\".\n",
    "\n",
    "\n",
    "    - Syntax: list[ [ sub-list1 ], [sub-list2], ... , [sub-list(n-1)] ]\n",
    "                          0            1                     n-1\n",
    "                          \n",
    "+ We can also perform both, \"indexing\" and \"slicing\" on a \"lists of lists\".\n",
    "\n",
    "\n",
    "    - Syntax: list[ < sub-list-index > ] [ < begin > : < end > ]\n",
    "-- --"
   ]
  },
  {
   "cell_type": "code",
   "execution_count": null,
   "metadata": {
    "collapsed": true
   },
   "outputs": [],
   "source": [
    "\"\"\"\n",
    "Problem definition: What will house[-1][1] return? \n",
    "\n",
    "\"\"\"\n",
    "\n",
    "# Ans : float, 9.5 as the bathroom area."
   ]
  }
 ],
 "metadata": {
  "kernelspec": {
   "display_name": "Python [default]",
   "language": "python",
   "name": "python3"
  },
  "language_info": {
   "codemirror_mode": {
    "name": "ipython",
    "version": 3
   },
   "file_extension": ".py",
   "mimetype": "text/x-python",
   "name": "python",
   "nbconvert_exporter": "python",
   "pygments_lexer": "ipython3",
   "version": "3.5.2"
  }
 },
 "nbformat": 4,
 "nbformat_minor": 1
}
