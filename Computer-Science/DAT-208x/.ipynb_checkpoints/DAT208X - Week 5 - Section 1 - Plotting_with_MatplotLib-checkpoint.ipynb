{
 "cells": [
  {
   "cell_type": "markdown",
   "metadata": {
    "collapsed": true
   },
   "source": [
    "![Banner here]()"
   ]
  },
  {
   "cell_type": "markdown",
   "metadata": {},
   "source": [
    "## Table of Content\n",
    "-- --\n",
    "\n",
    "[Why Visualization is important](#Why-visualization-is-important?)\n",
    "\n",
    "+ [Exercise 1](#Exercise-1)\n",
    "\n",
    "\n",
    "+ [Lab: Section 1](#Lab-1)\n",
    "\n",
    "    - [Line plot 1](#Line-Plot-1)\n",
    "\n",
    "    - [Line plot 2](#Interpreatation)\n",
    "\n",
    "    - [Line plot 3](#Line-plot-3)\n",
    "\n",
    "    - [Scatter Plot 1](#Scatter-Plot-1)\n",
    "\n",
    "    - [Scatter Plot 2](#Scatter-Plot-2)\n",
    "\n",
    "\n",
    "[Histograms](#Histograms)\n",
    "\n",
    "\n",
    "+ [Creating Histograms with Matplotlib](#Creating-Histograms-with-Matplotlib)\n",
    "\n",
    "+ [Exercise 2](#Exercise-2)"
   ]
  },
  {
   "cell_type": "markdown",
   "metadata": {},
   "source": [
    "# Why visualization is important?\n",
    "-- --\n",
    "There are many reasons to why _data visualization_ is important, nevertheless some of the important ones are as follows:\n",
    "\n",
    "1. For better understanding of the data in question.\n",
    "\n",
    "2. For sharing the insights with others.\n",
    "\n",
    "3. For effectively communicating results to the non-technical masses as well.\n",
    "-- --\n",
    "\n",
    "Hence python offers a package called, \"Matplotlib\", a data visualization package.\n",
    "\n",
    "let's see some help on matplotlib, but before we proceed with that, we have to first import the package.\n",
    "\n",
    "Further there are dozens of sub-packages associated with Matplotlib, hence the ones used here are some of the common ones, these are:\n",
    "\n",
    "1. `.pyplot()`\n",
    "2. `.scatter()`\n",
    "-- --\n",
    "\n",
    "**Importing convention:**\n",
    "\n",
    "`import matplotlib.pyplot as plt`\n",
    "\n",
    "Note: _plt_ is an _alias_ and not be confused by it.\n",
    "-- --"
   ]
  },
  {
   "cell_type": "markdown",
   "metadata": {},
   "source": [
    "## Exercise 1\n",
    "-- --\n",
    "\n",
    "**RQ1: **_\n",
    "What is the characteristic about data visualization?_\n",
    "\n",
    "**Ans: ** Visualization is a very powerful tool for exploring your data and reporting results. \n",
    "-- --\n",
    "\n",
    "**RQ2: **_What is the conventional way of importing the pyplot sub-package from the matplotlib package?_\n",
    "\n",
    "**Ans: **`import matplotlib.pyplot as plt`\n",
    "-- --\n",
    "\n",
    "**RQ3: **You are creating a line plot using the following code:\n",
    "\n",
    "```\n",
    "        a = [1, 2, 3, 4]\n",
    "        b = [3, 9, 2, 6]\n",
    "        plt.plot(a, b)\n",
    "        plt.show()```\n",
    "    \n",
    "_ \n",
    "Which two options describe the result of your code?_\n",
    "\n",
    "**Ans: **`a` : Horizontal axis, `b` : Vertical axis.\n",
    "-- --\n",
    "\n",
    "**RQ4: **You are modifying the following code that calls the plot() function to create a line plot:\n",
    "\n",
    "```\n",
    "        a = [1, 2, 3, 4]\n",
    "        b = [3, 9, 2, 6]\n",
    "        plt.plot(a, b)\n",
    "        plt.show()```\n",
    "        \n",
    "_What should you change in the code to create a scatter plot instead of a line plot?_\n",
    "\n",
    "**Ans: **Change `plot()` in `plt.plot()` to `scatter()`.\n",
    "-- --\n",
    "**Go to top**: [TOC](#Table-of-Content)"
   ]
  },
  {
   "cell_type": "markdown",
   "metadata": {},
   "source": [
    "## Lab:\n",
    "\n",
    "-- --\n",
    "**Objective:**\n",
    "\n",
    "+ Experiment with _matplotlib_ package.\n",
    "\n",
    "\n",
    "+ Create both _line plots_ and _scatter plots_.\n",
    "-- --\n",
    "**Go to top**: [TOC](#Table-of-Content)"
   ]
  },
  {
   "cell_type": "markdown",
   "metadata": {},
   "source": [
    "### Line Plot 1\n",
    "-- --\n",
    "\n",
    "General Recepie:\n",
    "\n",
    "```\n",
    "    import matplotlib as plt\n",
    "\n",
    "    plt.show(< variable@Horizontal_axis >, < variable@Vertical_axis >)\n",
    "\n",
    "    plt.plot( x, y )\n",
    "    \n",
    "    plt.show()```\n",
    "\n",
    "-- --\n",
    "**Preface:** \n",
    "\n",
    "In the video, you already saw how much the world population has grown over the past years. Will it continue to do so?\n",
    "\n",
    "The world bank has estimates of the world population for the years 1950 up to 2100.\n",
    "\n",
    "+ the years are loaded in your workspace as a lit called `year`.\n",
    "\n",
    "\n",
    "+ Corresponding populations as a list called `pop`.\n",
    "\n",
    "-- --\n",
    "Instructions:\n",
    "\n",
    "+ `print()` the last item from both the year and the `pop` list to see what the predicted population for the year 2100 is.\n",
    "\n",
    "\n",
    "+ Before you can start, you should import `matplotlib.pyplot` as `plt`. \n",
    "\n",
    "    - `pyplot` is a sub-package of `matplotlib`, hence the dot.\n",
    "    \n",
    "    \n",
    "+ Use `plt.plot()` to build a line plot. year should be mapped on the horizontal axis,\n",
    "\n",
    "    - `pop` on the vertical axis. Don't forget to finish off with the `show()` function to actually display the plot.\n",
    "-- --\n",
    "**Go to top**: [TOC](#Table-of-Content)"
   ]
  },
  {
   "cell_type": "code",
   "execution_count": 2,
   "metadata": {
    "collapsed": true
   },
   "outputs": [],
   "source": [
    "# Print the last item from year and pop\n",
    "# print(year[-1])\n",
    "# print(pop[-1])\n",
    "\n",
    "\n",
    "# Import matplotlib.pyplot as plt\n",
    "# import matplotlib.pyplot as plt\n",
    "\n",
    "# Make a line plot: year on the x-axis, pop on the y-axis\n",
    "# plt.plot( year, pop)\n",
    "# plt.show()"
   ]
  },
  {
   "cell_type": "markdown",
   "metadata": {},
   "source": [
    "### Line Plot 2\n",
    "-- --\n",
    "\n",
    "**Question: **_What is the first year in which there will be more than ten billion human beings on this planet?_\n",
    "\n",
    "**Ans: **By 2060, the world population will rise appx. to 10 billion.\n",
    "-- --\n",
    "**Go to top**: [TOC](#Table-of-Content)"
   ]
  },
  {
   "cell_type": "markdown",
   "metadata": {},
   "source": [
    "### Line plot 3\n",
    "-- --\n",
    "\n",
    "Preface:\n",
    "\n",
    "Now that you've built your first line plot, let's start working on the data that professor Hans Rosling used to build his beautiful bubble chart. It was collected in 2007. Two lists are available for you:\n",
    "\n",
    "+ `life_exp` which contains the life expectancy for each country and\n",
    "    \n",
    "+  `gdp_cap`, which contains the GDP per capita, for each country expressed in US Dollar.\n",
    "\n",
    "**GDP** _stands for Gross Domestic Product. It basically represents the size of the economy of a country_.Divide this by the population and you get the GDP per capita.\n",
    "-- --\n",
    "\n",
    "Instructions:\n",
    "\n",
    "+ Print the last item from both the list gdp_cap, and the list life_exp; it is information about Zimbabwe.\n",
    "\n",
    "\n",
    "+ Build a line chart, with gdp_cap on the x-axis, and life_exp on the y-axis. \n",
    "\n",
    "    - Does it make sense to plot this data on a line plot?\n",
    "    \n",
    "\n",
    "+ Don't forget to finish off with a plt.show() command, to actually display the plot.\n",
    "-- --\n",
    "**Go to top**: [TOC](#Table-of-Content)"
   ]
  },
  {
   "cell_type": "code",
   "execution_count": 3,
   "metadata": {
    "collapsed": true
   },
   "outputs": [],
   "source": [
    "# Print the last item of gdp_cap and life_exp\n",
    "# print( gdp_cap[ -1 ] )\n",
    "# print( life_exp[ -1 ])\n",
    "\n",
    "# Make a line plot, gdp_cap on the x-axis, life_exp on the y-axis\n",
    "# plt.plot( gdp_cap, life_exp )\n",
    "\n",
    "# Display the plot\n",
    "# plt.show()"
   ]
  },
  {
   "cell_type": "markdown",
   "metadata": {},
   "source": [
    "### Scatter Plot 1\n",
    "-- --\n",
    "\n",
    "It's fine to use such tools, but how do we know which one is best suited for which purpose? As a rule of thumb:\n",
    "\n",
    "+ When we have a _time scale_ along the _horizontal axis_.\n",
    "\n",
    "    - We generally prefer a **line plot**.\n",
    "    \n",
    "    \n",
    "+ When we're trying to assess if there's a correlation b/w two variables.\n",
    "\n",
    "    - We go with **scatter plot**.\n",
    "-- --\n",
    "\n",
    "**Importing convention:**\n",
    "\n",
    "```\n",
    "    import matplotlib.pyplot as plt\n",
    "    plt.scatter( x, y )\n",
    "    plt.show()```\n",
    "    \n",
    "Preface:\n",
    "\n",
    "Let's continue with the `gdp_cap` versus `life_exp` plot, the GDP and life expectancy data for different countries in 2007. Maybe a scatter plot will be a better alternative?\n",
    "\n",
    "Instructions:\n",
    "\n",
    "+ Change the line plot that's coded in the script to a scatter plot.\n",
    "\n",
    "\n",
    "+ A correlation will become clear when you display the GDP per capita on a logarithmic scale. Add the line `plt.xscale('log')`.\n",
    "\n",
    "\n",
    "+ Finish off your script with `plt.show()` to display the plot.\n",
    "-- --\n",
    "**Go to top**: [TOC](#Table-of-Content)"
   ]
  },
  {
   "cell_type": "code",
   "execution_count": 4,
   "metadata": {
    "collapsed": true
   },
   "outputs": [],
   "source": [
    "# Change the line plot below to a scatter plot\n",
    "#plt.scatter(gdp_cap, life_exp)\n",
    "\n",
    "# Put the x-axis on a logarithmic scale\n",
    "#plt.xscale('log')\n",
    "\n",
    "# Show plot\n",
    "#plt.show()"
   ]
  },
  {
   "cell_type": "markdown",
   "metadata": {},
   "source": [
    "### Scatter Plot 2\n",
    "-- --\n",
    "\n",
    "Preface:\n",
    "\n",
    "In the previous exercise, you saw that that the higher GDP usually corresponds to a higher life expectancy. In other words, there is a positive correlation.\n",
    "\n",
    "Do you think there's a relationship between population and life expectancy of a country? \n",
    "-- --\n",
    "\n",
    "Instructions:\n",
    "\n",
    "\n",
    "+ Start from scratch: import `matplotlib.pyplot` as `plt`.\n",
    "\n",
    "\n",
    "+ Build a scatter plot, where pop is mapped on the horizontal axis, and `life_exp` is mapped on the vertical axis.\n",
    "\n",
    "\n",
    "+ Finish the script with `plt.show()` to actually display the plot. Do you see a correlation?\n",
    "\n",
    "**Go to top**: [TOC](#Table-of-Content)"
   ]
  },
  {
   "cell_type": "code",
   "execution_count": null,
   "metadata": {
    "collapsed": true
   },
   "outputs": [],
   "source": [
    "# Import package\n",
    "# import matplotlib.pyplot as plt\n",
    "\n",
    "# Build Scatter plot\n",
    "# plt.scatter( pop, life_exp )\n",
    "\n",
    "# Show plot\n",
    "# plt.show()\n",
    "\n",
    "\"\"\"Conclusion: Ther's no correlation b/w population\n",
    "and Life Expectency! Which makes perfect sense.\"\"\""
   ]
  },
  {
   "cell_type": "markdown",
   "metadata": {},
   "source": [
    "### Histograms\n",
    "-- --\n",
    "\n",
    "In descriptive statistics, a histogram is a tool that precedes over to precursor methods such as dot plots on number line. It's a tool to visualize the frequency of a distribution.\n",
    "\n",
    "In particular, Histograms are useful data visualziation tool for \"Qunatitative data\" in question.\n",
    "\n",
    "\n",
    "Histogram concept:\n",
    "\n",
    "+ Start off with number line, with data points superimposed respectively to there magnitude.\n",
    "\n",
    "\n",
    "+ Next divide the line into equal chunks, called _bins_.\n",
    "\n",
    "\n",
    "+ With each _bin_ containing data points, we **count** the _number of data points_ in each bin.\n",
    "\n",
    "\n",
    "+ Finally, we draw a _bar_ for each _bin_. The _height of the bar_ corresponds to the number of data points that fall in this bin.\n",
    "-- --\n",
    "**Go to top**: [TOC](#Table-of-Content)"
   ]
  },
  {
   "cell_type": "markdown",
   "metadata": {},
   "source": [
    "### Creating Histograms with Matplotlib\n",
    "-- --\n",
    "\n",
    "**Importing convention:**\n",
    "\n",
    ">`import matplotlib.pyplot as plt`\n",
    "\n",
    "followed by calling the histogram func. using `plt`.\n",
    "\n",
    "\n",
    ">`plt.hist(<list variable>, <no. of bins>)`\n",
    "\n",
    "\n",
    "\n",
    "**Note:** A good bit about the `.hist()` is, it automatically computes the boundries for all the bins. Also calculates _how many values in each one_."
   ]
  },
  {
   "cell_type": "markdown",
   "metadata": {},
   "source": [
    "### Exercise 2\n",
    "-- --\n",
    "\n",
    "**RQ1: **_What is a characteristic of a histogram?_\n",
    "\n",
    "**Ans: **\n",
    "-- --\n",
    "\n",
    "**RQ2: **You are working with a Python list with 10 different values. You divide the values into 5 equally-sized bins.\n",
    "\n",
    "_How wide will these bins be if the lowest value in your list is 0 and the highest is 20?_\n",
    "\n",
    "**Ans: ** The range of the values is 20, if we divide into 5 bins, then each bin will have a width of 4.\n",
    "\n",
    "For a visual que, see below cell."
   ]
  },
  {
   "cell_type": "code",
   "execution_count": 5,
   "metadata": {
    "collapsed": false
   },
   "outputs": [
    {
     "data": {
      "image/png": "[encoded data removed]",
      "text/plain": [
       "<matplotlib.figure.Figure at 0x2149c0e0908>"
      ]
     },
     "metadata": {},
     "output_type": "display_data"
    }
   ],
   "source": [
    "x = [0, 0, 0, 0, 0, 0, 0, 0, 0, 20]\n",
    "\n",
    "import matplotlib.pyplot as plt\n",
    "\n",
    "plt.hist( x, 5 )\n",
    "\n",
    "plt.show()"
   ]
  },
  {
   "cell_type": "markdown",
   "metadata": {},
   "source": [
    "**RQ3: **You write the following code:\n",
    "\n",
    "```\n",
    "    \n",
    "    import matplotlib.pyplot as plt\n",
    "    x = [1, 3, 6, 3, 2, 7, 3, 9, 7, 5, 2, 4]\n",
    "    plt.hist(x)\n",
    "    plt.show()```\n",
    "\n",
    "_You need to extend the plt.hist() command to specifically set the number of bins to 4. What should you do?_\n",
    "\n",
    "**Ans: ** `plt.hist(x, 4)`"
   ]
  }
 ],
 "metadata": {
  "kernelspec": {
   "display_name": "Python [default]",
   "language": "python",
   "name": "python3"
  },
  "language_info": {
   "codemirror_mode": {
    "name": "ipython",
    "version": 3
   },
   "file_extension": ".py",
   "mimetype": "text/x-python",
   "name": "python",
   "nbconvert_exporter": "python",
   "pygments_lexer": "ipython3",
   "version": "3.5.2"
  }
 },
 "nbformat": 4,
 "nbformat_minor": 1
}
