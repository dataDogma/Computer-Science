{
 "cells": [
  {
   "cell_type": "markdown",
   "metadata": {},
   "source": [
    "![Banner here]()"
   ]
  },
  {
   "cell_type": "markdown",
   "metadata": {},
   "source": [
    "## Introductory functions for data science\n",
    "-- --\n",
    "\n",
    "**Lecture Objective:**\n",
    "\n",
    "\n",
    "+ Learning `max()` function and it's usage.\n",
    "\n",
    "+ Learning `round()` function and it's usage.\n",
    "-- --"
   ]
  },
  {
   "cell_type": "code",
   "execution_count": 1,
   "metadata": {
    "collapsed": false
   },
   "outputs": [
    {
     "name": "stdout",
     "output_type": "stream",
     "text": [
      "Help on built-in function max in module builtins:\n",
      "\n",
      "max(...)\n",
      "    max(iterable, *[, default=obj, key=func]) -> value\n",
      "    max(arg1, arg2, *args, *[, key=func]) -> value\n",
      "    \n",
      "    With a single iterable argument, return its biggest item. The\n",
      "    default keyword-only argument specifies an object to return if\n",
      "    the provided iterable is empty.\n",
      "    With two or more arguments, return the largest argument.\n",
      "\n"
     ]
    }
   ],
   "source": [
    "# use python help() on max()\n",
    "help(max)"
   ]
  },
  {
   "cell_type": "code",
   "execution_count": 2,
   "metadata": {
    "collapsed": false
   },
   "outputs": [
    {
     "name": "stdout",
     "output_type": "stream",
     "text": [
      "Help on built-in function round in module builtins:\n",
      "\n",
      "round(...)\n",
      "    round(number[, ndigits]) -> number\n",
      "    \n",
      "    Round a number to a given precision in decimal digits (default 0 digits).\n",
      "    This returns an int when called with one argument, otherwise the\n",
      "    same type as the number. ndigits may be negative.\n",
      "\n"
     ]
    }
   ],
   "source": [
    "# use help() on round()\n",
    "help(round)"
   ]
  },
  {
   "cell_type": "code",
   "execution_count": 5,
   "metadata": {
    "collapsed": false
   },
   "outputs": [
    {
     "name": "stdout",
     "output_type": "stream",
     "text": [
      "The tallest one is : 6.7 feets\n"
     ]
    }
   ],
   "source": [
    "# example on max\n",
    "height = [ 4.5, 5.2, 6.7, 4.8, 5.6 ]\n",
    "\n",
    "print(\"The tallest one is : \" + str( max( height ) ) + \" feets\" )"
   ]
  },
  {
   "cell_type": "code",
   "execution_count": 12,
   "metadata": {
    "collapsed": false
   },
   "outputs": [
    {
     "name": "stdout",
     "output_type": "stream",
     "text": [
      "The number is rounded to: 5.6 with 1 decimal place of significance\n",
      "\n",
      "The number is rounded to: 6 by default\n"
     ]
    }
   ],
   "source": [
    "# exmple on round\n",
    "some_number = 5.63\n",
    "\n",
    "# round() with two arguments, \"number\" and \"decimal place significance\"\n",
    "print(\"The number is rounded to: \" + str( round( some_number, 1 ) ) + \" with 1 decimal place of significance\" )\n",
    "\n",
    "# next, round() with only one arugment\n",
    "print(\"\\nThe number is rounded to: \" + str( round( some_number ) ) + \" by default\" )"
   ]
  },
  {
   "cell_type": "markdown",
   "metadata": {},
   "source": [
    "**What if while using** `max()`**there were multiple items?**\n",
    "-- --\n",
    "In this case, the function returns the first one encountered. This remains consistent with other sort-stability preserving tools, such as `sorted()` and `heapq()`.\n",
    "-- --"
   ]
  },
  {
   "cell_type": "markdown",
   "metadata": {},
   "source": [
    "## Exercise: \n",
    "-- --\n",
    "\n",
    "1) **RQ1: **_What is a Python function?_\n",
    " \n",
    "   **Ans: **A piece of reusable Python code, that solves a particular problem.\n",
    "\n",
    "\n",
    "2) **RQ2: **You have a list named `x`. To calculate the minimum value in this list, you use the `min()` function.\n",
    "\n",
    "   _Which Python command should you use?_\n",
    "    \n",
    "   **Ans: **`min(x)`\n",
    " \n",
    "\n",
    "3) **RQ3: **_What Python command opens up the documentation from inside the IPython Shell for the `min` fucntion?_\n",
    "\n",
    "   **Ans: **`help(min)`\n",
    "   \n",
    "4) **RQ4: **_The function `round` has two arguments. Select the two correct statements about these arguments._\n",
    "\n",
    "   **Ans: **Number is a required argument, and `ndigits` is an optional argument."
   ]
  },
  {
   "cell_type": "markdown",
   "metadata": {},
   "source": [
    "## Lab: Functions\n",
    "-- --\n",
    "\n",
    "**Objective:**\n",
    "\n",
    "+ Use functions in different ways.\n",
    "\n",
    "\n",
    "+ Experiment with different ways of specifyinng arguments.\n",
    "\n",
    "\n",
    "+ How default argumetns work.\n",
    "-- --"
   ]
  },
  {
   "cell_type": "markdown",
   "metadata": {},
   "source": [
    "**1 Familiar functions - 100xp, status: Earned**\n",
    "-- --\n",
    "\n",
    "_The genereal recepie for calling functions is:_\n",
    "\n",
    "\n",
    "    `output = function_name(input)`\n",
    "        \n",
    "                     or\n",
    "                     \n",
    "    `variable = function_name( required arg, [ optional arg ] )` \n",
    "-- --"
   ]
  },
  {
   "cell_type": "code",
   "execution_count": 14,
   "metadata": {
    "collapsed": false
   },
   "outputs": [
    {
     "name": "stdout",
     "output_type": "stream",
     "text": [
      "<class 'list'>\n",
      "4\n",
      "1\n"
     ]
    }
   ],
   "source": [
    "\"\"\"\n",
    "Instructionns: \n",
    "\n",
    "        + Use print() in combination with type() to print out the type of\n",
    "        var1.\n",
    "        \n",
    "        + Use len() to get the length of the list var1.\n",
    "          Wrap it in a print() call to directly print it out.\n",
    "          \n",
    "        + Use int() to convert var2 to an integer. Store the output as out2.\n",
    "\"\"\"\n",
    "\n",
    "# Create variables var1 and var2\n",
    "var1 = [1, 2, 3, 4]\n",
    "var2 = True\n",
    "\n",
    "# Print out type of var1\n",
    "print( type( var1 ) )\n",
    "\n",
    "# Print out length of var1\n",
    "print( len( var1 ))\n",
    "\n",
    "# Convert var2 to an integer: out2\n",
    "out2 = int( var2 )\n",
    "print(out2)"
   ]
  },
  {
   "cell_type": "markdown",
   "metadata": {},
   "source": [
    "-- --\n",
    "**2. Help1 - 50xp, status: Earned**\n",
    "\n",
    "To get the help on the any function, use the following two syntax or function:\n",
    "\n",
    "+ `help( function_name )`\n",
    "\n",
    "\n",
    "+ `?function_name`\n",
    "-- --"
   ]
  },
  {
   "cell_type": "markdown",
   "metadata": {},
   "source": [
    "Use the shell to open up the documentation on `complex()`.\n",
    "_Which of the following statements is true?_:\n",
    "\n",
    "**Ans: ** `complex()` takes two arguments, required: real number and optional: imaginary number. If only requried argument is inserted, by default the value of optional,is 0."
   ]
  },
  {
   "cell_type": "markdown",
   "metadata": {},
   "source": [
    "-- --\n",
    "**3. Multiple arguments -- 100xp, status: Earned**\n",
    "\n",
    "\n",
    "+ `[]` barackets around a function argument, represent an \"optional argument\"\n",
    "\n",
    "\n",
    "+ Python also uses different way's to notify user about arg's being optional.\n",
    "\n",
    "\n",
    "+ E.g. documentation of `sorted()` takes three arguments:\n",
    "\n",
    "    * Iterable.\n",
    "\n",
    "    * key, where `key = None`, if arg non-specified, key will be \"None\".\n",
    "\n",
    "    * reverese, where `reverse = False`, if arg non-specified, argument by default will be \"False\".\n",
    "-- --"
   ]
  },
  {
   "cell_type": "code",
   "execution_count": 17,
   "metadata": {
    "collapsed": false
   },
   "outputs": [
    {
     "name": "stdout",
     "output_type": "stream",
     "text": [
      "Help on built-in function sorted in module builtins:\n",
      "\n",
      "sorted(iterable, key=None, reverse=False)\n",
      "    Return a new list containing all items from the iterable in ascending order.\n",
      "    \n",
      "    A custom key function can be supplied to customise the sort order, and the\n",
      "    reverse flag can be set to request the result in descending order.\n",
      "\n"
     ]
    }
   ],
   "source": [
    "?sorted\n",
    "help(sorted)"
   ]
  },
  {
   "cell_type": "code",
   "execution_count": 23,
   "metadata": {
    "collapsed": false
   },
   "outputs": [
    {
     "name": "stdout",
     "output_type": "stream",
     "text": [
      "Modified list: [11.25, 18.0, 20.0, 10.75, 9.5]\n",
      "\n",
      "The sorted list is decending order is: [20.0, 18.0, 11.25, 10.75, 9.5]\n"
     ]
    }
   ],
   "source": [
    "\"\"\"\n",
    "Problem Definition:\n",
    "\n",
    "In this exercise, you'll only have to specify \"iterable\" and \"reverse\", not key.\n",
    "The first input you pass to \"sorted()\" will obviously be matched to the iterable argument,\n",
    "but what about the second input?\n",
    "\n",
    "To tell Python you want to specify reverse without changing anything about key,\n",
    "you can use \"=` :\n",
    "\n",
    "\n",
    "        sorted(___, reverese = ___)\n",
    "        \n",
    "Two lists have been created,\n",
    "\n",
    "        + paste them together and\n",
    "        \n",
    "        + sort them in \"descending order\".\n",
    "\n",
    "\n",
    "Instructions: \n",
    "\n",
    "        + Use \"+\" to merge the contents of \"first\" and \"second\" into a new list: \"full\".\n",
    "        \n",
    "        + Call \"sorted()\" on \"full\" and specify the \"reverse\" argument to be \"True\".\n",
    "        \n",
    "            - Save the sorted list as \"full_sorted\".\n",
    "            \n",
    "        + Finish off by printing out \"full_sorted\".\n",
    "\"\"\"\n",
    "# Create lists first and second\n",
    "first = [11.25, 18.0, 20.0]\n",
    "second = [10.75, 9.50]\n",
    "\n",
    "# Paste together first and second: full\n",
    "full = list(first + second)\n",
    "print(\"Modified list: \" + str( full ) )\n",
    "\n",
    "# Sort full in descending order: full_sorted\n",
    "full_sorted = sorted( full, key = None, reverse = True )\n",
    "\n",
    "# Print out full_sorted\n",
    "print(\"\\nThe sorted list is decending order is: \" + str( full_sorted ) )\n"
   ]
  }
 ],
 "metadata": {
  "anaconda-cloud": {},
  "kernelspec": {
   "display_name": "Python [default]",
   "language": "python",
   "name": "python3"
  },
  "language_info": {
   "codemirror_mode": {
    "name": "ipython",
    "version": 3
   },
   "file_extension": ".py",
   "mimetype": "text/x-python",
   "name": "python",
   "nbconvert_exporter": "python",
   "pygments_lexer": "ipython3",
   "version": "3.5.2"
  }
 },
 "nbformat": 4,
 "nbformat_minor": 1
}
