{
 "cells": [
  {
   "cell_type": "markdown",
   "metadata": {},
   "source": [
    "![Banner goes here]()"
   ]
  },
  {
   "cell_type": "markdown",
   "metadata": {},
   "source": [
    "# Lecture: Methods\n",
    "-- --\n",
    "\n",
    "Following are some of the functions used formarly in this course:\n",
    "\n",
    "\n",
    "+ `Max()`\n",
    "\n",
    "+ `len()`\n",
    "\n",
    "+ `round()`\n",
    "\n",
    "+ `sorted()`\n",
    "\n",
    "Let's learn a few more:\n",
    "\n",
    "+ Get index in a list: ?\n",
    "\n",
    "+ Reversing a list: ?\n",
    "\n",
    "\n",
    "**Note**: all the data structures in python are called `objects`.\n",
    "-- --\n",
    "Python has _built-in methods_ which informaly are:\n",
    "\n",
    "`Functions` that belong to `python objects`, e.g. A python object of type `string` has `methods`, such as:\n",
    "\n",
    "+ `capitalize` and\n",
    "\n",
    "+ `replace`\n",
    "\n",
    "Further, `objects` of type `float` have \"specific methods\" depending on the `type`.\n",
    "-- --\n",
    "Syntax: \n",
    "\n",
    "+ `object.method_name( <arguments> )`\n",
    "\n",
    "\n",
    "+ The `.(dot)` is called `address off operator` which uses `reference` of specified method to be searched from the standard library of python, which contains list of functions and methods.\n",
    "-- --\n",
    "To sum things up: \n",
    "\n",
    "_In Python, everything is an `object`, and each object has a `specific method` associated with it, depending on the `type of object`._\n",
    "\n",
    "**Note:**\n",
    "\n",
    "+ Some methods can also, `change` the `objects` they are called on.\n",
    "    - e.g. The `.append()` method!\n",
    "\n",
    "\n",
    "+ Consequently, some don't and thus a caution is needed while usig such methods!"
   ]
  },
  {
   "cell_type": "markdown",
   "metadata": {},
   "source": [
    "## Lab: Methods\n",
    "-- --\n",
    "**Objective:**\n",
    "\n",
    "+ Get to know different kinds of methods.\n",
    "\n",
    "\n",
    "+ Understand the nuances that come packaged with methods.\n",
    "\n",
    "    - by practising them on data types such as `string` and `list`.\n"
   ]
  },
  {
   "cell_type": "markdown",
   "metadata": {},
   "source": [
    "-- --\n",
    "+ String Methods -- 100xp, status: Earned\n",
    "\n",
    "\n",
    "+ List Methods -- 100xp, status: Earned\n",
    "\n",
    "\n",
    "+ List Methods II -- 100xp, status: Earned\n",
    "-- --"
   ]
  },
  {
   "cell_type": "markdown",
   "metadata": {},
   "source": [
    "**1. String Methods -- 100xp, status: earned**"
   ]
  },
  {
   "cell_type": "code",
   "execution_count": 3,
   "metadata": {
    "collapsed": false
   },
   "outputs": [
    {
     "name": "stdout",
     "output_type": "stream",
     "text": [
      "poolhouse\n",
      "\n",
      "POOLHOUSE\n",
      "\n",
      "3\n"
     ]
    }
   ],
   "source": [
    "\"\"\"\n",
    "Instructions: \n",
    "\n",
    "    + Use the upper() method on room and store the result in room_up.\n",
    "      Use the dot notation.\n",
    "      \n",
    "    + Print out room and room_up. Did both change?\n",
    "    \n",
    "    + Print out the number of o's on the variable room by calling count()\n",
    "      on room and passing the letter \"o\" as an input to the method.\n",
    "\n",
    "        - We're talking about the variable room, not the word \"room\"!\n",
    "\"\"\"\n",
    "# string to experiment with: room\n",
    "room = \"poolhouse\"\n",
    "\n",
    "# Use upper() on room: room_up\n",
    "room_up = room.upper()\n",
    "\n",
    "# Print out room and room_up\n",
    "print(room)\n",
    "print( \"\\n\" + room_up )\n",
    "\n",
    "# Print out the number of o's in room\n",
    "print(\"\\n\" + str( room.count(\"o\") ) )"
   ]
  },
  {
   "cell_type": "markdown",
   "metadata": {},
   "source": [
    "**2. List Methods -- 100xp, status: earned**"
   ]
  },
  {
   "cell_type": "markdown",
   "metadata": {},
   "source": [
    "Other Python data types alos have many common method's associated with them, some of these methods are exclusive to some data types.\n",
    "\n",
    "A few of them we will be experimenting on them:\n",
    "\n",
    "+ `index()`, to get the index of the first element of a slist that matches its input.\n",
    "\n",
    "\n",
    "+ `count()`, to get the number of times an element appears in a list.\n",
    "-- --"
   ]
  },
  {
   "cell_type": "code",
   "execution_count": 25,
   "metadata": {
    "collapsed": false
   },
   "outputs": [
    {
     "name": "stdout",
     "output_type": "stream",
     "text": [
      "Help on method_descriptor:\n",
      "\n",
      "count(...)\n",
      "    S.count(sub[, start[, end]]) -> int\n",
      "    \n",
      "    Return the number of non-overlapping occurrences of substring sub in\n",
      "    string S[start:end].  Optional arguments start and end are\n",
      "    interpreted as in slice notation.\n",
      "\n",
      "\n",
      "===================================================\n",
      "===================================================\n",
      "Help on method_descriptor:\n",
      "\n",
      "index(...)\n",
      "    S.index(sub[, start[, end]]) -> int\n",
      "    \n",
      "    Like S.find() but raise ValueError when the substring is not found.\n",
      "\n",
      "\n",
      "The index of the element 20.0 is: 2\n",
      "\n",
      "The number of times 14.5 occurs is: 0\n"
     ]
    }
   ],
   "source": [
    "\"\"\"\n",
    "Instructions:\n",
    "\n",
    "    + Use the index() method to get the index of the element\n",
    "      in areas that is equal to 20.0. Print out this index.\n",
    "      \n",
    "    + Call count() on areas to find out how many times 14.5\n",
    "      appears in the list. Again, simply print out this number.\n",
    "    \n",
    "\"\"\"\n",
    "# first let's look more about these methods\n",
    "help(str.count)\n",
    "print(2*\"\\n===================================================\")\n",
    "help(str.index)\n",
    "# Create list areas\n",
    "areas = [11.25, 18.0, 20.0, 10.75, 9.50]\n",
    "\n",
    "# Print out the index of the element 20.0\n",
    "print( \"\\nThe index of the element 20.0 is: \" + str( areas.index( 20 ) ) )\n",
    "\n",
    "# Print out how often 14.5 appears in areas\n",
    "print(\"\\nThe number of times 14.5 occurs is: \" + str( areas.count( 14.5 ) ) )\n"
   ]
  },
  {
   "cell_type": "markdown",
   "metadata": {},
   "source": [
    "**3. List Methods II -- 100xp, status: earned**\n",
    "-- --\n",
    "Most list methods will change the list they're called on. E.g.\n",
    "\n",
    "+ `append()` : adds and element to the list it is called on.\n",
    "\n",
    "\n",
    "+ `remove()`: removes the \"1st element\" of a list that matches the inuput.\n",
    "\n",
    "\n",
    "+ `reverse()` : reverse the order of the elements in the list it is called on.\n",
    "-- --"
   ]
  },
  {
   "cell_type": "code",
   "execution_count": 43,
   "metadata": {
    "collapsed": false
   },
   "outputs": [
    {
     "name": "stdout",
     "output_type": "stream",
     "text": [
      "Help on method_descriptor:\n",
      "\n",
      "append(...)\n",
      "    L.append(object) -> None -- append object to end\n",
      "\n",
      "=====================================================\n",
      "Help on method_descriptor:\n",
      "\n",
      "remove(...)\n",
      "    L.remove(value) -> None -- remove first occurrence of value.\n",
      "    Raises ValueError if the value is not present.\n",
      "\n",
      "=====================================================\n",
      "Help on method_descriptor:\n",
      "\n",
      "reverse(...)\n",
      "    L.reverse() -- reverse *IN PLACE*\n",
      "\n"
     ]
    }
   ],
   "source": [
    "\"\"\"\n",
    "Instructions: \n",
    "\n",
    "    + Use the append method twice to add the size of the\n",
    "      poolhouse and the garage again:\n",
    "      \n",
    "          - 24.5 and 15.45, respectively.\n",
    "          \n",
    "          - Add them in order\n",
    "          \n",
    "   + Print out the areas.\n",
    "   \n",
    "   + Use the reverse() method to reverse the order of the\n",
    "     elements in areas.\n",
    "     \n",
    "   + Print out the area once more.\n",
    "\"\"\"\n",
    "# Let's look at the help on these methods\n",
    "help( list.append )\n",
    "print(\"=====================================================\")\n",
    "help( list.remove )\n",
    "print(\"=====================================================\")\n",
    "help( list.reverse )\n"
   ]
  },
  {
   "cell_type": "code",
   "execution_count": 44,
   "metadata": {
    "collapsed": false
   },
   "outputs": [
    {
     "name": "stdout",
     "output_type": "stream",
     "text": [
      "\n",
      "The new list contains two new items: [11.25, 18.0, 20.0, 10.75, 9.5, 24.5, 15.45]\n",
      "\n",
      "The new list has been reversed: [15.45, 24.5, 9.5, 10.75, 20.0, 18.0, 11.25]\n"
     ]
    }
   ],
   "source": [
    "# Create list areas\n",
    "areas = [11.25, 18.0, 20.0, 10.75, 9.50]\n",
    "\n",
    "# Use append twice to add poolhouse and garage size\n",
    "areas.append( 24.5 )\n",
    "areas.append( 15.45 )\n",
    "\n",
    "# Print out areas\n",
    "print(\"\\nThe new list contains two new items: \" + str( areas )  )\n",
    "\n",
    "# Reverse the orders of the elements in areas\n",
    "areas.reverse()\n",
    "\n",
    "# Print out areas\n",
    "print(\"\\nThe new list has been reversed: \" + str( areas ) )"
   ]
  }
 ],
 "metadata": {
  "kernelspec": {
   "display_name": "Python [default]",
   "language": "python",
   "name": "python3"
  },
  "language_info": {
   "codemirror_mode": {
    "name": "ipython",
    "version": 3
   },
   "file_extension": ".py",
   "mimetype": "text/x-python",
   "name": "python",
   "nbconvert_exporter": "python",
   "pygments_lexer": "ipython3",
   "version": "3.5.2"
  }
 },
 "nbformat": 4,
 "nbformat_minor": 1
}
