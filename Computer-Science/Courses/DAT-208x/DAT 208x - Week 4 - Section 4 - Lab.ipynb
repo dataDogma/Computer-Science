{
 "cells": [
  {
   "cell_type": "markdown",
   "metadata": {},
   "source": [
    "![Banner!]()"
   ]
  },
  {
   "cell_type": "markdown",
   "metadata": {},
   "source": [
    "## Lab: Basic Statistics with Numpy\n",
    "-- --\n",
    "**Objectives:**\n",
    "\n",
    "+ Experimenting with some func. Numpy offers out of the box.\n",
    "\n",
    "\n",
    "+ Performing summary statistics to have a first look about our data.\n",
    "-- --\n",
    "\n",
    "+ Average Vs Median -- 100xp, status : earned\n",
    "\n",
    "\n",
    "+ Explore the Baseball data -- 100xp, status: earned\n",
    "\n",
    "\n",
    "+ Blend it all together -- 100xp, status : earned\n",
    "-- --\n",
    "\n",
    "**1. Average Vs Median**\n",
    "\n",
    "Preface: The baseball data is available as a 2D Numpy array with 3 columns (height, weight, age) and 1015 rows. The name of this Numpy array is np_baseball.\n",
    "\n",
    "After restructuring the data, however, you notice that some height values are abnormally high.\n",
    "\n",
    "Instructions:\n",
    "\n",
    "+ Create Numpy array `np_height`, that is equal to first column of np_baseball.\n",
    "\n",
    "\n",
    "+ Print out the mean of `np_height`.\n",
    "\n",
    "\n",
    "+ Print out the median of `np_height`.\n"
   ]
  },
  {
   "cell_type": "code",
   "execution_count": 35,
   "metadata": {
    "collapsed": false
   },
   "outputs": [
    {
     "name": "stdout",
     "output_type": "stream",
     "text": [
      "5.36614778325\n",
      "5.54\n"
     ]
    }
   ],
   "source": [
    "\"\"\"Since the data is unavailabe from data camp, let's create\n",
    "some of our own\"\"\"\n",
    "\n",
    "# Import numpy\n",
    "import numpy as np\n",
    "from numpy import random\n",
    "from numpy import column_stack\n",
    "\n",
    "# np_baseball is un-available, so let's generate some random distribution!\n",
    "\n",
    "height = np.round( np.random.normal( 5.50, 5.0, 1015 ), 2 )\n",
    "\n",
    "weight = np.round( np.random.normal( 70.50, 5.0, 1015 ), 2 )\n",
    "\n",
    "age = np.round( np.random.normal( 31, 2, 1015 ), 2 )\n",
    "\n",
    "# let's assign these values to np_baseball\n",
    "np_baseball = np.column_stack( ( height, weight, age) )\n",
    "\n",
    "# Create np_height from np_baseball\n",
    "\n",
    "\"\"\"\n",
    "Since height coloumn is at index \"0\", and all the row\n",
    "are to be included, hence \":\"\n",
    "\"\"\"\n",
    "   \n",
    "np_height = np.array( np_baseball[ :, 0 ] )\n",
    "\n",
    "# Print out the mean of np_height\n",
    "print( np.mean( np_height ) )\n",
    "\n",
    "# Print out the median of np_height\n",
    "print( np.median( np_height ) )\n"
   ]
  },
  {
   "cell_type": "code",
   "execution_count": null,
   "metadata": {
    "collapsed": true
   },
   "outputs": [],
   "source": [
    "\"\"\"\n",
    "Inference: \n",
    "\n",
    "+ An average length of 5.36 inch, it sound right.\n",
    "\n",
    "+ Further, by discriptive statistics, \n",
    "  the \"median\" is very less affected by the outlier in general.\n",
    "  However, there's no outlier it seems.\n",
    "  \n",
    "+ Hence 5.54 inch makes sense.\n",
    "\n",
    "As a side note: Always check both the median and the mean.\n",
    "\n",
    "Why? It gives an insight for the overall distributionn of the\n",
    "entire dataset.\n",
    "\n",
    "\"\"\""
   ]
  },
  {
   "cell_type": "markdown",
   "metadata": {},
   "source": [
    "**2. Explore the Baseball data:**\n",
    "\n",
    "Preface:\n",
    "\n",
    "Because the mean and median are so far apart, you decide to complain to the MLB. They find the error and send the corrected data over to you. It's again available as a 2D Numpy array np_baseball, with three columns.\n",
    "\n",
    "\n",
    "Instructions:\n",
    "\n",
    "+ The code to print out the mean height is already included. Complete the code for the median height. Replace `None` with the correct code.\n",
    "\n",
    "\n",
    "+ Use `np.std()` on the first column of `np_baseball` to calculate `stddev`.\n",
    "\n",
    "    - Replace `None` with the correct code.\n",
    "    \n",
    "    \n",
    "+ Do big players tend to be heavier?\n",
    "\n",
    "    - Use `np.corrcoef()` to store the correlation between the first and second column of np_baseball in corr.\n",
    "    \n",
    "    - Replace the `None` with teh correct code.\n",
    "    \n"
   ]
  },
  {
   "cell_type": "code",
   "execution_count": 38,
   "metadata": {
    "collapsed": false
   },
   "outputs": [
    {
     "name": "stdout",
     "output_type": "stream",
     "text": [
      "Average: 5.36614778325\n",
      "\n",
      "Median: 5.54\n",
      "\n",
      "Standard Deviation: 4.95899575065\n",
      "\n",
      "Correlation: [[ 1.         -0.04160593]\n",
      " [-0.04160593  1.        ]]\n"
     ]
    }
   ],
   "source": [
    "# np_baseball is available\n",
    "\n",
    "# Import numpy\n",
    "import numpy as np\n",
    "\n",
    "# Print mean height (first column)\n",
    "avg = np.mean(np_baseball[:,0])\n",
    "print(\"Average: \" + str(avg))\n",
    "\n",
    "# Print median height. Replace 'None'\n",
    "med = np.median( np_baseball[:, 0])\n",
    "print(\"\\nMedian: \" + str(med))\n",
    "\n",
    "# Print out the standard deviation on height. Replace 'None'\n",
    "stddev = np.std( np_baseball[:, 0])\n",
    "print(\"\\nStandard Deviation: \" + str(stddev))\n",
    "\n",
    "# Print out correlation between first and second column. Replace 'None'\n",
    "corr = np.corrcoef( np_baseball[:,0], np_baseball[:,1])\n",
    "print(\"\\nCorrelation: \" + str(corr))"
   ]
  },
  {
   "cell_type": "markdown",
   "metadata": {},
   "source": [
    "**3. Blend it all together:**\n",
    "-- --\n",
    "\n",
    "Preface:\n",
    "\n",
    "You've contacted the FIFA for some data and they handed you two lists. The lists are the following: \n",
    "\n",
    "``` \n",
    "    position = [ 'GK', 'M', 'A', 'D', ... ]\n",
    "    height = [ 191, 184, 185, 180, ... ]```\n",
    "    \n",
    "Each element in the lists corresponds to a player.\n",
    "\n",
    "+ The first list, positions, contains strings representing each player's position.\n",
    "\n",
    "+ The possible positions are: 'GK' (goalkeeper), 'M' (midfield), 'A' (attack) and 'D' (defense).\n",
    "\n",
    "+ The second list, heights, contains integers representing the height of the player in cm.\n",
    "\n",
    "+ The first player in the lists is a goalkeeper and is pretty tall (191 cm).\n",
    "-- --\n",
    "\n",
    "Presumption:\n",
    "\n",
    "You're fairly confident that the median height of goalkeepers is higher than that of other players on the soccer field.\n",
    "\n",
    "Some of your friends don't believe you, so you are determined to show them using the data you received from FIFA and your newly acquired Python skills.\n",
    "-- --\n",
    "\n",
    "Instructions: \n",
    "\n",
    "+ Convert heights and positions, which are regular lists, to numpy arrays. Call them np_heights and np_positions.\n",
    "\n",
    "+ Extract all the heights of the goalkeepers. You can use a little trick here:\n",
    "\n",
    "    - np_positions == 'GK' as an index for np_heights. Assign the result to gk_heights.\n",
    "    \n",
    "    \n",
    "+ Extract all the heights of the all the other players.\n",
    "\n",
    "    - This time use np_positions != 'GK' as an index for np_heights.\n",
    "    \n",
    "    - Assign the result to other_heights.\n",
    " \n",
    " \n",
    "+ Print out the median height of the goalkeepers using np.median(). \n",
    "\n",
    "    - Replace None with the correct code.\n",
    "    \n",
    "+ Do the same for the other players. Print out their median height. Replace None with the correct code.\n"
   ]
  },
  {
   "cell_type": "code",
   "execution_count": 47,
   "metadata": {
    "collapsed": false
   },
   "outputs": [
    {
     "name": "stdout",
     "output_type": "stream",
     "text": [
      "\n",
      "Mean positions at which players play: 2.66724\n",
      "\n",
      "Median positions at which player play: 3.005\n",
      "Median height of goalkeepers: 6.18\n",
      "Median height of other players: 5.62\n"
     ]
    }
   ],
   "source": [
    "# heights and positions are un-available from data camp\n",
    "# So let's create some of our own.\n",
    "import numpy as np\n",
    "from numpy import random\n",
    "from numpy import column_stack\n",
    "\n",
    "# let's represent numbers with \"positions\"\n",
    "# 1:'GK', 2:'D', 3:'M', 4:'A'\n",
    "\n",
    "positions = np.round( np.random.normal( 3, 10, 1000), 2) \n",
    "heights = np.round( np.random.normal( 5.8, 4.0, 1000), 2) #in feets\n",
    "\n",
    "# let's concatenate these into two coloumns\n",
    "np_football = np.column_stack( (positions, heights) )\n",
    "# Convert positions and heights to numpy arrays: np_positions, np_heights\n",
    "np_positions = np.array( np_football[:, 0])\n",
    "np_heights = np.array( np_football[:, 1])\n",
    "\n",
    "# Heights of the goalkeepers: gk_heights\n",
    "gk_heights = np_heights[ np_positions == 1 ]\n",
    "\n",
    "# Heights of the other players: other_heights\n",
    "other_heights = np_heights[ np_positions != 1 ]\n",
    "\n",
    "# Print out the mean position of the np_football\n",
    "print(\"\\nMean positions at which players play: \" + str( np.mean( np_positions ) ) )\n",
    "\n",
    "# Print out the median positon of the np_football\n",
    "print(\"\\nMedian positions at which player play: \" + str( np.median( np_positions ) ) )\n",
    "\n",
    "# Print out the median height of goalkeepers. Replace 'None'\n",
    "print(\"\\nMedian height of goalkeepers: \" + str( np.median( gk_heights ) ) )\n",
    "\n",
    "# Print out the median height of other players. Replace 'None'\n",
    "print(\"\\nMedian height of other players: \" + str( np.median( other_heights ) ) )"
   ]
  }
 ],
 "metadata": {
  "kernelspec": {
   "display_name": "Python [default]",
   "language": "python",
   "name": "python3"
  },
  "language_info": {
   "codemirror_mode": {
    "name": "ipython",
    "version": 3
   },
   "file_extension": ".py",
   "mimetype": "text/x-python",
   "name": "python",
   "nbconvert_exporter": "python",
   "pygments_lexer": "ipython3",
   "version": "3.5.2"
  }
 },
 "nbformat": 4,
 "nbformat_minor": 1
}
