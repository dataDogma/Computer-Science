{
 "cells": [
  {
   "cell_type": "markdown",
   "metadata": {},
   "source": [
    "### Table of Content\n",
    "-- --\n",
    "\n",
    "+ [Lecture: Create and Name vectors](#Create-and-Name-Vectors)\n",
    "\n",
    "\n",
    "+ [Exercise 1](#Exercise-1)\n",
    "\n",
    "\n",
    "+ [Lab1](#Lab1)\n",
    "\n",
    "\n",
    "+ [Lecture: Vector Arithematic](#Lecture: Vector Arithematic)\n",
    "\n",
    "\n",
    "+ [Exercise 2](#Exercise-2)\n",
    "\n",
    "\n",
    "+ [Lab2](#Lab2)\n",
    "\n",
    "-- --"
   ]
  },
  {
   "cell_type": "markdown",
   "metadata": {},
   "source": [
    "\n",
    "### Create and Name Vectors\n",
    "-- --\n",
    "\n",
    "Only the miniscules are being covered, the entire of the lecture notes are covered inside the provided handouts.\n",
    "\n",
    "**Miniscules**\n",
    "\n",
    "+ Attaching lables to the vector elements:\n",
    "\n",
    "    - Step1: Create a vector, assign it to some var.\n",
    "    - Step2: Create another vector, (say) strings.\n",
    "    - Step3: Using `names()` function to attach labels.\n",
    "    \n",
    "    Syntax: \n",
    "    \n",
    "    1. `names(<vector1>, <name vector>)`\n",
    "    2. `c( key = value, ... )`\n",
    "    3. `c( \"key\" = value, ... )`\n",
    "    \n",
    "    \n",
    "+ Under the hood: R vectors have \"attributes\" associcated with them.\n",
    "\n",
    "    - i.e. setting the names of the remaining vector, as seeting names attributes of the remains object.\n",
    "    \n",
    "    - To prove this, we can pull up `str()` function that compactly displays the structure of an R Object.\n",
    "    \n",
    "    \n",
    "+ Single values are also Vectors! _Specifically vectors of \"length = 1\"_\n",
    "\n",
    "\n",
    "+ Vectors are homogeneous( i.e they can hold elements of the same type ).\n",
    "\n",
    "    - Often called, _atomic vectors_.\n",
    "    - If although we forcibly create a heterogenous vector, R performs _coercion_.\n",
    "    - _Coercion_ makes sures that you end up with a vector of the same type.\n",
    "    \n",
    "    \n",
    "+ If we want to store heterogenous data in a vector, R has a different data type for this called **list**."
   ]
  },
  {
   "cell_type": "markdown",
   "metadata": {},
   "source": [
    "### Exercise 1\n",
    "-- --\n",
    "\n",
    "**[RQ1]: **_What function should you use to create a vector?_\n",
    "\n",
    "**Ans: ** The combine function, `c()`.\n",
    "\n",
    "-- --\n",
    "\n",
    "**[RQ2]: **_Which three of the following actions attach labels to the vector elements?_\n",
    "\n",
    "**Ans: ** \n",
    "\n",
    "1. Define the labels by using the `names()` function.\n",
    "\n",
    "2. Define the labels inside the `c()` by using the equal sign, putting the names of the labels b/w quotes.\n",
    "\n",
    "3. Or by putting the names of the labels b/w quotes.\n",
    "\n",
    "-- --\n",
    "\n",
    "**[RQ3]:** _Which two of the following options are correct?_\n",
    "\n",
    "**Ans: ** Atomic vectors can hold elements only of the same type, whereas lists can hold elements of a different type."
   ]
  },
  {
   "cell_type": "markdown",
   "metadata": {},
   "source": [
    "### Lab1\n",
    "-- --\n",
    "\n",
    "**Objective:**\n",
    "\n",
    "+ Create different types of vectors using the c() function.\n",
    "\n",
    "\n",
    "+ Naming vectors.\n",
    "\n",
    "\n",
    "+ Understanding and Creating Vectors.\n",
    "-- --\n",
    "\n",
    "#### Table of Content\n",
    "-- --\n",
    "\n",
    "1. [Create a vector 1](#Create-a-vector-1)\n",
    "\n",
    "2. [Create a vector 2](#Create-a-vector-2)\n",
    "\n",
    "3. [Naming a vector 1](#Naming-a-vector-1)\n",
    "\n",
    "4. [Naming a vector 2](#Naming-a-vector-2)\n",
    "\n",
    "5. [Different ways to create and name vectors](#Different-ways-to-create-and-name-vectors)\n",
    "\n",
    "-- --\n",
    "\n",
    "-- --\n",
    "\n"
   ]
  },
  {
   "cell_type": "markdown",
   "metadata": {},
   "source": [
    "### Create a vector 1\n",
    "-- --\n",
    "\n",
    "**Preface:**\n",
    "\n",
    "Vectors are one dimensional arrays that can hold numeric data, character data, or logical data. You create a vector with the combine function c(). You place the vector elements separated by a comma between the brackets. For example:\n",
    "\n",
    "```numeric_vector <- c(1, 2, 3)\n",
    "character_vector <- c(\"a\", \"b\", \"c\")\n",
    "boolean_vector <- c(TRUE, FALSE)```\n",
    "\n",
    "\n",
    "**Instructions:**\n",
    "\n",
    "Build a vector, boolean_vector, that contains the three elements: TRUE, FALSE and TRUE (in that order). \n"
   ]
  },
  {
   "cell_type": "code",
   "execution_count": 1,
   "metadata": {
    "collapsed": false
   },
   "outputs": [
    {
     "data": {
      "text/html": [
       "<ol class=list-inline>\n",
       "\t<li>TRUE</li>\n",
       "\t<li>FALSE</li>\n",
       "\t<li>TRUE</li>\n",
       "</ol>\n"
      ],
      "text/latex": [
       "\\begin{enumerate*}\n",
       "\\item TRUE\n",
       "\\item FALSE\n",
       "\\item TRUE\n",
       "\\end{enumerate*}\n"
      ],
      "text/markdown": [
       "1. TRUE\n",
       "2. FALSE\n",
       "3. TRUE\n",
       "\n",
       "\n"
      ],
      "text/plain": [
       "[1]  TRUE FALSE  TRUE"
      ]
     },
     "metadata": {},
     "output_type": "display_data"
    }
   ],
   "source": [
    "#####################################################\n",
    "# Title: Create a Vector                            #\n",
    "# --------------------------------------------------#\n",
    "# About: Title says it all!                         #\n",
    "#####################################################\n",
    "numeric_vector <- c(1, 10, 49)\n",
    "character_vector <- c(\"a\", \"b\", \"c\")\n",
    "\n",
    "# Create boolean_vector\n",
    "boolean_vector <- c( TRUE, FALSE, TRUE)\n",
    "boolean_vector"
   ]
  },
  {
   "cell_type": "markdown",
   "metadata": {},
   "source": [
    "### Create a vector 2\n",
    "-- --\n",
    "\n",
    "**Preface:**\n",
    "\n",
    "After one week in Las Vegas and still zero Ferraris in your garage, you decide that it is time to start using your data science superpowers.\n",
    "\n",
    "Before doing a first analysis, you decide to first collect all the winnings and losses for the last week:\n",
    "\n",
    "For `poker_vector`:\n",
    "\n",
    "    On Monday you won $140\n",
    "    Tuesday you lost $50\n",
    "    Wednesday you won $20\n",
    "    Thursday you lost $120\n",
    "    Friday you won $240\n",
    "\n",
    "For `roulette_vector`:\n",
    "\n",
    "    On Monday you lost $24\n",
    "    Tuesday you lost $50\n",
    "    Wednesday you won $100\n",
    "    Thursday you lost $350\n",
    "    Friday you won $10\n",
    "\n",
    "You only played poker and roulette, since there was a delegation of mediums that occupied the craps tables. To be able to use this data in R, you decide to create the variables `poker_vector` and `roulette_vector`.\n",
    "\n",
    "-- --\n",
    "\n",
    "**Instructions:**\n",
    "\n",
    "Assign the winnings/losses for roulette to the variable `roulette_vector`."
   ]
  },
  {
   "cell_type": "code",
   "execution_count": 2,
   "metadata": {
    "collapsed": true
   },
   "outputs": [],
   "source": [
    "#####################################################\n",
    "# Title: Create a Vector 2                          #\n",
    "# --------------------------------------------------#\n",
    "# About: Analysing a poker game.                    #\n",
    "#####################################################\n",
    "\n",
    "# Poker winnings from Monday to Friday\n",
    "poker_vector <- c(140, -50, 20, -120, 240)\n",
    "\n",
    "# Roulette winnings from Monday to Friday: roulette_vector\n",
    "roulette_vector <- c(-24, -50, 100, -350, 10)"
   ]
  },
  {
   "cell_type": "markdown",
   "metadata": {},
   "source": [
    "### Naming a vector 1\n",
    "-- --\n",
    "\n",
    "Part of a job of data analyst is to have a clear view on the data being used.\n",
    "\n",
    "\n",
    "**Preface:**\n",
    "\n",
    "In the previous exercise, we created a vector with our winnings over the week. Each vector element refers to a day of the week but it is hard to tell which element belongs to which day. It would be nice if we could show that in the vector itself. Remember the `names()` function to name the elements of a vector?\n",
    "\n",
    "```some_vector <- c(\"Johnny\", \"Poker Player\")\n",
    "names(some_vector) <- c(\"Name\", \"Profession\")```\n",
    "\n",
    "\n",
    "We can do the same thing in our combine function, `c()`:\n",
    "\n",
    "```some_vector <- c(Name = \"Johnny\", Profession = \"Poker Player\")```\n",
    "\n",
    "-- --\n",
    "\n",
    "**Instructions:**\n",
    "\n",
    "Go ahead and assign the days of the week as names to `poker_vector` and `roulette_vector`. In case you are not sure, the days of the week are: Monday, Tuesday, Wednesday, Thursday and Friday.\n"
   ]
  },
  {
   "cell_type": "code",
   "execution_count": 3,
   "metadata": {
    "collapsed": true
   },
   "outputs": [],
   "source": [
    "# Poker winnings from Monday to Friday\n",
    "poker_vector <- c(140, -50, 20, -120, 240)\n",
    "\n",
    "# Roulette winnings from Monday to Friday\n",
    "roulette_vector <- c(-24, -50, 100, -350, 10)\n",
    "\n",
    "# Add names to both poker_vector and roulette_vector\n",
    "names(poker_vector) <- c(\"Monday\", \"Tuesday\", \"Wednesday\", \"Thursday\", \"Friday\")\n",
    "names(roulette_vector) <- c(\"Monday\", \"Tuesday\", \"Wednesday\", \"Thursday\", \"Friday\")"
   ]
  },
  {
   "cell_type": "markdown",
   "metadata": {},
   "source": [
    "### Naming a vector 2\n",
    "-- --\n",
    "\n",
    "**Preface:**\n",
    "\n",
    "In the previous exercises you probably experienced that it is boring and frustrating to type and retype information such as the days of the week. However, there is a more efficient way to do this, namely, to assign the days of the week vector to a variable!\n",
    "\n",
    "Just like we did with your poker and roulette returns, we can also create a variable that contains the days of the week. This way we can use and re-use it.\n",
    "\n",
    "-- --\n",
    "\n",
    "**Instructions:**\n",
    "\n",
    "\n",
    "+ Create a variable `days_vector` that contains the days of the week, from Monday to Friday.\n",
    "\n",
    "+ Use that variable `days_vector` to set the names of `poker_vector` and `roulette_vector`."
   ]
  },
  {
   "cell_type": "code",
   "execution_count": 5,
   "metadata": {
    "collapsed": false
   },
   "outputs": [
    {
     "data": {
      "text/html": [
       "<dl class=dl-horizontal>\n",
       "\t<dt>Monday</dt>\n",
       "\t\t<dd>140</dd>\n",
       "\t<dt>Tuesday</dt>\n",
       "\t\t<dd>-50</dd>\n",
       "\t<dt>Wednesday</dt>\n",
       "\t\t<dd>20</dd>\n",
       "\t<dt>Thursday</dt>\n",
       "\t\t<dd>-120</dd>\n",
       "\t<dt>Friday</dt>\n",
       "\t\t<dd>240</dd>\n",
       "</dl>\n"
      ],
      "text/latex": [
       "\\begin{description*}\n",
       "\\item[Monday] 140\n",
       "\\item[Tuesday] -50\n",
       "\\item[Wednesday] 20\n",
       "\\item[Thursday] -120\n",
       "\\item[Friday] 240\n",
       "\\end{description*}\n"
      ],
      "text/markdown": [
       "Monday\n",
       ":   140Tuesday\n",
       ":   -50Wednesday\n",
       ":   20Thursday\n",
       ":   -120Friday\n",
       ":   240\n",
       "\n"
      ],
      "text/plain": [
       "   Monday   Tuesday Wednesday  Thursday    Friday \n",
       "      140       -50        20      -120       240 "
      ]
     },
     "metadata": {},
     "output_type": "display_data"
    },
    {
     "data": {
      "text/html": [
       "<dl class=dl-horizontal>\n",
       "\t<dt>Monday</dt>\n",
       "\t\t<dd>-24</dd>\n",
       "\t<dt>Tuesday</dt>\n",
       "\t\t<dd>-50</dd>\n",
       "\t<dt>Wednesday</dt>\n",
       "\t\t<dd>100</dd>\n",
       "\t<dt>Thursday</dt>\n",
       "\t\t<dd>-350</dd>\n",
       "\t<dt>Friday</dt>\n",
       "\t\t<dd>10</dd>\n",
       "</dl>\n"
      ],
      "text/latex": [
       "\\begin{description*}\n",
       "\\item[Monday] -24\n",
       "\\item[Tuesday] -50\n",
       "\\item[Wednesday] 100\n",
       "\\item[Thursday] -350\n",
       "\\item[Friday] 10\n",
       "\\end{description*}\n"
      ],
      "text/markdown": [
       "Monday\n",
       ":   -24Tuesday\n",
       ":   -50Wednesday\n",
       ":   100Thursday\n",
       ":   -350Friday\n",
       ":   10\n",
       "\n"
      ],
      "text/plain": [
       "   Monday   Tuesday Wednesday  Thursday    Friday \n",
       "      -24       -50       100      -350        10 "
      ]
     },
     "metadata": {},
     "output_type": "display_data"
    }
   ],
   "source": [
    "# Poker winnings from Monday to Friday\n",
    "poker_vector <- c(140, -50, 20, -120, 240)\n",
    "\n",
    "# Roulette winnings from Monday to Friday\n",
    "roulette_vector <- c(-24, -50, 100, -350, 10)\n",
    "\n",
    "# Create the variable days_vector\n",
    "days_vector <- c(\"Monday\", \"Tuesday\", \"Wednesday\", \"Thursday\", \"Friday\")\n",
    " \n",
    "# Assign the names of the day to roulette_vector and poker_vector\n",
    "names(poker_vector) <- days_vector\n",
    "names(roulette_vector) <- days_vector\n",
    "\n",
    "# Check\n",
    "poker_vector\n",
    "roulette_vector"
   ]
  },
  {
   "cell_type": "markdown",
   "metadata": {},
   "source": [
    "### Different ways to create and name vectors\n",
    "-- --\n",
    "\n",
    "The previous exercises outlined different ways of creating and naming vectors. Have a look at this chunk of code:\n",
    "\n",
    "```\n",
    "poker_vector1 <- c(140, -50, 20, -120, 240)\n",
    "names(poker_vector1) <- c(\"Monday\", \"Tuesday\", \"Wednesday\", \"Thursday\", \"Friday\")\n",
    "\n",
    "poker_vector2 <- c(Monday = 140, -50, 20, -120, 240)\n",
    "\n",
    "roulette_vector1 <- c(-24, -50, 100, -350, 10)\n",
    "days_vector <- names(poker_vector1)\n",
    "names(roulette_vector1) <- days_vector\n",
    "\n",
    "roulette_vector2 <- c(-24, -50, 100, -350, 10)\n",
    "names(roulette_vector2) <- \"Monday\"```\n",
    "\n",
    "_Which of the following statements is true?_\n",
    "\n",
    "**Ans:** `poker_vector1` and `roulette_vector1` have the same names, while `poker_vector2` and `roulette_vector2` show a names mismatch.\n",
    "\n",
    "**Conclusion**\n",
    "\n",
    "We might expect that the names of the vectors `roulette_vector1` and `roulette_vector2` are named the same; but the different approaches treat missing name information differently. Also, notice here how we can also use `names()` to get the names of a vector!\n"
   ]
  }
 ],
 "metadata": {
  "anaconda-cloud": {},
  "kernelspec": {
   "display_name": "R",
   "language": "R",
   "name": "ir"
  },
  "language_info": {
   "codemirror_mode": "r",
   "file_extension": ".r",
   "mimetype": "text/x-r-source",
   "name": "R",
   "pygments_lexer": "r",
   "version": "3.3.1"
  }
 },
 "nbformat": 4,
 "nbformat_minor": 1
}
