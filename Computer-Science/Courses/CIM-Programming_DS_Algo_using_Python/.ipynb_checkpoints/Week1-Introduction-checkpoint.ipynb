{
 "cells": [
  {
   "cell_type": "markdown",
   "metadata": {},
   "source": [
    "# Lecture 1\n",
    "-- --\n",
    "\n",
    "## Algorithms and Programming\n",
    "\n",
    "\n",
    "The following week, the aim is to provides emphasis on understanding the following:\n",
    "\n",
    "+ What are algorithms in general? And In context to C.Sc\n",
    "\n",
    "\n",
    "+ What are steps of so called recipe's?\n",
    "\n",
    "\n",
    "+ What is our focus in this course?\n",
    "\n",
    "-- --\n",
    "\n",
    "Below is an outline to the discussions and programming involved.\n",
    "\n",
    "**Outline:**\n",
    "\n",
    "[1. Algorithms](#Algorithms)\n",
    "\n",
    "[2. Simple gcd](#Simple-gcd)\n",
    "\n",
    "[3. Naive gcd]()\n",
    "\n",
    "[4. Euclids gcd]()\n",
    "\n",
    "[5. Week 1 Quiz](#Week-1-Quiz)\n"
   ]
  },
  {
   "cell_type": "markdown",
   "metadata": {},
   "source": [
    "### Algorithms\n",
    "-- --\n",
    "\n",
    "+ Algorithms: How to systematically perform a task.\n",
    "\n",
    "\n",
    "+ We write them down as sequence of step.\n",
    "\n",
    "    - \"Recipe\" as a process of cooking,\n",
    "\n",
    "    - In contrast to computation, we call it a **program**.\n",
    "  \n",
    "  \n",
    "+ We write such **programs** using a **programming lanugage**.\n",
    "\n",
    "    - Goal is to desccribe a sequence of steps that are required.\n",
    "    \n",
    "    - Steps are individual components in a sequence following a definite order.\n",
    "    \n",
    "    - The notion of a step is subjective, and associated with it are the \"degrees of detail\".\n",
    "    \n",
    "    - E.g. Calculating the parabolic path of ball Vs Calculating the ballistic trajectory of a missile.\n",
    "\n",
    "\n",
    "+ Algorithms can be implemented by a person(human), say arranging the chairs.\n",
    "    \n",
    "-- --\n",
    "\n",
    "That being said, Algorithms do only one thing, they **manipulate information**.\n",
    "\n",
    "Below are some examples:\n",
    "\n",
    "+ Computing a numerical function -- $f(x, y)$ = $x^y$\n",
    "\n",
    "\n",
    "+ Reorganize data, e.g arranging in ascending order.\n",
    "\n",
    "\n",
    "+ Optimization - Shortest route to a destination.\n",
    "\n",
    "etc."
   ]
  },
  {
   "cell_type": "markdown",
   "metadata": {},
   "source": [
    "### Simple gcd\n",
    "\n",
    "-- --\n",
    "\n",
    "To understand the notion of an _algorithm_, let's take an example of a very simple yet powerful concept in mathematics, the **greatest common divisor**.\n",
    "\n",
    "**GCD in general:**\n",
    "\n",
    "+ `gcd(m, n)`\n",
    "\n",
    "    - Largest `k` such that `k` divides both, `m` and `n`.\n",
    "    \n",
    "    - Where `k` is a number.\n",
    "\n",
    "\n",
    "+ Example:\n",
    "\n",
    "    - `gcd(8, 12) = 4`, as 4 divides 8 and 12.\n",
    "    \n",
    "    - Although 6 is the largest, 6 only divides 12 and not 8, hence not a gcd.\n",
    "    \n",
    "    - Further, there are no's for which no gcd is available other than 1, e.g. gcd(18, 25) = 1.\n",
    "    \n",
    "    \n",
    "+ This gives another insight, that 1 always will be a gcd.\n",
    "\n",
    "-- --\n",
    "\n",
    "**Computing gcd(m, n)**\n",
    "\n",
    "1. List out factors of m.\n",
    "\n",
    "2. List out factors of n.\n",
    "\n",
    "3. Report the largest no. that appears on both lists.\n",
    "\n",
    "\n",
    "**But is this a valid algorithm?** At a higher level of detail, listing out factors as a single step is quite vague and incomplete as an algorithm.\n",
    "\n",
    "-- --\n",
    "\n",
    "What we want from an algorithm are two things:\n",
    "\n",
    "1) **The description of an algorithm, must be laid out in a finite way.**\n",
    "\n",
    "+ The former steps satisfies (1).\n",
    " \n",
    " \n",
    "+ However they are vague and does not give much information in terms of when to stop and throw results?\n",
    "\n",
    "Having said that, here's what else is required.\n",
    "\n",
    "2) **Should terminate after a finite no. of steps.**\n",
    "\n",
    "+ laying down factors of m, n is subjective, it depends on the size of m, n.\n",
    " \n",
    " \n",
    "+ However, the algorithm must **guarentee** that this process will come to a hault.\n",
    " \n",
    " \n",
    "+ Having done that, it must return a result, in this case returning the largest factor of m,n.\n"
   ]
  },
  {
   "cell_type": "markdown",
   "metadata": {},
   "source": [
    "### Computing gcd(m, n) continued ...\n",
    "-- --\n",
    "\n",
    "Now that the notion in (2) being laid out, here's the complete steps in our algorithm gcd(m, n)\n",
    "\n",
    "**1) Factors of m must be between 1 and m.**\n",
    "\n",
    "+ Check each no. in this range.\n",
    "\n",
    "\n",
    "+ if k divides m without a remainder, append k to the list of factors.\n",
    "\n",
    "\n",
    "let's see a concrete **example**, say we want to compute the gcd(14, 63).\n",
    "\n",
    "+ Start of with an empty list, [ ].\n",
    "\n",
    "\n",
    "+ By now we know, that 1 and m will itself be factors, as m being the largest of all. Here 1, 14.\n",
    "\n",
    "+ Append 1, 14 to our list, [1,14].\n",
    "\n",
    "\n",
    "+ Now test the numbers in between, we will get, 2 and 7 as the only remaining factors.\n",
    "\n",
    "\n",
    "+ Append them aswell, our list now is [1, 2, 7, 14]\n",
    "\n",
    "\n",
    "**2) Similarly for n, must be between 1 and n.**\n",
    "\n",
    "+ Start of with another empty list, [ ].\n",
    "\n",
    "+ We find this list is populated with common divisors as [1, 3, 7, 9, 21, 63].\n",
    "\n",
    "Now, that we have our list of common divisors, let's have a look at them again:\n",
    "\n",
    "+ Factors of 14: `[1, 2, 7, 14]`\n",
    "\n",
    "\n",
    "+ Factors of 63: `[1, 3, 7, 9, 21, 63]`\n",
    "\n",
    "\n",
    "**3) Construct the list of common factors.**\n",
    "\n",
    "There are many clever way's to do it, but right now let's just focus on the simplest one. How?\n",
    "\n",
    "+ For each factor of 14, check if it's a factor of 63 as well.\n",
    "\n",
    "    - Before doing that, let's have another empty list, [ ].\n",
    "    \n",
    "    - Now our new list will be populated with the each element in our first list being in the second.\n",
    "    \n",
    "    - Our new list will contain, [1, 7]\n",
    "    \n",
    "    - Arrange the list in asscending order.\n",
    "    \n",
    "Finally, \n",
    "\n",
    "**4) Return the largest factor in this list.**\n",
    "\n",
    "\n",
    "+ In our case, it's 7.\n"
   ]
  },
  {
   "cell_type": "markdown",
   "metadata": {},
   "source": [
    "### Psudocode for gcd(m, n)\n",
    "-- --\n",
    "\n",
    "From our former discussion, let's add some more detail in a form of psudocode:\n",
    "\n",
    "1. Use `fm`, `fn` as list of factors of `m`, `n` respectively.\n",
    "\n",
    "2. For each `i` in `m`, add `i` to `fm` if `i` divides `m`.\n",
    "\n",
    "3. For each `j` in `n`, add `j` to `fn` if `j` divides `n`.\n",
    "\n",
    "4. Use `cf` as list of common factors.\n",
    "\n",
    "5. For each `f` in `fm`, add `f` to `cf`, if `f` is in `fn`.\n",
    "\n",
    "6. Return largest(rightmost) value in cf.\n",
    "\n",
    "    - **Why rightmost?** Because the list is being arranged in the asscending order."
   ]
  },
  {
   "cell_type": "code",
   "execution_count": 17,
   "metadata": {
    "collapsed": true
   },
   "outputs": [],
   "source": [
    "# From Psudocode to a program\n",
    "\n",
    "fm = []  # empty list, factors of m\n",
    "\n",
    "fn = []  # empty list, factors of n\n",
    "\n",
    "cf = []  # empty list, common factors\n",
    "\n",
    "\n",
    "# Method gcd\n",
    "\n",
    "def gcd(m, n):\n",
    "    \n",
    "    # from 1 to m + 1, as 1 being the common divisor at start\n",
    "    for i in range(1, m + 1):\n",
    "        \n",
    "        if(m % i == 0):\n",
    "            \n",
    "            fm.append(i)\n",
    "    \n",
    "    for j in range(1, n + 1):\n",
    "        \n",
    "        if(n % j == 0):\n",
    "            \n",
    "            fn.append(j)\n",
    "        \n",
    "\n",
    "    for f in fm:\n",
    "\n",
    "        if f in fn:\n",
    "\n",
    "            cf.append(f)\n",
    " \n",
    "\n",
    "    return(cf[-1])"
   ]
  },
  {
   "cell_type": "code",
   "execution_count": 18,
   "metadata": {
    "collapsed": false
   },
   "outputs": [
    {
     "data": {
      "text/plain": [
       "8"
      ]
     },
     "execution_count": 18,
     "metadata": {},
     "output_type": "execute_result"
    }
   ],
   "source": [
    "gcd(8, 16)"
   ]
  },
  {
   "cell_type": "code",
   "execution_count": 16,
   "metadata": {
    "collapsed": false
   },
   "outputs": [
    {
     "name": "stdout",
     "output_type": "stream",
     "text": [
      "[1, 2, 4, 8]\n",
      "[1, 2, 4, 8, 16]\n"
     ]
    }
   ],
   "source": [
    "print(fm)\n",
    "print(fn)"
   ]
  },
  {
   "cell_type": "code",
   "execution_count": 19,
   "metadata": {
    "collapsed": false
   },
   "outputs": [
    {
     "name": "stdout",
     "output_type": "stream",
     "text": [
      "0\n",
      "1\n",
      "2\n",
      "3\n",
      "4\n",
      "5\n",
      "6\n",
      "7\n"
     ]
    }
   ],
   "source": [
    "for i in range(0,8):\n",
    "    print(i)"
   ]
  }
 ],
 "metadata": {
  "anaconda-cloud": {},
  "kernelspec": {
   "display_name": "Python [conda root]",
   "language": "python",
   "name": "conda-root-py"
  },
  "language_info": {
   "codemirror_mode": {
    "name": "ipython",
    "version": 3
   },
   "file_extension": ".py",
   "mimetype": "text/x-python",
   "name": "python",
   "nbconvert_exporter": "python",
   "pygments_lexer": "ipython3",
   "version": "3.5.2"
  }
 },
 "nbformat": 4,
 "nbformat_minor": 1
}
