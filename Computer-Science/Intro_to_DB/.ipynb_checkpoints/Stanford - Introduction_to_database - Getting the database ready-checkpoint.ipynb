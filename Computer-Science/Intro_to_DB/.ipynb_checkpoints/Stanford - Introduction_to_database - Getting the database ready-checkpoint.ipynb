{
 "cells": [
  {
   "cell_type": "markdown",
   "metadata": {},
   "source": [
    "![Banner goes here]()"
   ]
  },
  {
   "cell_type": "markdown",
   "metadata": {},
   "source": [
    "## Using SQL in Jupyter via DB ORMs\n",
    "-- --\n",
    "\n",
    "ORM( Object Relation Mappers) for various databases used in this notebook:\n",
    "\n",
    "+ [Sqlite](#Sqlite)\n",
    "\n",
    "+ MySQL\n",
    "\n",
    "+ Oracle\n",
    "\n",
    "+ PostgreSQL\n",
    "-- --\n"
   ]
  },
  {
   "cell_type": "markdown",
   "metadata": {},
   "source": [
    "## Sqlite\n",
    "-- --\n",
    "\n",
    "#### Table of Contents\n",
    "\n",
    "+ [Version Check](#Version-Check)\n",
    "\n",
    "\n",
    "+ [Connecting to Sqlite DB engine](#Connceting)\n",
    "\n",
    "\n",
    "+ [Declaring a Mapping](#Declaring-a-Mapping)"
   ]
  },
  {
   "cell_type": "markdown",
   "metadata": {},
   "source": [
    "### Version Check\n",
    "-- --\n",
    "\n",
    "A quick check to verify the version we are going to use."
   ]
  },
  {
   "cell_type": "code",
   "execution_count": 7,
   "metadata": {
    "collapsed": false
   },
   "outputs": [],
   "source": [
    "# importing the sqlalechemy ORM( object realtional mapper )\n",
    "import sqlalchemy"
   ]
  },
  {
   "cell_type": "markdown",
   "metadata": {},
   "source": [
    "### Connecting\n",
    "-- --\n",
    "We will use an in-memory-only SQLite database. To connect we use `create_engine()`:\n",
    "\n",
    "Some miniscules:\n",
    "\n",
    "+ The return value of `create_engine()` is an instance of Engine,\n",
    "\n",
    "    - represents the core interface to the database,\n",
    "    \n",
    "    - adapted through a dialect that handles the details of the database and **DBAPI** in use.\n",
    "    \n",
    "    - In this case the SQLite dialect will interpret instructions to the Python built-in `sqlite3` module.\n",
    " \n",
    " \n",
    "+ The first time a method like `Engine.execute()` or `Engine.connect()` is called, the Engine establishes a real DBAPI connection to the database, which is then used to emit the SQL\n",
    "\n",
    "\n",
    "+ **Note: **When using the ORM, we typically don’t use the Engine directly once created; instead, it’s used behind the scenes by the ORM as we’ll see shortly."
   ]
  },
  {
   "cell_type": "code",
   "execution_count": 5,
   "metadata": {
    "collapsed": true
   },
   "outputs": [],
   "source": [
    "# import create_engine function for connecting to the ORM engine\n",
    "from sqlalchemy import create_engine\n",
    "\n",
    "engine = create_engine('sqlite:///:memory:', echo=False) # set echo to false for less output"
   ]
  },
  {
   "cell_type": "markdown",
   "metadata": {},
   "source": [
    "## Declaring a Mapping\n",
    "-- --\n",
    "\n",
    "When using the ORM, the configurational process starts by,\n",
    "\n",
    "+ describing the **database tables** we’ll be dealing with.\n",
    "\n",
    "\n",
    "+ then by **defining our own classes** which will be **mapped to those tables.**\n",
    "\n",
    "In modern SQLAlchemy, _these two tasks are usually performed together_, using a system known as **Declarative**, which allows us to create classes that include directives to describe the actual database table they will be mapped to.\n",
    "-- --\n",
    "\n",
    "Classes mapped using the Declarative system, are defined in terms of a base class which,\n",
    "\n",
    "+ Maintains a \"catalog\" of classes and tables relative to that base,\n",
    "\n",
    "    - known as **Declarative base class**.\n",
    "    \n",
    "\n",
    "Our demo application will usually have just one instance of this base in a commonly imported module. We create the base class using the declarative_base() function, as follows:\n",
    "-- --"
   ]
  },
  {
   "cell_type": "code",
   "execution_count": 8,
   "metadata": {
    "collapsed": true
   },
   "outputs": [],
   "source": [
    "from sqlalchemy.ext.declarative import declarative_base\n",
    "\n",
    "# Initialize Base\n",
    "Base = declarative_base()"
   ]
  },
  {
   "cell_type": "markdown",
   "metadata": {},
   "source": [
    "Now that we have a 'Base', we can define any number of mapped classes in terms of it.\n",
    "\n",
    "Let's start with a single \"Table\" called - \"User\", which will store records for the end-users using our application.\n",
    "\n",
    "+ A new class called User will be the class to which we map this table.\n",
    "\n",
    "\n",
    "+ Within the class, we define details about the table to which we’ll be mapping,\n",
    "\n",
    "    - primarily the table name, and names and datatypes of columns:\n",
    "-- --\n",
    "**GO to top:** [TOC](#Table-of-Contents)"
   ]
  },
  {
   "cell_type": "code",
   "execution_count": 11,
   "metadata": {
    "collapsed": false
   },
   "outputs": [],
   "source": [
    "from sqlalchemy import Column, Integer, String\n",
    "\n",
    "class User(Base):\n",
    "    \n",
    "     __tablename__ = 'users'\n",
    "\n",
    "     id = Column(Integer, primary_key=True)\n",
    "     name = Column(String)\n",
    "     fullname = Column(String)\n",
    "     password = Column(String)\n",
    "\n",
    "     def __repr__(self):\n",
    "        return \"<User(name='%s', fullname='%s', password='%s')>\" % (\n",
    "                             self.name, self.fullname, self.password)"
   ]
  }
 ],
 "metadata": {
  "anaconda-cloud": {},
  "kernelspec": {
   "display_name": "Python [default]",
   "language": "python",
   "name": "python3"
  },
  "language_info": {
   "codemirror_mode": {
    "name": "ipython",
    "version": 3
   },
   "file_extension": ".py",
   "mimetype": "text/x-python",
   "name": "python",
   "nbconvert_exporter": "python",
   "pygments_lexer": "ipython3",
   "version": "3.5.2"
  }
 },
 "nbformat": 4,
 "nbformat_minor": 1
}
