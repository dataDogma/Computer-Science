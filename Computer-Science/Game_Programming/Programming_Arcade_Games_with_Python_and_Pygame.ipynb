{
 "cells": [
  {
   "cell_type": "markdown",
   "metadata": {},
   "source": [
    "![Banner Goes here]()"
   ]
  },
  {
   "cell_type": "markdown",
   "metadata": {},
   "source": [
    "## Table of Contents\n",
    "-- --\n",
    "[1. Before Getting Started](#Before-Getting-Started)\n",
    "\n",
    "+ [1.1 Introduction](#1.1-Introduction)\n",
    "\n",
    "[2. Create a Custom Calculator](#Create-a-Custom-Calculator)\n",
    "\n",
    "[3. What is a Computer Langugage?](#What-is-a-Computer-Language?)\n",
    "4. Quiz Games and If Statements.\n",
    "5. Guessing Games with Random Numbers and Loops.\n",
    "6. Introduction to Graphics.\n",
    "7. Back to Looping.\n",
    "8. Introduction to Animation.\n",
    "9. Functions.\n",
    "10.Controllers and Graphics.\n",
    "11. Bitmapped Graphics and Sound.\n",
    "12. Introduction to Classes.\n",
    "13. Libraries and Modules.\n",
    "14. Searching.\n",
    "15. Array-Backed Grids.\n",
    "16. Sorting.\n",
    "17. Exceptions.\n",
    "18. Recursion.\n",
    "19. Formatting.\n",
    "20. Labs.\n",
    "21. Appendix A: Example code and Programs.\n",
    "22. Appendix B: Sample Tests.\n",
    "23. Appendix C: Worksheets\n",
    "24. Appendix D: Version Control.\n",
    "25. What's next?"
   ]
  },
  {
   "cell_type": "markdown",
   "metadata": {},
   "source": [
    "## Before Getting Started\n",
    "-- --\n",
    "\n",
    "This is some text"
   ]
  },
  {
   "cell_type": "markdown",
   "metadata": {},
   "source": [
    "\n",
    "### 1.1 Introduction\n",
    "-- --\n",
    "\n",
    "Sub-section."
   ]
  },
  {
   "cell_type": "markdown",
   "metadata": {},
   "source": [
    "## Create a Custom Calculator"
   ]
  },
  {
   "cell_type": "markdown",
   "metadata": {},
   "source": [
    "## What is a Computer Language?\n",
    "-- --\n",
    "\n",
    "Here's some more text."
   ]
  }
 ],
 "metadata": {
  "anaconda-cloud": {},
  "kernelspec": {
   "display_name": "Python [default]",
   "language": "python",
   "name": "python3"
  },
  "language_info": {
   "codemirror_mode": {
    "name": "ipython",
    "version": 3
   },
   "file_extension": ".py",
   "mimetype": "text/x-python",
   "name": "python",
   "nbconvert_exporter": "python",
   "pygments_lexer": "ipython3",
   "version": "3.5.2"
  }
 },
 "nbformat": 4,
 "nbformat_minor": 1
}
