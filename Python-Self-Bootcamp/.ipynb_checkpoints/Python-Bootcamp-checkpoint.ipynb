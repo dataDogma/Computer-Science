{
 "cells": [
  {
   "cell_type": "markdown",
   "metadata": {},
   "source": [
    "## [Table of Contents](#TOC)\n",
    "\n",
    "[1. Introduction](#Introduction)\n",
    "\n",
    "+ [Curriculum Overview](#Curriculum-Overview)\n",
    "\n",
    "\n",
    "+ [Python 2 Vs Python 3](#Pyhton-2-Vs-Python-3)\n",
    "\n",
    "\n",
    "+ [How to Approach this Course](#How-to-approach-this-course)\n",
    "\n",
    "\n",
    "[2. Tool Box](#Tool-)\n",
    "\n",
    "+ [Python Installation](#Python-installation)\n",
    "\n",
    "\n",
    "+ [Environment Selection](#Env-Selection)\n",
    "\n",
    "\n",
    "+ []"
   ]
  }
 ],
 "metadata": {
  "kernelspec": {
   "display_name": "Python [default]",
   "language": "python",
   "name": "python3"
  },
  "language_info": {
   "codemirror_mode": {
    "name": "ipython",
    "version": 3
   },
   "file_extension": ".py",
   "mimetype": "text/x-python",
   "name": "python",
   "nbconvert_exporter": "python",
   "pygments_lexer": "ipython3",
   "version": "3.5.2"
  }
 },
 "nbformat": 4,
 "nbformat_minor": 1
}
