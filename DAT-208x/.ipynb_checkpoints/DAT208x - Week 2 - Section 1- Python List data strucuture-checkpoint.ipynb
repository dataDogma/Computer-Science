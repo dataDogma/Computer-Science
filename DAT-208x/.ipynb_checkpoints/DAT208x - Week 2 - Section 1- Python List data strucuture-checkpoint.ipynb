{
 "cells": [
  {
   "cell_type": "markdown",
   "metadata": {},
   "source": [
    "![Banner here]()"
   ]
  },
  {
   "cell_type": "markdown",
   "metadata": {},
   "source": [
    "## List data structure\n",
    "-- --\n",
    "\n",
    "\n",
    "+ Python list, is one of the \"compound\" data types.\n",
    "\n",
    "    - Meaning, it groups similar or dissimilar data objects.\n",
    "        \n",
    "    - Also can be called collection of data objects.\n",
    "    \n",
    "    \n",
    "+ Python list, can contain any data type.\n",
    "\n",
    "    - More advanced data types too like 'list' themselves.\n",
    "    \n",
    "    - These can be thought of as collection of 'sub-lists'.\n",
    " \n",
    " \n",
    "+ List, can contain dissimilar data objects as well, as formerly mentioned.\n",
    "\n",
    "    - So we can have, floats, int's, boolean, list.\n",
    " \n",
    " \n",
    "+ Python list are represented as:\n",
    "\n",
    "     `variable = [ element1, element2, element3, ... , element(n-1) ]`\n",
    "-- --"
   ]
  },
  {
   "cell_type": "markdown",
   "metadata": {},
   "source": [
    "## Exercise: Review Questions :-\n",
    "-- --\n",
    "\n",
    "\n",
    "+ **RQ1 : **_Which of the following is a characteristic of a Python list?_\n",
    "\n",
    "    **Ans:** It is a way to name a collection of values, instead of having to create seperate variables for each element.\n",
    "    \n",
    "\n",
    "\n",
    "+ **RQ2 : **_You use `type(fam)` and `type(fam2)` to reveal the type of a Python list. What is the result?_\n",
    "\n",
    "    **Ans:** `list`.\n",
    "\n",
    "\n",
    "\n",
    "+ **RQ3 : **_Which comand is \"invalid\" Python syntax to create a list `x`?_.\n",
    "\n",
    "    **Ans:** `x = [ \"this\", \"is\", \"a\" True, \"list\" ]`\n",
    "    \n",
    "    _**Note:**_ `x = [ \"this\" + \"is\", \"a\", True, \"list\" ]` is a **valid** syntax.\n",
    "\n",
    "\n",
    "\n",
    "+ **RQ4 :**_Which three Python data typesdoes this list contain?_\n",
    "\n",
    "    `x = [ \"you\", 2, \"are\", \"so\", True ]`\n",
    "\n",
    "    **Ans:** `int`, `string` and `bool`.\n",
    "   "
   ]
  },
  {
   "cell_type": "markdown",
   "metadata": {},
   "source": [
    "## Lab: Python Lists\n",
    "-- --\n",
    "\n",
    "**Objective:**\n",
    "\n",
    "+ Creating Python lists in different ways.\n",
    "\n",
    "\n",
    "+ Discovering interestign aspects about them.\n",
    "-- --\n",
    "\n",
    "\n",
    "**1. Creating a list - 100xp, Status: Earned **"
   ]
  },
  {
   "cell_type": "code",
   "execution_count": 1,
   "metadata": {
    "collapsed": false
   },
   "outputs": [
    {
     "name": "stdout",
     "output_type": "stream",
     "text": [
      "[11.25, 18.0, 20.0, 10.75, 9.5]\n"
     ]
    }
   ],
   "source": [
    "\"\"\"\n",
    "\n",
    "After measuring the height of your family, you decide to collect some information\n",
    "on the house you're living in. The areas of the different parts of your house\n",
    "are stored in separate variables for now, as shown in the script.\n",
    "\n",
    "Instructions:\n",
    "\n",
    "    + Create a list, \"areas\", that contain the area of:\n",
    "        \n",
    "        - hallway(hall), kitchen (kit), living room(liv), bedroom(bed) and bathroom(bath).\n",
    "        \n",
    "        - Preserve the order.\n",
    "        \n",
    "    + Print \"areas\" with the \"print()\" function.\n",
    "    \n",
    "\"\"\"\n",
    "\n",
    "# area variables (in square meters)\n",
    "hall = 11.25\n",
    "kit = 18.0\n",
    "liv = 20.0\n",
    "bed = 10.75\n",
    "bath = 9.50\n",
    "\n",
    "# Create list areas\n",
    "areas = [ hall, kit, liv, bed, bath ]\n",
    "\n",
    "# Print areas\n",
    "print( areas )\n",
    "\n"
   ]
  },
  {
   "cell_type": "markdown",
   "metadata": {},
   "source": [
    "**2. Creating list with different types - 100xp, Status : Earned**\n",
    "-- --\n",
    "\n",
    "+ A list can contain any Python type and a mix of Python types as well.\n",
    "\n",
    "    `variable = [ <int>, <float>, <str>, <list> ]`\n",
    "-- --"
   ]
  },
  {
   "cell_type": "code",
   "execution_count": 4,
   "metadata": {
    "collapsed": false
   },
   "outputs": [
    {
     "name": "stdout",
     "output_type": "stream",
     "text": [
      "['hallway', 11.25, 'kitchen', 18.0, 'living room', 20.0, 'bedroom', 10.75, 'bathroom', 9.5]\n"
     ]
    }
   ],
   "source": [
    "\"\"\"\n",
    "Problem summary:\n",
    "\n",
    "   The code on the right is the start of a solution. For some of the areas, \n",
    "   the name of the corresponding room is already placed in front. Pay attention here! \n",
    "   \"bathroom\" is a string, while bath is a variable that represents the float 9.50 you specified earlier.\n",
    "   \n",
    "Instruction:\n",
    "\n",
    "    + Create the \"areas\" list such that, \n",
    "    \n",
    "        - List first contains the name of each room as a string,\n",
    "          and then its area.\n",
    "        \n",
    "        - More specifically, add the strings \"hallway\", \"kitchen\" and \"bedroom\"\n",
    "          at the appropriate locations.\n",
    "          \n",
    "    + Print \"areas\" again; is the printout more informative this time?\n",
    "\n",
    "\n",
    "\"\"\"\n",
    "\n",
    "# area variables (in square meters)\n",
    "hall = 11.25\n",
    "kit = 18.0\n",
    "liv = 20.0\n",
    "bed = 10.75\n",
    "bath = 9.50\n",
    "\n",
    "# Adapt list areas\n",
    "areas = [\"hallway\", hall,\"kitchen\", kit, \"living room\", liv, \"bedroom\", bed, \"bathroom\", bath]\n",
    "\n",
    "# Print areas\n",
    "print(areas)\n"
   ]
  },
  {
   "cell_type": "markdown",
   "metadata": {},
   "source": [
    "**3. Select the valid list -- 50xp, status : Earned**\n",
    "-- --\n",
    "\n",
    "+ List is also a Python type.\n",
    "\n",
    "    - Meaning, list can selfcontain a list! Or a sub-list.\n",
    "\n",
    "\n",
    "+ Syntax : `variable_name = [ elem1, elem2, elem3 ... ,elem(n -1) ]`\n",
    "\n",
    "-- --\n",
    "Can you tell which ones of the following lines of Python code are valid ways to build a list?_\n",
    "\n",
    "    A) `[ 1, 3, 4, 2 ]`\n",
    "    \n",
    "    B) `[ [ 1, 2, 3 ], [ 4, 5, 7 ] ]`\n",
    "    \n",
    "    C) `[ 1 + 2, \"a\" * 5, 3 ]`\n",
    "\n",
    "  **Ans: ** All of them."
   ]
  },
  {
   "cell_type": "code",
   "execution_count": 5,
   "metadata": {
    "collapsed": false,
    "scrolled": true
   },
   "outputs": [
    {
     "name": "stdout",
     "output_type": "stream",
     "text": [
      "[[1, 2, 3], [4, 5, 7]]\n",
      "[3, 'aaaaa', 3]\n"
     ]
    }
   ],
   "source": [
    "list1 = [ [ 1, 2, 3 ], [ 4, 5, 7 ] ]\n",
    "\n",
    "list2 = [ 1 + 2, \"a\" * 5, 3 ]\n",
    "\n",
    "# print the list to check any errors\n",
    "\n",
    "print( list1 )\n",
    "\n",
    "print( list2 )\n",
    "\n"
   ]
  },
  {
   "cell_type": "markdown",
   "metadata": {},
   "source": [
    "**4 List of Lists -- 100xp, status: Earned**"
   ]
  },
  {
   "cell_type": "code",
   "execution_count": 7,
   "metadata": {
    "collapsed": false,
    "scrolled": true
   },
   "outputs": [
    {
     "name": "stdout",
     "output_type": "stream",
     "text": [
      "[['hallway', 11.25], ['kitchen', 18.0], ['living room', 20.0], ['bedroom', 10.75], ['bathroom', 9.5]]\n",
      "<class 'list'>\n"
     ]
    }
   ],
   "source": [
    "\"\"\"\n",
    "Problem summary:\n",
    "\n",
    "    As a data scientist, you'll often be dealing with a lot of data,\n",
    "    and it will make sense to group some of this data.\n",
    "\n",
    "    Instead of creating a flat list containing strings and floats,\n",
    "    representing the names and areas of the rooms in your house,\n",
    "    you can create a list of lists. The script on the right can already give you an idea. \n",
    "\n",
    "    Don't get confused here: \"hallway\" is a string,\n",
    "    while hall is a variable that represents the float 11.25 you specified earlier.\n",
    "\n",
    "\n",
    "Instructions:\n",
    "\n",
    "    + Finish the list of lists so that it also contains the bedroom and bathroom data.\n",
    "      \n",
    "        - Make sure you enter these in order! \n",
    "    \n",
    "    + Print out \"house\";\n",
    "    \n",
    "        - Dows this way of structuring your data make more sense?\n",
    "        \n",
    "    + Printt out the type of \"house\".\n",
    "    \n",
    "        - Are you still dealing with a list?\n",
    "\n",
    "\"\"\"\n",
    "\n",
    "# area variables (in square meters)\n",
    "hall = 11.25\n",
    "kit = 18.0\n",
    "liv = 20.0\n",
    "bed = 10.75\n",
    "bath = 9.50\n",
    "\n",
    "# house information as list of lists\n",
    "house = [ [\"hallway\", hall],\n",
    "          [\"kitchen\", kit],\n",
    "          [\"living room\", liv],\n",
    "          [\"bedroom\", bed],\n",
    "          [\"bathroom\", bath] ]\n",
    "\n",
    "# Print out house\n",
    "print( house )\n",
    "\n",
    "# Print out the type of house\n",
    "print( type( house ) )\n"
   ]
  },
  {
   "cell_type": "markdown",
   "metadata": {},
   "source": [
    "-- --"
   ]
  },
  {
   "cell_type": "code",
   "execution_count": null,
   "metadata": {
    "collapsed": true
   },
   "outputs": [],
   "source": []
  }
 ],
 "metadata": {
  "anaconda-cloud": {},
  "kernelspec": {
   "display_name": "Python [default]",
   "language": "python",
   "name": "python3"
  },
  "language_info": {
   "codemirror_mode": {
    "name": "ipython",
    "version": 3
   },
   "file_extension": ".py",
   "mimetype": "text/x-python",
   "name": "python",
   "nbconvert_exporter": "python",
   "pygments_lexer": "ipython3",
   "version": "3.5.2"
  }
 },
 "nbformat": 4,
 "nbformat_minor": 1
}
