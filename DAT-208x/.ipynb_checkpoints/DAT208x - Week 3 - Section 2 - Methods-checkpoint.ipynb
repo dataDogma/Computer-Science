{
 "cells": [
  {
   "cell_type": "markdown",
   "metadata": {},
   "source": [
    "![Banner goes here]()"
   ]
  },
  {
   "cell_type": "markdown",
   "metadata": {},
   "source": [
    "# Lecture: Methods\n",
    "-- --\n",
    "\n",
    "Following are some of the functions used formarly in this course:\n",
    "\n",
    "\n",
    "+ `Max()`\n",
    "\n",
    "+ `len()`\n",
    "\n",
    "+ `round()`\n",
    "\n",
    "+ `sorted()`\n",
    "\n",
    "Let's learn a few more:\n",
    "\n",
    "+ Get index in a list: ?\n",
    "\n",
    "+ Reversing a list: ?\n",
    "\n",
    "\n",
    "**Note**: all the data structures in python are called `objects`.\n",
    "-- --\n",
    "Python has _built-in methods_ which informaly are:\n",
    "\n",
    "`Functions` that belong to `python objects`, e.g. A python object of type `string` has `methods`, such as:\n",
    "\n",
    "+ `capitalize` and\n",
    "\n",
    "+ `replace`\n",
    "\n",
    "Further, `objects` of type `float` have \"specific methods\" depending on the `type`.\n",
    "-- --\n",
    "Syntax: \n",
    "\n",
    "+ `object.method_name( <arguments> )`\n",
    "\n",
    "\n",
    "+ The `.(dot)` is called `address off operator` which uses `reference` of specified method to be searched from the standard library of python, which contains list of functions and methods.\n",
    "-- --\n",
    "To sum things up: \n",
    "\n",
    "_In Python, everything is an `object`, and each object has a `specific method` associated with it, depending on the `type of object`._\n",
    "\n",
    "**Note:**\n",
    "\n",
    "+ Some methods can also, `change` the `objects` they are called on.\n",
    "    - e.g. The `.append()` method!\n",
    "\n",
    "\n",
    "+ Consequently, some don't and thus a caution is needed while usig such methods!"
   ]
  },
  {
   "cell_type": "markdown",
   "metadata": {},
   "source": [
    "## Lab: Methods\n",
    "-- --\n",
    "**Objective:**\n",
    "\n",
    "+ Get to know different kinds of methods.\n",
    "\n",
    "\n",
    "+ Understand the nuances that come packaged with methods.\n",
    "\n",
    "    - by practising them on data types such as `string` and `list`.\n",
    "-- --"
   ]
  }
 ],
 "metadata": {
  "kernelspec": {
   "display_name": "Python [default]",
   "language": "python",
   "name": "python3"
  },
  "language_info": {
   "codemirror_mode": {
    "name": "ipython",
    "version": 3
   },
   "file_extension": ".py",
   "mimetype": "text/x-python",
   "name": "python",
   "nbconvert_exporter": "python",
   "pygments_lexer": "ipython3",
   "version": "3.5.2"
  }
 },
 "nbformat": 4,
 "nbformat_minor": 1
}
