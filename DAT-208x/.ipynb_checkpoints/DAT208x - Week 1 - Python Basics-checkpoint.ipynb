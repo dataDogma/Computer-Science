{
 "cells": [
  {
   "cell_type": "markdown",
   "metadata": {},
   "source": [
    "![](img2.png)"
   ]
  },
  {
   "cell_type": "markdown",
   "metadata": {},
   "source": [
    "## Lecture : Hello Python!\n",
    "-- -- \n",
    "\n",
    "+ **[RQ-1]** : Which of the following statements is correct?\n",
    "\n",
    "    **Ans:** _The Ipython Shell is typically used to work with Python interactively_.\n",
    "\n",
    "\n",
    "+ **[RQ-2]** : Which file extension is used for Python script files?**\n",
    "\n",
    "    **Ans:** .py\n",
    "\n",
    "\n",
    "+ **[RQ-3]** : You need to print the result of adding 3 and 4 inside a script. Which line of code should you write in the script?\n",
    "    \n",
    "    **Ans:** print(int x + int y)\n",
    "-- --"
   ]
  },
  {
   "cell_type": "markdown",
   "metadata": {},
   "source": [
    "## Lab : Hello Python!\n",
    "-- --\n",
    "\n",
    "Objective :\n",
    "\n",
    "+ How to work with Ipython shell.\n",
    "+ Writing python scripts.\n",
    "\n",
    "-- --"
   ]
  },
  {
   "cell_type": "markdown",
   "metadata": {},
   "source": [
    "**The Python Interface -- 100xp, Status : Earned**"
   ]
  },
  {
   "cell_type": "code",
   "execution_count": 1,
   "metadata": {
    "collapsed": false
   },
   "outputs": [
    {
     "name": "stdout",
     "output_type": "stream",
     "text": [
      "0.625\n",
      "17\n"
     ]
    }
   ],
   "source": [
    "# working with print function\n",
    "print(5 / 8)\n",
    "\n",
    "# Add another print function on new line\n",
    "print(7 + 10)"
   ]
  },
  {
   "cell_type": "markdown",
   "metadata": {},
   "source": [
    "**When to use python? -- 50xp, Status : Earned** \n",
    "-- --\n",
    "\n",
    "Python is a pretty versatile language. For what applications can you use Python?\n",
    "\n",
    "**Ans:** _All of the above_\n",
    "\n",
    "-- --"
   ]
  },
  {
   "cell_type": "markdown",
   "metadata": {},
   "source": [
    "**Any comments? -- 100xp, Satatus : Earned**\n",
    "\n",
    "-- --\n",
    "\n",
    "+ We can add comments to python scripts.\n",
    "\n",
    "+ Comments are short snippets of plain english, to help you and others understand what the code is about.\n",
    "\n",
    "+ To add a comment, use '#'tag, insert it at the front of the text.\n",
    "\n",
    "+ Comments have idle state, i.e. they don't affect the code results.\n",
    "\n",
    "+ Comments are ignored by the python interpretor.\n",
    "\n",
    "-- --"
   ]
  },
  {
   "cell_type": "code",
   "execution_count": 2,
   "metadata": {
    "collapsed": false
   },
   "outputs": [
    {
     "name": "stdout",
     "output_type": "stream",
     "text": [
      "0.625\n",
      "17\n"
     ]
    }
   ],
   "source": [
    "# Just testing division\n",
    "print(5 / 8)\n",
    "\n",
    "# Additon works too ( added comment here )\n",
    "print(7 + 10)"
   ]
  },
  {
   "cell_type": "markdown",
   "metadata": {},
   "source": [
    "**Python as a calculator -- 100xp, Status : Earned**\n",
    "-- --\n",
    "Python is perfectly suited to do basic calculations. Apart from addition, subtraction, multiplication and division, there is also support for more advanced operations such as:\n",
    "\n",
    "+ Exponentiation:**. This operator raises the number to its left to the power of the number to its right: for example 4**2 will give 16.\n",
    "\n",
    "\n",
    "+ Modulo: %. It returns the remainder of the division of the number to the left by the number on its right, for example 18 % 7 equals 4.\n",
    "-- --"
   ]
  },
  {
   "cell_type": "code",
   "execution_count": 9,
   "metadata": {
    "collapsed": false
   },
   "outputs": [
    {
     "name": "stdout",
     "output_type": "stream",
     "text": [
      "10\n",
      "0\n",
      "15\n",
      "5.0\n",
      "16\n",
      "4\n",
      "194.87171000000012\n"
     ]
    }
   ],
   "source": [
    "\"\"\"Suppose you have $100, which you can invest with a 10% return each year. After one year, it's \n",
    "100 x 1.1 = 110 dollars, and after two years it's 100 x 1.1 x 1.1 = 121.\n",
    "\n",
    "Add code to calculate how much money you end up with after 7 years\"\"\"\n",
    "\n",
    "print(5 + 5)\n",
    "print(5 - 5)\n",
    "\n",
    "# Multiplication and division\n",
    "print(3 * 5)\n",
    "print(10 / 2)\n",
    "\n",
    "# Exponentiation\n",
    "print(4 ** 2)\n",
    "\n",
    "# Modulo\n",
    "print(18 % 7)\n",
    "\n",
    "# How much is your $100 worth after 7 years?\n",
    "# first try was unsuccesful, so used the only two things * and ** operators.\n",
    "print ( 100 * ( 1.1 ** 7 ) )\n"
   ]
  }
 ],
 "metadata": {
  "anaconda-cloud": {},
  "kernelspec": {
   "display_name": "Python [default]",
   "language": "python",
   "name": "python3"
  },
  "language_info": {
   "codemirror_mode": {
    "name": "ipython",
    "version": 3
   },
   "file_extension": ".py",
   "mimetype": "text/x-python",
   "name": "python",
   "nbconvert_exporter": "python",
   "pygments_lexer": "ipython3",
   "version": "3.5.2"
  }
 },
 "nbformat": 4,
 "nbformat_minor": 1
}
