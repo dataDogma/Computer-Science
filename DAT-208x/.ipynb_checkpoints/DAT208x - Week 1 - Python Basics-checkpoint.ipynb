{
 "cells": [
  {
   "cell_type": "markdown",
   "metadata": {},
   "source": [
    "![](img2.png)"
   ]
  },
  {
   "cell_type": "markdown",
   "metadata": {},
   "source": [
    "## Lecture : Hello Python!\n",
    "-- -- \n",
    "\n",
    "+ **[RQ-1]** : Which of the following statements is correct?\n",
    "\n",
    "    **Ans:** _The Ipython Shell is typically used to work with Python interactively_.\n",
    "\n",
    "\n",
    "+ **[RQ-2]** : Which file extension is used for Python script files?**\n",
    "\n",
    "    **Ans:** .py\n",
    "\n",
    "\n",
    "+ **[RQ-3]** : You need to print the result of adding 3 and 4 inside a script. Which line of code should you write in the script?\n",
    "    \n",
    "    **Ans:** print(int x + int y)\n",
    "-- --"
   ]
  },
  {
   "cell_type": "markdown",
   "metadata": {},
   "source": [
    "## Lab : Hello Python!\n",
    "-- --\n",
    "\n",
    "Objective :\n",
    "\n",
    "+ How to work with Ipython shell.\n",
    "+ Writing python scripts.\n",
    "\n",
    "-- --"
   ]
  },
  {
   "cell_type": "markdown",
   "metadata": {},
   "source": [
    "**The Python Interface -- 100xp, Status : Earned**"
   ]
  },
  {
   "cell_type": "code",
   "execution_count": 1,
   "metadata": {
    "collapsed": false
   },
   "outputs": [
    {
     "name": "stdout",
     "output_type": "stream",
     "text": [
      "0.625\n",
      "17\n"
     ]
    }
   ],
   "source": [
    "# working with print function\n",
    "print(5 / 8)\n",
    "\n",
    "# Add another print function on new line\n",
    "print(7 + 10)"
   ]
  },
  {
   "cell_type": "markdown",
   "metadata": {},
   "source": [
    "**When to use python? -- 50xp, Status : Earned** \n",
    "-- --\n",
    "\n",
    "Python is a pretty versatile language. For what applications can you use Python?\n",
    "\n",
    "**Ans:** _All of the above_\n",
    "\n",
    "-- --"
   ]
  },
  {
   "cell_type": "markdown",
   "metadata": {},
   "source": [
    "**Any comments? -- 100xp, Satatus : Earned**\n",
    "\n",
    "-- --\n",
    "\n",
    "+ We can add comments to python scripts.\n",
    "\n",
    "+ Comments are short snippets of plain english, to help you and others understand what the code is about.\n",
    "\n",
    "+ To add a comment, use '#'tag, insert it at the front of the text.\n",
    "\n",
    "+ Comments have idle state, i.e. they don't affect the code results.\n",
    "\n",
    "+ Comments are ignored by the python interpretor.\n",
    "\n",
    "-- --"
   ]
  },
  {
   "cell_type": "code",
   "execution_count": 2,
   "metadata": {
    "collapsed": false
   },
   "outputs": [
    {
     "name": "stdout",
     "output_type": "stream",
     "text": [
      "0.625\n",
      "17\n"
     ]
    }
   ],
   "source": [
    "# Just testing division\n",
    "print(5 / 8)\n",
    "\n",
    "# Additon works too ( added comment here )\n",
    "print(7 + 10)"
   ]
  },
  {
   "cell_type": "markdown",
   "metadata": {},
   "source": [
    "**Python as a calculator -- 100xp, Status : Earned**\n",
    "-- --\n",
    "Python is perfectly suited to do basic calculations. Apart from addition, subtraction, multiplication and division, there is also support for more advanced operations such as:\n",
    "\n",
    "+ Exponentiation:**. This operator raises the number to its left to the power of the number to its right: for example 4**2 will give 16.\n",
    "\n",
    "\n",
    "+ Modulo: %. It returns the remainder of the division of the number to the left by the number on its right, for example 18 % 7 equals 4.\n",
    "-- --"
   ]
  },
  {
   "cell_type": "code",
   "execution_count": 9,
   "metadata": {
    "collapsed": false
   },
   "outputs": [
    {
     "name": "stdout",
     "output_type": "stream",
     "text": [
      "10\n",
      "0\n",
      "15\n",
      "5.0\n",
      "16\n",
      "4\n",
      "194.87171000000012\n"
     ]
    }
   ],
   "source": [
    "\"\"\"Suppose you have $100, which you can invest with a 10% return each year. After one year, it's \n",
    "100 x 1.1 = 110 dollars, and after two years it's 100 x 1.1 x 1.1 = 121.\n",
    "\n",
    "Add code to calculate how much money you end up with after 7 years\"\"\"\n",
    "\n",
    "print(5 + 5)\n",
    "print(5 - 5)\n",
    "\n",
    "# Multiplication and division\n",
    "print(3 * 5)\n",
    "print(10 / 2)\n",
    "\n",
    "# Exponentiation\n",
    "print(4 ** 2)\n",
    "\n",
    "# Modulo\n",
    "print(18 % 7)\n",
    "\n",
    "# How much is your $100 worth after 7 years?\n",
    "# first try was unsuccesful, so used the only two things * and ** operators.\n",
    "print ( 100 * ( 1.1 ** 7 ) )\n"
   ]
  },
  {
   "cell_type": "markdown",
   "metadata": {},
   "source": [
    "-- --\n",
    "## Lecture : Variables and Types\n",
    "-- --\n",
    "\n",
    "* **[RQ1] : **Which line of code creates a variable `x` with the value '15'?\n",
    "\n",
    "    **Ans:** `x = 15` ( inline code used ).\n",
    "\n",
    "\n",
    "* **[RQ2] : ** What is the value of the variable `z` after executing these commands?\n",
    "     \n",
    "    ```\n",
    "    x = 15\n",
    "    y = 7\n",
    "    z = x + y + 1\n",
    "    ``` \n",
    "    \n",
    "    **Ans:** 13\n",
    "\n",
    "\n",
    "* **[RQ3] : ** You execute the following two lines of Python code:\n",
    "\n",
    "    ```\n",
    "    x = \"test\"\n",
    "    y = False\n",
    "    ```\n",
    "    \n",
    "    **Ans:** `x` is a string, and `y` is a boolean."
   ]
  },
  {
   "cell_type": "markdown",
   "metadata": {},
   "source": [
    "-- --\n",
    "## Lab : Variables and Types\n",
    "-- --\n",
    "\n",
    "**Objective:**\n",
    "    \n",
    "+ Creating Variables.\n",
    "+ Performing Calculations on them.\n",
    "+ Understand different data types that python offers.\n",
    "-- --"
   ]
  },
  {
   "cell_type": "markdown",
   "metadata": {},
   "source": [
    "+ **Variable Assignment**, earned credit : 100xp\n",
    "\n",
    "\n",
    "+ **Calculations with variables**, earned credit : 100xp\n",
    "\n",
    "\n",
    "+ **Other variable types**, earned credit : 100xp\n",
    "\n",
    "\n",
    "+ **Guess the type**, earned credit : 50xp\n",
    "\n",
    "\n",
    "+ **Operations with the other types**, earned credit : 100xp\n",
    "\n",
    "\n",
    "+ **Type conversion**, earned credit : 100xp\n",
    "\n",
    "\n",
    "+ **Can Python handle everything?**, earned credit : 50xp"
   ]
  },
  {
   "cell_type": "markdown",
   "metadata": {},
   "source": [
    "-- --\n",
    "**1. Variable Assignment**\n",
    "\n",
    "In Python, a variable allows you to refer to a value with a name. To create a variable use `=`, like this example:\n",
    "\n",
    "`x = 5`\n",
    "    \n",
    "You can now use the name of this varibale `x`, instead of the actual value, `5`."
   ]
  },
  {
   "cell_type": "code",
   "execution_count": 1,
   "metadata": {
    "collapsed": false
   },
   "outputs": [
    {
     "name": "stdout",
     "output_type": "stream",
     "text": [
      "100\n"
     ]
    }
   ],
   "source": [
    "\"\"\"\n",
    "    Instructions :\n",
    "    \n",
    "    * Create a variable savings with the value 100.\n",
    "    \n",
    "    * Check out this variable by typing 'print( savings )` in the script.\n",
    "    \n",
    "\"\"\"\n",
    "\n",
    "# Create a variable savings\n",
    "savings = 100\n",
    "\n",
    "# Print out savings\n",
    "print( savings )\n"
   ]
  },
  {
   "cell_type": "markdown",
   "metadata": {},
   "source": [
    "-- --\n",
    "**2. Calculations with variables**\n",
    "\n",
    "Remember how you calculated the money you ended up with after 7 years of investing $100? You did something like this:\n",
    "\n",
    "`100 * 1.10 ** 7`\n",
    "\n",
    "Instead of calculating with the actual values, you can use variables instead. The savings variable you've created in the previous exercise represents the $100 you started with. It's up to you to create a new variable to represent 1.10 and then redo the calculations!"
   ]
  },
  {
   "cell_type": "code",
   "execution_count": 4,
   "metadata": {
    "collapsed": false
   },
   "outputs": [
    {
     "name": "stdout",
     "output_type": "stream",
     "text": [
      "194.87171000000012\n"
     ]
    }
   ],
   "source": [
    "\"\"\"\n",
    "    Instructions : \n",
    "    \n",
    "    * Create a variable factor, equal to 1.10.\n",
    "    \n",
    "    * Use savings and factor to calculate the amount of money, \n",
    "      you end up with after 7 years. Store the result in a new variable,\n",
    "      result.\n",
    "      \n",
    "\"\"\"\n",
    "\n",
    "# Create a variable savings\n",
    "savings = 100\n",
    "\n",
    "# Create a variable factor\n",
    "factor = 1.10\n",
    "\n",
    "# Calculate result\n",
    "result =  savings * ( factor ** 7 )\n",
    "\n",
    "# Print out result\n",
    "print( result )"
   ]
  },
  {
   "cell_type": "markdown",
   "metadata": {},
   "source": [
    "-- --\n",
    "**3. Other variable types**\n",
    "\n",
    "In the previous exercise, you worked with two Python data types:\n",
    "\n",
    "+ `int`, or integer: a number without a fractional part.\n",
    "`savings`, with the value `100`, is an example of an integer.\n",
    "\n",
    "+ `float`, or floating point: a number that has both an integer and fractional part, separated by a point. `factor`, with the value `1.10`, is an example of a float.\n",
    "\n",
    "Next to numerical data types, there are two other very common data types:\n",
    "\n",
    "+ `str`, or string: a type to represent text. You can use single or double quotes to build a string.\n",
    "\n",
    "+ `bool`, or boolean: a type to represent logical values. Can only be True or False.\n",
    "-- --"
   ]
  },
  {
   "cell_type": "code",
   "execution_count": 6,
   "metadata": {
    "collapsed": true
   },
   "outputs": [],
   "source": [
    "\"\"\"\n",
    "Instructions : \n",
    "\n",
    "    * Create a new string, 'desc', with the value \"compound interest\".\n",
    "    \n",
    "    * Create a new boolean, 'profitable', with the value 'True'.\n",
    "    \n",
    "\"\"\"\n",
    "\n",
    "# Create a variable desc\n",
    "desc = \"compound interest\"\n",
    "\n",
    "# Create a variable profitable\n",
    "profitable = True\n"
   ]
  },
  {
   "cell_type": "markdown",
   "metadata": {},
   "source": [
    "-- --\n",
    "**4. Guess the type**\n",
    "\n",
    "To find out the type of a value or a variable that refers to that value, you can use the `type()` function. Suppose you've defined a variable `a`, but you forgot the type of this variable. To determine the type of `a, simply execute:\n",
    "\n",
    "`type(a)`\n"
   ]
  },
  {
   "cell_type": "code",
   "execution_count": 10,
   "metadata": {
    "collapsed": false
   },
   "outputs": [
    {
     "data": {
      "text/plain": [
       "float"
      ]
     },
     "execution_count": 10,
     "metadata": {},
     "output_type": "execute_result"
    }
   ],
   "source": [
    "a = 10.21\n",
    "b = \"Python's fun!\"\n",
    "c = False\n",
    "\n",
    "# Check there types:\n",
    "\n",
    "type(a)"
   ]
  },
  {
   "cell_type": "code",
   "execution_count": 11,
   "metadata": {
    "collapsed": false
   },
   "outputs": [
    {
     "data": {
      "text/plain": [
       "str"
      ]
     },
     "execution_count": 11,
     "metadata": {},
     "output_type": "execute_result"
    }
   ],
   "source": [
    "type(b)"
   ]
  },
  {
   "cell_type": "code",
   "execution_count": 12,
   "metadata": {
    "collapsed": false
   },
   "outputs": [
    {
     "data": {
      "text/plain": [
       "bool"
      ]
     },
     "execution_count": 12,
     "metadata": {},
     "output_type": "execute_result"
    }
   ],
   "source": [
    "type(c)"
   ]
  },
  {
   "cell_type": "markdown",
   "metadata": {},
   "source": [
    "-- --\n",
    "**5. Operations with other types**\n",
    "\n",
    "Different types behave differently in python,\n",
    "\n",
    "+ Sum of two or more `strings` will be a \"concatenation\" ( pasting ) of two or more string together.\n",
    "\n",
    "\n",
    "+ Sum of two or more `int` is an `int`\n",
    "\n",
    "\n",
    "+ Sum of two or more `floats` is a `float`, except some special situations.\n",
    "\n",
    "\n",
    "+ Sum of two or more `bool` is a `bool`."
   ]
  },
  {
   "cell_type": "code",
   "execution_count": 15,
   "metadata": {
    "collapsed": false
   },
   "outputs": [
    {
     "name": "stdout",
     "output_type": "stream",
     "text": [
      "<class 'float'>\n",
      "compound interestcompound interest\n"
     ]
    }
   ],
   "source": [
    "\"\"\"\n",
    "Instructions :\n",
    "\n",
    "    + Calculate the product of 'savings' and 'factor'.\n",
    "        - Store the result in 'yearl'.\n",
    "    \n",
    "    + What do you think the resulting type will be?\n",
    "        - Find out by printing out the type of 'yearl'\n",
    "        \n",
    "    + Calculate the sum of 'desc' and 'desc'.\n",
    "        - Store the result in new variable 'doubledesc'.\n",
    "        \n",
    "    + Print out 'doubledesc'.\n",
    "        - Did you expect this?\n",
    "\"\"\"\n",
    "\n",
    "# Several variables to experiment with\n",
    "savings = 100\n",
    "factor = 1.1\n",
    "desc = \"compound interest\"\n",
    "\n",
    "# Assign product of factor and savings to year1\n",
    "year1 = savings * factor\n",
    "\n",
    "# Print the type of year1\n",
    "print( type( yearl ) )\n",
    "\n",
    "# Assign sum of desc and desc to doubledesc\n",
    "doubledesc = desc + desc\n",
    "\n",
    "# Print out doubledesc\n",
    "print( doubledesc )"
   ]
  },
  {
   "cell_type": "markdown",
   "metadata": {},
   "source": [
    "-- --\n",
    "**6. Type conversion**\n",
    "\n",
    "Using the + operator to paste together two strings can be very useful in building custom messages.\n",
    "\n",
    "Suppose for example that you've calculated the return of your investment, and want to summarize the results in a string. Assuming the floats `savings` and `result` are defined, you can try something like this:\n",
    "\n",
    "``print(\"I started with $\" + savings + \" and now have $\" + result + \". Awesome!\")``\n",
    "\n",
    "_**note:** But we cannot sum strings and floats, so above code will return an error._\n",
    "\n",
    "To fix the error:\n",
    "\n",
    "+ Need to explicitly convert the types of your variables.\n",
    "\n",
    "+ Use a `str()` to convert a value into a string.\n",
    "\n",
    "+ Similerly, use `int()`, `float` and `bool()` for desired conversion types.\n",
    "\n",
    "\n"
   ]
  },
  {
   "cell_type": "code",
   "execution_count": 17,
   "metadata": {
    "collapsed": false
   },
   "outputs": [
    {
     "ename": "TypeError",
     "evalue": "Can't convert 'int' object to str implicitly",
     "output_type": "error",
     "traceback": [
      "\u001b[0;31m---------------------------------------------------------------------------\u001b[0m",
      "\u001b[0;31mTypeError\u001b[0m                                 Traceback (most recent call last)",
      "\u001b[0;32m<ipython-input-17-cfbf2df7fcc1>\u001b[0m in \u001b[0;36m<module>\u001b[0;34m()\u001b[0m\n\u001b[1;32m     14\u001b[0m \u001b[1;33m\u001b[0m\u001b[0m\n\u001b[1;32m     15\u001b[0m \u001b[1;31m# Fix the printout\u001b[0m\u001b[1;33m\u001b[0m\u001b[1;33m\u001b[0m\u001b[0m\n\u001b[0;32m---> 16\u001b[0;31m \u001b[0mprint\u001b[0m\u001b[1;33m(\u001b[0m\u001b[1;34m\"I started with $\"\u001b[0m \u001b[1;33m+\u001b[0m \u001b[0msavings\u001b[0m \u001b[1;33m+\u001b[0m \u001b[1;34m\" and now have $\"\u001b[0m \u001b[1;33m+\u001b[0m \u001b[0mresult\u001b[0m \u001b[1;33m+\u001b[0m \u001b[1;34m\". Awesome!\"\u001b[0m\u001b[1;33m)\u001b[0m\u001b[1;33m\u001b[0m\u001b[0m\n\u001b[0m\u001b[1;32m     17\u001b[0m \u001b[1;33m\u001b[0m\u001b[0m\n\u001b[1;32m     18\u001b[0m \u001b[1;31m# Definition of pi_string\u001b[0m\u001b[1;33m\u001b[0m\u001b[1;33m\u001b[0m\u001b[0m\n",
      "\u001b[0;31mTypeError\u001b[0m: Can't convert 'int' object to str implicitly"
     ]
    }
   ],
   "source": [
    "\"\"\"\n",
    "Instructions: \n",
    "\n",
    "    + First run the code, and identify the errors.\n",
    "    \n",
    "    + Next, fix those errors by appropritate type conversion functions.\n",
    "    \n",
    "    + Convert variable 'pi_string' --> 'float', as a new variable 'pi_float'.\n",
    "    \n",
    "\"\"\"\n",
    "# Definition of savings and result\n",
    "savings = 100\n",
    "result = 100 * 1.10 ** 7\n",
    "\n",
    "# Fix the printout\n",
    "print(\"I started with $\" + savings + \" and now have $\" + result + \". Awesome!\")\n",
    "\n",
    "# Definition of pi_string\n",
    "pi_string = \"3.1415926\"\n",
    "\n",
    "# Convert pi_string into float: pi_float\n"
   ]
  },
  {
   "cell_type": "code",
   "execution_count": 20,
   "metadata": {
    "collapsed": false
   },
   "outputs": [
    {
     "name": "stdout",
     "output_type": "stream",
     "text": [
      "I started with $100 and now have $194.87171000000012. Awesome!\n"
     ]
    }
   ],
   "source": [
    "# Fixed code\n",
    "# Definition of savings and result\n",
    "savings = 100\n",
    "result = 100 * 1.10 ** 7\n",
    "\n",
    "# Fix the printout\n",
    "print(\"I started with $\" + str( savings ) + \" and now have $\" + str( result ) + \". Awesome!\")\n",
    "\n",
    "# Definition of pi_string\n",
    "pi_string = \"3.1415926\"\n",
    "\n",
    "# Convert pi_string into float: pi_float\n",
    "pi_float = float(pi_string)\n"
   ]
  },
  {
   "cell_type": "markdown",
   "metadata": {},
   "source": [
    "-- --\n",
    "**7. Can Python handle everything?**\n",
    "\n",
    "Following are some code snipptes, try to find which one is correct:\n",
    "\n",
    "+ ``\"I can add integers, like\" + str(5) + \"to strings.\"``\n",
    "\n",
    "\n",
    "+ ``\"I said \" + (\"Hey \" * 2) + \"Hey!\"``\n",
    "\n",
    "\n",
    "+ ``\"The correct answer to this multiple choice exercise is answer number \" + 2``\n",
    "\n",
    "\n",
    "+ ``True + False``\n",
    "-- --"
   ]
  },
  {
   "cell_type": "code",
   "execution_count": 1,
   "metadata": {
    "collapsed": false
   },
   "outputs": [
    {
     "name": "stdout",
     "output_type": "stream",
     "text": [
      "I can add integers, like 5 to strings.\n",
      "I said Hey Hey Hey!\n"
     ]
    },
    {
     "ename": "TypeError",
     "evalue": "Can't convert 'int' object to str implicitly",
     "output_type": "error",
     "traceback": [
      "\u001b[0;31m---------------------------------------------------------------------------\u001b[0m",
      "\u001b[0;31mTypeError\u001b[0m                                 Traceback (most recent call last)",
      "\u001b[0;32m<ipython-input-1-dec7ca664aa4>\u001b[0m in \u001b[0;36m<module>\u001b[0;34m()\u001b[0m\n\u001b[1;32m      5\u001b[0m \u001b[1;33m\u001b[0m\u001b[0m\n\u001b[1;32m      6\u001b[0m \u001b[1;31m# Error\u001b[0m\u001b[1;33m\u001b[0m\u001b[1;33m\u001b[0m\u001b[0m\n\u001b[0;32m----> 7\u001b[0;31m \u001b[1;33m(\u001b[0m\u001b[1;34m\"The correct answer to this multiple choice exercise is answer number \"\u001b[0m \u001b[1;33m+\u001b[0m \u001b[1;36m2\u001b[0m\u001b[1;33m)\u001b[0m\u001b[1;33m\u001b[0m\u001b[0m\n\u001b[0m\u001b[1;32m      8\u001b[0m \u001b[1;33m\u001b[0m\u001b[0m\n\u001b[1;32m      9\u001b[0m \u001b[0mprint\u001b[0m\u001b[1;33m(\u001b[0m \u001b[1;32mTrue\u001b[0m \u001b[1;33m+\u001b[0m \u001b[1;32mFalse\u001b[0m \u001b[1;33m)\u001b[0m\u001b[1;33m\u001b[0m\u001b[0m\n",
      "\u001b[0;31mTypeError\u001b[0m: Can't convert 'int' object to str implicitly"
     ]
    }
   ],
   "source": [
    "\n",
    "print( \"I can add integers, like \" + str(5) + \" to strings.\" )\n",
    "\n",
    "print( \"I said \" + (\"Hey \" * 2) + \"Hey!\" )\n",
    "\n",
    "# Error\n",
    "(\"The correct answer to this multiple choice exercise is answer number \" + 2)\n"
   ]
  },
  {
   "cell_type": "code",
   "execution_count": 3,
   "metadata": {
    "collapsed": false
   },
   "outputs": [
    {
     "name": "stdout",
     "output_type": "stream",
     "text": [
      "1\n"
     ]
    }
   ],
   "source": [
    "print( True + False )"
   ]
  }
 ],
 "metadata": {
  "anaconda-cloud": {},
  "kernelspec": {
   "display_name": "Python [default]",
   "language": "python",
   "name": "python3"
  },
  "language_info": {
   "codemirror_mode": {
    "name": "ipython",
    "version": 3
   },
   "file_extension": ".py",
   "mimetype": "text/x-python",
   "name": "python",
   "nbconvert_exporter": "python",
   "pygments_lexer": "ipython3",
   "version": "3.5.2"
  }
 },
 "nbformat": 4,
 "nbformat_minor": 1
}
