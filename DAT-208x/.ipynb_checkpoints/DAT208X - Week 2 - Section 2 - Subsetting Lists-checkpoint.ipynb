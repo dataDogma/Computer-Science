{
 "cells": [
  {
   "cell_type": "markdown",
   "metadata": {},
   "source": [
    "![Banner Here]()"
   ]
  },
  {
   "cell_type": "markdown",
   "metadata": {},
   "source": [
    "## Subsetting Lists\n",
    "-- --\n",
    "\n",
    "+ Like strings ( and all the other built-in \"sequence\" type );\n",
    "\n",
    "\n",
    "    List can be \"indexed\" and \"sliced\".\n",
    "\n",
    "\n",
    "+ Syntax :\n",
    "\n",
    "    ``list1 = [ elem1, elem2, elem3, ... , elem(n - 1)]``\n",
    "    \n",
    "    Indexing: `[ elem1, elem2, elem3, ... ]\n",
    "              0    1     2\n",
    "    \n",
    "    \n",
    " +   ``list1[ <starting_index> : <stopping_index> ]``\n",
    "                     ^                 ^\n",
    "                 inclusive          exclusive\n",
    "                            \n",
    "    i.e. _include all elements from the start of the list while excluding the last element by stopping before the last element._\n",
    "\n",
    "-- --\n",
    "+ All slicing operations returns a new list containing the requested elements.\n",
    "\n",
    "\n",
    "+ Assignment to slicing is also possible,\n",
    "\n",
    "    - Caution, this could change the \"size\" of the list or can \"clear\" it completely.\n",
    "    \n",
    "    \n",
    "+ We can also perform \"negative indexing\" by \"prepending\" a `-` sign before the index of a desired element from a list.\n",
    "\n",
    "\n",
    "+ Syntax :\n",
    "\n",
    "    ``list2 = [ elem1, elem2, elem3, ... , elem(n - 1)]``\n",
    "    \n",
    "    Neagative Indexing : \n",
    "    \n",
    "    ``[ elem1, elem2, elem3, elem 4, elem5, elem6 ]``\n",
    "      -6    -5      -4      -3      -2      -1\n",
    "    \n",
    "    "
   ]
  },
  {
   "cell_type": "markdown",
   "metadata": {},
   "source": [
    "-- --\n",
    "## Exercise: \n",
    "-- --\n",
    "\n",
    "+ **RQ1: **_Which pair of symbols do you need to do list subsetting in Python?\n",
    "\n",
    "   **Ans: ** Brackets: `[]`\n",
    "   \n",
    " \n",
    "+ **RQ2: **_What Python comand should you use to extract the element with index `1` from Python lsit `x`?_\n",
    " \n",
    "   **Ans: **`x[1]`\n",
    "   \n",
    "   \n",
    "+ **RQ3: **_You have a list `y`, containing 5 elements:_\n",
    " \n",
    "   ``y = [\"this\", \"is\", \"a\", True, \"test\"]``\n",
    "   \n",
    "   _Which two Python commands correctly extract the boolean value from the list?_\n",
    "   \n",
    "  **Ans: **`y[3]` and `y[-2]`.\n",
    "  \n",
    " \n",
    " + **RQ4: **_You want to slice a list `x`. The general syntax is:_\n",
    " \n",
    "     ``x[ begin : end ]``\n",
    "     \n",
    "   - _You need to replace `begin` and `end` with the indexes accroding to the slice you want to make._\n",
    "   \n",
    "   - _Which of the following statements is correct?_\n",
    "   \n",
    "   **Ans: **The `begin` index is \"included\" in the slice, and the `end` index is \"excluded/not\".\n",
    "-- --     "
   ]
  },
  {
   "cell_type": "code",
   "execution_count": null,
   "metadata": {
    "collapsed": true
   },
   "outputs": [],
   "source": []
  }
 ],
 "metadata": {
  "kernelspec": {
   "display_name": "Python [default]",
   "language": "python",
   "name": "python3"
  },
  "language_info": {
   "codemirror_mode": {
    "name": "ipython",
    "version": 3
   },
   "file_extension": ".py",
   "mimetype": "text/x-python",
   "name": "python",
   "nbconvert_exporter": "python",
   "pygments_lexer": "ipython3",
   "version": "3.5.2"
  }
 },
 "nbformat": 4,
 "nbformat_minor": 1
}
