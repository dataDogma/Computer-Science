{
 "cells": [
  {
   "cell_type": "markdown",
   "metadata": {},
   "source": [
    "![\"Banner Here!\"]()"
   ]
  },
  {
   "cell_type": "markdown",
   "metadata": {},
   "source": [
    "## 2D Numpy Arrays\n",
    "-- --\n",
    "\n",
    "Earlier in this week, we created only `1-dimensional` Numpy arrays. But Pyhon can do a lot more, it can handle `high dimensional or multi dimensional` arrays as well.\n",
    "\n",
    "If we try to check the type of Numpy arrays that was created earlier, we would see that it's of type:\n",
    "\n",
    "    `numpy.ndarray`\n",
    "    \n",
    "   - `numpy.` tells us, it was defined in the numpy package.\n",
    "   \n",
    "   - `ndarray` - stands for _n-dimensional_ array.  \n",
    "   \n",
    "\n",
    "## Creating n-dimensional array\n",
    "-- --\n",
    "\n",
    "To create an n-dimensional numpy array, (say) a two-dimensional array we follow this template:\n",
    "\n",
    "```\n",
    "variable = np.arary( [ [elem1, elem2, ... , elem(n-j)], [elem1, elem2, ... , elem(n-k)] ] )```"
   ]
  },
  {
   "cell_type": "code",
   "execution_count": 19,
   "metadata": {
    "collapsed": false
   },
   "outputs": [
    {
     "name": "stdout",
     "output_type": "stream",
     "text": [
      "[[ 1  2  3  4  5  6  7]\n",
      " [ 8  9 10 11 12 13 14]]\n",
      "<class 'numpy.ndarray'>\n"
     ]
    },
    {
     "data": {
      "text/plain": [
       "' \\n\\n+ The output is of rectangualar data structure.\\n\\n+ Each sublist ~ \"row\" in the 2D arary.\\n\\n'"
      ]
     },
     "execution_count": 19,
     "metadata": {},
     "output_type": "execute_result"
    }
   ],
   "source": [
    "import numpy as np\n",
    "\n",
    "# e.e. create a 2d array\n",
    "np_2d = np.array([ [1, 2, 3, 4, 5, 6, 7 ], \n",
    "                  [ 8, 9,10, 11, 12, 13, 14] ])\n",
    "\n",
    "# print np_2d\n",
    "print( np_2d )\n",
    "print( type( np_2d ) )\n",
    "\n",
    "\"\"\" \n",
    "\n",
    "+ The output is of rectangualar data structure.\n",
    "\n",
    "+ Each sublist ~ \"row\" in the 2D arary.\n",
    "\n",
    "\"\"\""
   ]
  },
  {
   "cell_type": "markdown",
   "metadata": {},
   "source": [
    "**Shape of n-dimensional array**\n",
    "-- --\n",
    "\n",
    "We can also look the type of structure our n-dimensional array object is, by calling the `shape` on the array itself.\n",
    "\n",
    "`< array_name > . shape`\n",
    "\n",
    "   - `shape` is a _attribute_ which gives us more information about the structure of the data structure.\n",
    "-- --   \n",
    "**Note: **\n",
    "\n",
    "+ _All rules of numpy arrays also apply to multi-dimensional arrays as well._\n",
    "\n",
    "\n",
    "+ i.e. an array can only contain a _single type_.\n",
    "\n",
    "\n",
    "+ If we change a (say) float elem to string, _all array elements will be coerced to \"strings\"_.\n",
    "\n",
    "    - i.e. we end up with the homogenous array!\n",
    " \n",
    "\n",
    "+ Can think of them as _improved list-of-list_."
   ]
  },
  {
   "cell_type": "code",
   "execution_count": 10,
   "metadata": {
    "collapsed": false
   },
   "outputs": [
    {
     "data": {
      "text/plain": [
       "(2, 7)"
      ]
     },
     "execution_count": 10,
     "metadata": {},
     "output_type": "execute_result"
    }
   ],
   "source": [
    "# check the shape of the previously created numpy array\n",
    "np_2d.shape"
   ]
  },
  {
   "cell_type": "markdown",
   "metadata": {},
   "source": [
    "**Subsetting on n-dimensional arrays**\n",
    "-- --\n",
    "\n",
    "As discussed earlier, Numpy n-dimensional arrays share all rules as that of Python array and some of it's own as well.\n",
    "\n",
    "We can subset them as well, but this time it's a little bit different, here's how:\n",
    "\n",
    "```N-dimensional_array_name[ < row index of desired elem > ] [ < coloumn index of desired elem > ]```\n",
    "\n",
    "\n",
    "Alternative,\n",
    "\n",
    "```N-dimensional_array_name[ < row index> , < col index > ]```"
   ]
  },
  {
   "cell_type": "code",
   "execution_count": 18,
   "metadata": {
    "collapsed": false
   },
   "outputs": [
    {
     "name": "stdout",
     "output_type": "stream",
     "text": [
      "Two rows and two coloumns: \n",
      "[[ 2  3]\n",
      " [ 9 10]]\n",
      "\n",
      "The 1st row at index 0 is: [1 2 3 4 5 6 7]\n"
     ]
    }
   ],
   "source": [
    "# subset a row and coloumn\n",
    "\n",
    "\"\"\"\n",
    "+ Colon before comma specifies both rows.\n",
    "+ Then follows the usual subsetting of any list.\n",
    "+ Since we only wan't the 2nd and 3rd coloumn, hence\n",
    "  we put the indices 1 to 3.\n",
    "  \n",
    "  - Remember, the 3rd index is not computed.\n",
    "  \n",
    "+ The \"intersection\" gives us two rows and colomns.\n",
    "\n",
    "\"\"\"\n",
    "\n",
    "print(\"Two rows and two coloumns: \\n\" + str(np_2d[:, 1:3]))\n",
    "\n",
    "# Select a row completely\n",
    "\"\"\"\n",
    "Here's are n-dimensional array:\n",
    "\n",
    "col:   0  1  2  3  4  5  6\n",
    "       ^  ^  ^  ^  ^  ^  ^       \n",
    "   [ [ 1  2  3  4  5  6  7 ]    ----- row 0\n",
    "     [ 8  9 10 11 12 13 14 ] ]  ----- row 1\n",
    "\n",
    "i.e we want the whole 1st row 2( index 0 )\n",
    "\"\"\"\n",
    "print(\"\\nThe 1st row at index 0 is: \" + str( np_2d[ 0, :]) )  # second row and coloumns"
   ]
  },
  {
   "cell_type": "markdown",
   "metadata": {},
   "source": [
    "## Exercise:\n",
    "-- --\n",
    "\n",
    "**RQ1: **_What charaterizes multi-dimensional Numpy arrays?_\n",
    "\n",
    "**Ans: **You can create a 2D Numpy array from a regular list of lists.\n",
    "-- --\n",
    "**RQ2: **You created the following 2D Numpy array, `x`:\n",
    "\n",
    "```\n",
    "    import numpy as np\n",
    "    x = np.array([\"a\", \"b\", \"c\", \"d\"],\n",
    "                 [\"e\", \"f\", \"g\", \"h\"] ] )```\n",
    "\n",
    "_Which Python command do you use to select the string \"g\" from x?_\n",
    "\n",
    "**Ans: **`x[1, 2]`\n",
    "\n",
    "-- --\n",
    "**RQ3: **_What does the resulting array z contain after executing the following lines of Python code?_\n",
    "\n",
    "\n",
    "```\n",
    "    import numpy as np\n",
    "    x = np.array([[1, 2, 3],\n",
    "                  [1, 2, 3]])\n",
    "    y = np.array([[1, 1, 1],\n",
    "                  [1, 2, 3]])\n",
    "    z = x - y```\n",
    "    \n",
    "**Ans: **Since the arithematic operations on a two even on a 1D array is done element wise, same goes for ND arrays, i.e. rules are all the same.\n",
    "\n",
    "```\n",
    "    import numpy as np\n",
    "    x = np.array([[1, 2, 3],\n",
    "                  [1, 2, 3]])\n",
    "    y = np.array([[1, 1, 1],\n",
    "                  [1, 2, 3]])\n",
    "    z = x - y```\n",
    "-- --"
   ]
  },
  {
   "cell_type": "code",
   "execution_count": null,
   "metadata": {
    "collapsed": true
   },
   "outputs": [],
   "source": []
  }
 ],
 "metadata": {
  "anaconda-cloud": {},
  "kernelspec": {
   "display_name": "Python [default]",
   "language": "python",
   "name": "python3"
  },
  "language_info": {
   "codemirror_mode": {
    "name": "ipython",
    "version": 3
   },
   "file_extension": ".py",
   "mimetype": "text/x-python",
   "name": "python",
   "nbconvert_exporter": "python",
   "pygments_lexer": "ipython3",
   "version": "3.5.2"
  }
 },
 "nbformat": 4,
 "nbformat_minor": 1
}
