{
 "cells": [
  {
   "cell_type": "markdown",
   "metadata": {
    "collapsed": true
   },
   "source": [
    "![Banner Here!]()"
   ]
  },
  {
   "cell_type": "markdown",
   "metadata": {},
   "source": [
    "## List Recap\n",
    "-- --\n",
    "+ Powerful\n",
    "\n",
    "+ COllection of values\n",
    "\n",
    "+ Hold different types\n",
    "\n",
    "+ Change, add, remove\n",
    "-- --\n",
    "**The Problem:**\n",
    "\n",
    "But there's one feature is missing, when analyzing data, the need for Data Science is to:\n",
    "\n",
    "+ Perform mathematical operations over collections of values.\n",
    "\n",
    "\n",
    "+ Speed\n",
    "\n",
    "Unfortunatly list don't support both of these issues and here's why:\n",
    "\n",
    "e.g:"
   ]
  },
  {
   "cell_type": "code",
   "execution_count": 2,
   "metadata": {
    "collapsed": false
   },
   "outputs": [
    {
     "ename": "TypeError",
     "evalue": "unsupported operand type(s) for ** or pow(): 'list' and 'int'",
     "output_type": "error",
     "traceback": [
      "\u001b[0;31m---------------------------------------------------------------------------\u001b[0m",
      "\u001b[0;31mTypeError\u001b[0m                                 Traceback (most recent call last)",
      "\u001b[0;32m<ipython-input-2-ee8cd1551509>\u001b[0m in \u001b[0;36m<module>\u001b[0;34m()\u001b[0m\n\u001b[1;32m      6\u001b[0m \u001b[1;33m\u001b[0m\u001b[0m\n\u001b[1;32m      7\u001b[0m \u001b[1;31m# Now if we go to calculate BMI\u001b[0m\u001b[1;33m\u001b[0m\u001b[1;33m\u001b[0m\u001b[0m\n\u001b[0;32m----> 8\u001b[0;31m \u001b[0mweight\u001b[0m \u001b[1;33m/\u001b[0m \u001b[0mheight\u001b[0m \u001b[1;33m**\u001b[0m \u001b[1;36m2\u001b[0m\u001b[1;33m\u001b[0m\u001b[0m\n\u001b[0m",
      "\u001b[0;31mTypeError\u001b[0m: unsupported operand type(s) for ** or pow(): 'list' and 'int'"
     ]
    }
   ],
   "source": [
    "# some random heights of the family\n",
    "height = [1.75, 1.65, 1.71, 1.89, 1.79]\n",
    "\n",
    "# some random weights of the family\n",
    "weight = [65.4, 59.2, 63.6, 88.4, 68.7]\n",
    "\n",
    "# Now if we go to calculate BMI\n",
    "weight / height ** 2"
   ]
  },
  {
   "cell_type": "markdown",
   "metadata": {},
   "source": [
    "## Solution : Numpy\n",
    "-- --\n",
    "\n",
    "+ Numric Python or simply \"numpy\".\n",
    "\n",
    "\n",
    "+ An alternative to python list: Numpy Array.\n",
    "\n",
    "\n",
    "+ calculation is performed over entire arrays( element wise )\n",
    "\n",
    "\n",
    "+ Easy and Fast.\n",
    "-- --\n",
    "\n",
    "**Importing Numpy**\n",
    "\n",
    "Syntax: `import numpy`"
   ]
  },
  {
   "cell_type": "code",
   "execution_count": 5,
   "metadata": {
    "collapsed": false
   },
   "outputs": [],
   "source": [
    "import numpy as np # selective import"
   ]
  },
  {
   "cell_type": "code",
   "execution_count": 16,
   "metadata": {
    "collapsed": false
   },
   "outputs": [
    {
     "data": {
      "text/plain": [
       "numpy.ndarray"
      ]
     },
     "execution_count": 16,
     "metadata": {},
     "output_type": "execute_result"
    }
   ],
   "source": [
    "# Convet the followoing list to numpy arrays\n",
    "height = [1.75, 1.65, 1.71, 1.89, 1.79]\n",
    "\n",
    "weight = [65.4, 59.2, 63.6, 88.4, 68.7]\n",
    "\n",
    "np_height = np.array( height )\n",
    "np_weight = np.array( weight )\n",
    "\n",
    "# Let's confirm this as numpy arrray\n",
    "type(np_height)\n",
    "type(np_weight)"
   ]
  },
  {
   "cell_type": "code",
   "execution_count": 19,
   "metadata": {
    "collapsed": false
   },
   "outputs": [
    {
     "data": {
      "text/plain": [
       "array([ 21.35510204,  21.74471993,  21.75028214,  24.7473475 ,  21.44127836])"
      ]
     },
     "execution_count": 19,
     "metadata": {},
     "output_type": "execute_result"
    }
   ],
   "source": [
    "bmi = np_weight / np_height ** 2\n",
    "bmi"
   ]
  },
  {
   "cell_type": "markdown",
   "metadata": {},
   "source": [
    "**Note:**\n",
    "-- --\n",
    "+ _Numpy assumes that your array contain elements of same type._\n",
    "\n",
    "\n",
    "+ _If the arary contains elements of differnet types, then resulitng numpy array will converted to type `string`._\n",
    "\n",
    "\n",
    "+ _Numpy array should'nt be missclassified as an array, technically it a \"new data type\", just like `int`, `string`, `float` or `boolean`, and:_\n",
    "\n",
    "    - Comes packaged with it's own methods.\n",
    "    \n",
    "    - i.e. It can behave differently than you'd expect.\n",
    "-- --"
   ]
  },
  {
   "cell_type": "code",
   "execution_count": 20,
   "metadata": {
    "collapsed": false
   },
   "outputs": [
    {
     "data": {
      "text/plain": [
       "array(['1', '2.5', 'are different', 'True'], \n",
       "      dtype='<U32')"
      ]
     },
     "execution_count": 20,
     "metadata": {},
     "output_type": "execute_result"
    }
   ],
   "source": [
    "# A numpy arary with different types\n",
    "np.array( [1, 2.5, \"are different\", True ] )"
   ]
  },
  {
   "cell_type": "markdown",
   "metadata": {},
   "source": [
    "## Numpy : remarks\n",
    "-- --"
   ]
  },
  {
   "cell_type": "code",
   "execution_count": 23,
   "metadata": {
    "collapsed": false
   },
   "outputs": [
    {
     "data": {
      "text/plain": [
       "[1, 2, 3, 1, 2, 3]"
      ]
     },
     "execution_count": 23,
     "metadata": {},
     "output_type": "execute_result"
    }
   ],
   "source": [
    "# a simple python list\n",
    "py_list = [ 1, 2, 3 ]\n",
    "\n",
    "# a numpy array\n",
    "numpy_array = np.array([1, 2, 3])\n",
    "\n",
    "\"\"\" \n",
    "remarks:\n",
    "\n",
    "+ If we add py_list with itself, it will generate a list of\n",
    "  new length.\n",
    "  \n",
    "+ Whereas, if we add the numpy_array, it would perform,\n",
    "  \"element wise addition\"\n",
    "  \n",
    "Warning: \n",
    "\n",
    "Again be careful while using different python types in a numpy arary.\n",
    "  \n",
    "\"\"\"\n",
    "py_list + py_list"
   ]
  },
  {
   "cell_type": "code",
   "execution_count": 24,
   "metadata": {
    "collapsed": false
   },
   "outputs": [
    {
     "data": {
      "text/plain": [
       "array([2, 4, 6])"
      ]
     },
     "execution_count": 24,
     "metadata": {},
     "output_type": "execute_result"
    }
   ],
   "source": [
    "numpy_array + numpy_array"
   ]
  },
  {
   "cell_type": "markdown",
   "metadata": {},
   "source": [
    "## Numpy Subsetting\n",
    "-- --\n",
    "\n",
    "All the subsetting operation on a list, also get's performed on\n",
    "Numpy arrays, except for a few minor change, we look them now."
   ]
  },
  {
   "cell_type": "code",
   "execution_count": 41,
   "metadata": {
    "collapsed": false
   },
   "outputs": [
    {
     "name": "stdout",
     "output_type": "stream",
     "text": [
      "The bmi of the fourth element is: 24.7473474987\n",
      "\n",
      "The bmi's from 2nd to 3rd element is: [ 21.75028214  24.7473475 ]\n",
      "\n",
      "List of bmi have bmi larger than 23: [False False False  True False]\n",
      "\n",
      "The element with the largest bmi is: [ 24.7473475]\n"
     ]
    }
   ],
   "source": [
    "bmi\n",
    "\n",
    "# get the fourth elemnt from the numpy array \"bmi\"\n",
    "print(\"The bmi of the fourth element is: \" + str( bmi[3] ) )\n",
    "\n",
    "# slice and dice\n",
    "print(\"\\nThe bmi's from 2nd to 3rd element is: \" + str( bmi[2 : 4] ) )\n",
    "\n",
    "\"\"\" \n",
    "\n",
    "    Specifically for Numpy, there's another way to do list\n",
    "    subsetting via \"booleans\", here's how.\n",
    "\n",
    "\"\"\"\n",
    "\n",
    "print(\"\\nList of bmi have bmi larger than 23: \" + str( bmi > 23 ) )\n",
    "\n",
    "# Next, use this boolean arary to do subsetting\n",
    "\n",
    "print(\"\\nThe element with the largest bmi is: \" + str(bmi[ bmi > 23 ]) )"
   ]
  },
  {
   "cell_type": "markdown",
   "metadata": {},
   "source": [
    "## Exercise :\n",
    "-- --\n",
    "\n",
    "**RQ1: **_Which Numpy function do you use to create an array?_\n",
    "\n",
    "**Ans: **`array()`\n",
    "-- --\n",
    "\n",
    "**RQ2: **_Which two statements describe the advantage of Numpy Package over regular Python Lists?_\n",
    "\n",
    "**Ans: **\n",
    "\n",
    "+ The Numpy Package provides the `array`, a data type that can be used to do element-wise calculations. \n",
    "\n",
    "\n",
    "+ Because Numpy arrays can only hold element of a single type,\n",
    "\n",
    "    - calculations on Numpy arrays can be carried out way faster than regular Python lists.\n",
    "-- --\n",
    "\n",
    "**RQ3: **_What is the resulting Numpy array z after executing the following lines of code?_\n",
    "\n",
    "```\n",
    "   import numpy as np\n",
    "   x = np.array([1, 2, 3])\n",
    "   y = np.array([3, 2, 1])\n",
    "   z = x + y\n",
    "```\n",
    "\n",
    "**Ans: **`array( [4, 4, 4] )`\n",
    "-- --\n",
    "\n",
    "**RQ4: **_What happens when you put an integer, a Boolean, and a string in the same Numpy array using the `array()` function?_\n",
    "\n",
    "**Ans: ** An array element is converted to `string`."
   ]
  },
  {
   "cell_type": "markdown",
   "metadata": {},
   "source": [
    "## Lab : Numpy\n",
    "-- --\n",
    "\n",
    "**Objective:**\n",
    "\n",
    "+ Parctice with Numpy\n",
    "\n",
    "+ Perform Calculations with it.\n",
    "\n",
    "+ Understand subtle difference b/w Numpy arrays and Python list.\n",
    "-- --"
   ]
  },
  {
   "cell_type": "markdown",
   "metadata": {},
   "source": [
    "**List of lab exercises:**\n",
    "-- --   \n",
    "+ Your first Numpy Arary -- 100xp, status : earned\n",
    "\n",
    "\n",
    "+ Baseball's player's height -- 100xp, status : earned\n",
    "\n",
    "\n",
    "+ Lightweight baseball players -- 100xp, status : earned\n",
    "\n",
    "\n",
    "+ Numpy Side Effects -- 50xp, status : earned\n",
    "\n",
    "\n",
    "+ Subsetting Numpy Arrays -- 100xp, status : earned\n",
    "-- --"
   ]
  },
  {
   "cell_type": "markdown",
   "metadata": {},
   "source": [
    "**1. Your First Numpy array**\n",
    "-- --"
   ]
  },
  {
   "cell_type": "code",
   "execution_count": 43,
   "metadata": {
    "collapsed": false
   },
   "outputs": [
    {
     "name": "stdout",
     "output_type": "stream",
     "text": [
      "[180 215 210 210 188 176 209 200]\n",
      "<class 'numpy.ndarray'>\n"
     ]
    }
   ],
   "source": [
    "\"\"\"\n",
    "Instructions: \n",
    "\n",
    "    + Import the \"numpy\" package as \"np\", so that you can refer to \"numpy\" with \"np\".\n",
    "    \n",
    "    + Use \"np.array()\" to create a Numpy array from \"baseball\". Name this array \"np_baseball\".\n",
    "    \n",
    "    + Print out the \"type of np_baseball\" to check that you got it right.\n",
    "\n",
    "\"\"\"\n",
    "# Create list baseball \n",
    "baseball = [180, 215, 210, 210, 188, 176, 209, 200]\n",
    "\n",
    "# Import the numpy package as np\n",
    "import numpy as np\n",
    "\n",
    "# Create a Numpy array from baseball: np_baseball\n",
    "np_baseball = np.array(baseball)\n",
    "print(np_baseball)\n",
    "\n",
    "# Print out type of np_baseball\n",
    "print(type( np_baseball) )"
   ]
  },
  {
   "cell_type": "markdown",
   "metadata": {},
   "source": [
    "**2. Baseball player's height**\n",
    "-- --\n",
    "\n",
    "Preface:\n",
    "\n",
    "You are a huge baseball fan. You decide to call the MLB (Major League Baseball) and ask around for some more statistics on the height of the main players. They pass along data on more than a thousand players, which is stored as a regular Python list: height. The height is expressed in inches. Can you make a Numpy array out of it and convert the units to centimeters?\n",
    "-- --"
   ]
  },
  {
   "cell_type": "code",
   "execution_count": 46,
   "metadata": {
    "collapsed": false
   },
   "outputs": [
    {
     "name": "stdout",
     "output_type": "stream",
     "text": [
      "The Height of the baseball players are: [ 1.75  1.65  1.71  1.89  1.79]\n",
      "\n",
      "The Height of the baseball players in meters are: [ 0.04445   0.04191   0.043434  0.048006  0.045466]\n"
     ]
    }
   ],
   "source": [
    "\"\"\"\n",
    "Instructions:\n",
    "\n",
    "    + Create a Numpy array from height. Name this new array np_height.\n",
    "\n",
    "    + Print \"np_height\".\n",
    "    \n",
    "    + Multiply \"np_height\" with 0.0254 to convert all height measurements from inches to meters. \n",
    "    \n",
    "        - Store the new values in a new array, \"np_height_m\".\n",
    "        \n",
    "    + Print out np_height_m and check if the output makes sense.\n",
    "\n",
    "\"\"\"\n",
    "\n",
    "# height is available as a regular list\n",
    "# http://wiki.stat.ucla.edu/socr/index.php/SOCR_Data_MLB_HeightsWeights#References\n",
    "\n",
    "# Import numpy\n",
    "import numpy as np\n",
    "\n",
    "# Create a Numpy array from height: np_height\n",
    "np_height = np.array( height )\n",
    "\n",
    "# Print out np_height\n",
    "print(\"The Height of the baseball players are: \" + str( np_height ) )\n",
    "\n",
    "# Convert np_height to m: np_height_m\n",
    "np_height_m = np_height * 0.0254   # a inch is 0.0245 meters\n",
    "\n",
    "# Print np_height_m\n",
    "print(\"\\nThe Height of the baseball players in meters are: \" + str( np_height_m ) )"
   ]
  },
  {
   "cell_type": "markdown",
   "metadata": {},
   "source": [
    "**3. Baseball player's BMI:**\n",
    "-- --\n",
    "\n",
    "Preface: \n",
    "\n",
    "The MLB also offers to let you analyze their weight data. Again, both are available as regular Python lists: `height` and `weight`. `height` is in inches and `weight` is in pounds.\n",
    "\n",
    "It's now possible to calculate the BMI of each baseball player. Python code to convert `height` to a Numpy array with the correct units is already available in the workspace. Follow the instructions step by step and finish the game!\n",
    "-- --"
   ]
  },
  {
   "cell_type": "code",
   "execution_count": 49,
   "metadata": {
    "collapsed": false
   },
   "outputs": [
    {
     "name": "stdout",
     "output_type": "stream",
     "text": [
      "\n",
      "The Bmi of all the baseball players are: [ 15014.11036781  15288.0386275   15291.94924605  17399.09301044\n",
      "  15074.69826837]\n"
     ]
    }
   ],
   "source": [
    "\"\"\"\n",
    "Instructions:\n",
    "\n",
    "    + Create a Numpy array from the weight list with the correct units.\n",
    "    \n",
    "        -  Multiply by 0.453592 to go from pounds to kilograms. \n",
    "        \n",
    "        - Store the resulting Numpy array as np_weight_kg.\n",
    "        \n",
    "    + Use np_height_m and np_weight_kg to calculate the BMI of each player. \n",
    "    \n",
    "        - Use the following equation: \n",
    "        \n",
    "          BMI = weight( kg ) / height( m )\n",
    "          \n",
    "        - Save the resulting numpy array as \"bmi\".\n",
    "        \n",
    "    + Print out \"bmi\".\n",
    "    \n",
    "\"\"\"\n",
    "# height and weight are available as a regular lists\n",
    "\n",
    "# Import numpy\n",
    "import numpy as np\n",
    "\n",
    "# Create array from height with correct units: np_height_m\n",
    "np_height_m = np.array(height) * 0.0254\n",
    "\n",
    "# Create array from weight with correct units: np_weight_kg \n",
    "np_weight_kg = np.array( weight ) * 0.453592\n",
    "\n",
    "# Calculate the BMI: bmi\n",
    "bmi = np_weight_kg / np_height_m ** 2\n",
    "\n",
    "# Print out bmi\n",
    "print(\"\\nThe Bmi of all the baseball players are: \" + str( bmi ) )\n"
   ]
  },
  {
   "cell_type": "markdown",
   "metadata": {},
   "source": [
    "**4. Leightweight baseball players:**\n",
    "-- --\n",
    "\n",
    "To subset both regular Python lists and Numpy arrays, you can use square brackets:\n",
    "\n",
    "```\n",
    "    x = [4 , 9 , 6, 3, 1]\n",
    "    x[1]\n",
    "    import numpy as np\n",
    "    y = np.array(x)\n",
    "    y[1]```\n",
    "        \n",
    "For Numpy specifically, you can also use boolean Numpy arrays:\n",
    "\n",
    "```\n",
    "    high = y > 5\n",
    "    y[high]```\n",
    "-- --"
   ]
  },
  {
   "cell_type": "code",
   "execution_count": 71,
   "metadata": {
    "collapsed": false,
    "scrolled": true
   },
   "outputs": [
    {
     "name": "stdout",
     "output_type": "stream",
     "text": [
      "\n",
      "Lightweight baseball players[False False False False False]\n",
      "[ 15014.11036781  15288.0386275   15291.94924605  17399.09301044\n",
      "  15074.69826837]\n"
     ]
    }
   ],
   "source": [
    "\"\"\" \n",
    "Instructions:\n",
    "\n",
    "    + Create a boolean Numpy array:\n",
    "    \n",
    "        - the element of the array should be \"True\",\n",
    "        \n",
    "        - If the corresponding baseball player's BMI is below 21.\n",
    "        \n",
    "        -  You can use the \"<\" operator for this\n",
    "        \n",
    "        - Name the array \"light\", Print the array \"light\".\n",
    "        \n",
    "        \n",
    "    + Print out a Numpy array with the BMIs of all baseball players whose BMI is below 21. \n",
    "    \n",
    "        - Use \"light\" inside square brackets to do a selection on the bmi array.\n",
    "\"\"\"\n",
    "# height and weight are available as a regular lists\n",
    "\n",
    "# Import numpy\n",
    "import numpy as np\n",
    "\n",
    "# Calculate the BMI: bmi\n",
    "np_height_m = np.array(height) * 0.0254\n",
    "np_weight_kg = np.array(weight) * 0.453592\n",
    "bmi = np_weight_kg / (np_height_m ** 2)\n",
    "\n",
    "# Create the light array\n",
    "light = np.array( bmi < 21 )\n",
    "\n",
    "# Print out light\n",
    "print(\"\\nLightweight baseball players\" + str( light ) )\n",
    "\n",
    "# Print out BMIs of all baseball players whose BMI is below 21\n",
    "print(bmi[ light < 21 ])"
   ]
  },
  {
   "cell_type": "markdown",
   "metadata": {},
   "source": [
    "-- --\n",
    "**5. Numpy Side Effect:**\n",
    "-- --\n",
    "\n",
    "Preface:\n",
    "\n",
    "+  Numpy arrays cannot contain elements with different types.\n",
    "\n",
    "\n",
    "+ If you try to build such a list, some of the elments' types are changed to end up with a homogenous list.\n",
    "    - This is known as _type coercion_.     \n",
    "\n",
    "\n",
    "+ Second, the typical arithmetic operators,\n",
    "\n",
    "    such as +, -, * and / have a different meaning for regular Python lists and Numpy arrays.\n",
    "-- --\n",
    "\n",
    "Have a look at this line:\n",
    "\n",
    "\n",
    "    ```In [1]: np.array([True, 1, 2]) + np.array([3, 4, False])\n",
    "       Out[1]: array([4, 5, 2])```\n",
    "       \n",
    "Here, the `+` operator is summing Numpy arrays element wise, as a result, the `True` element ~ 1 as integer, get's added to 3, a `int` to give off `4`, only to be later converted to a string. Same happens with all the othere two numbers.\n",
    "    \n",
    "_Which code chunk builds the exact same Python data structure?_\n",
    "\n",
    "**Ans: **`np.array([4, 3, 0]) + np.array([0, 2, 2])`.\n"
   ]
  },
  {
   "cell_type": "markdown",
   "metadata": {},
   "source": [
    "-- --\n",
    "**6. Subsetting Numpy Arrays:**\n",
    "-- --\n",
    "\n",
    "Luckily, subsetting the two, i.e. \"Python list\" and \"Numpy arrays\" behave similar while subsetting, wohoooo!\n"
   ]
  },
  {
   "cell_type": "code",
   "execution_count": 72,
   "metadata": {
    "collapsed": false
   },
   "outputs": [
    {
     "ename": "IndexError",
     "evalue": "index 50 is out of bounds for axis 0 with size 5",
     "output_type": "error",
     "traceback": [
      "\u001b[0;31m---------------------------------------------------------------------------\u001b[0m",
      "\u001b[0;31mIndexError\u001b[0m                                Traceback (most recent call last)",
      "\u001b[0;32m<ipython-input-72-2baeb4a975bb>\u001b[0m in \u001b[0;36m<module>\u001b[0;34m()\u001b[0m\n\u001b[1;32m     17\u001b[0m \u001b[1;33m\u001b[0m\u001b[0m\n\u001b[1;32m     18\u001b[0m \u001b[1;31m# Print out the weight at index 50\u001b[0m\u001b[1;33m\u001b[0m\u001b[1;33m\u001b[0m\u001b[0m\n\u001b[0;32m---> 19\u001b[0;31m \u001b[0mprint\u001b[0m\u001b[1;33m(\u001b[0m\u001b[0mnp_weight\u001b[0m\u001b[1;33m[\u001b[0m\u001b[1;36m50\u001b[0m\u001b[1;33m]\u001b[0m\u001b[1;33m)\u001b[0m\u001b[1;33m\u001b[0m\u001b[0m\n\u001b[0m\u001b[1;32m     20\u001b[0m \u001b[1;33m\u001b[0m\u001b[0m\n\u001b[1;32m     21\u001b[0m \u001b[1;31m# Print out sub-array of np_height: index 100 up to and including index 110\u001b[0m\u001b[1;33m\u001b[0m\u001b[1;33m\u001b[0m\u001b[0m\n",
      "\u001b[0;31mIndexError\u001b[0m: index 50 is out of bounds for axis 0 with size 5"
     ]
    }
   ],
   "source": [
    "\"\"\"\n",
    "Instructions:\n",
    "\n",
    "    + Subset np_weight: print out the element at index 50.\n",
    "    \n",
    "    + Print out a sub-array of np_height: It contains the elements at index 100 up to and including index 110\n",
    "\"\"\"\n",
    "\n",
    "# height and weight are available as a regular lists\n",
    "\n",
    "# Import numpy\n",
    "import numpy as np\n",
    "\n",
    "# Store weight and height lists as numpy arrays\n",
    "np_weight = np.array(weight)\n",
    "np_height = np.array(height)\n",
    "\n",
    "# Print out the weight at index 50\n",
    "# Ans: print(np_weight[50])\n",
    "\n",
    "# Print out sub-array of np_height: index 100 up to and including index 110\n",
    "# Ans: print(np_height[100 : 111])"
   ]
  }
 ],
 "metadata": {
  "kernelspec": {
   "display_name": "Python [default]",
   "language": "python",
   "name": "python3"
  },
  "language_info": {
   "codemirror_mode": {
    "name": "ipython",
    "version": 3
   },
   "file_extension": ".py",
   "mimetype": "text/x-python",
   "name": "python",
   "nbconvert_exporter": "python",
   "pygments_lexer": "ipython3",
   "version": "3.5.2"
  }
 },
 "nbformat": 4,
 "nbformat_minor": 1
}
